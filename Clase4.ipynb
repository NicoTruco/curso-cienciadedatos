{
 "cells": [
  {
   "cell_type": "code",
   "execution_count": 6,
   "id": "16b858b2",
   "metadata": {},
   "outputs": [
    {
     "name": "stdout",
     "output_type": "stream",
     "text": [
      "dato 0 = 146\n",
      "dato 1 = 123\n",
      "dato 2 = 45\n",
      "dato 3 = 1\n",
      "dato 4 = 23\n"
     ]
    }
   ],
   "source": [
    "#ejercicio for each#\n",
    "data=[146,123,45,1,23]\n",
    "i=0\n",
    "for numeros in data:\n",
    "    print (\"dato\",i,\"=\",numeros)\n",
    "    i+=1"
   ]
  },
  {
   "cell_type": "code",
   "execution_count": 14,
   "id": "47fdb4e8",
   "metadata": {},
   "outputs": [
    {
     "name": "stdout",
     "output_type": "stream",
     "text": [
      "el perro es raza kiltro y es de color cafe\n",
      "el perro es raza labrador y es de color blanco\n",
      "el perro es raza poodle y es de color verde\n",
      "el perro es raza chihuahua y es de color amarillo\n"
     ]
    }
   ],
   "source": [
    "#destructuración#\n",
    "perros={\"kiltro\":\"cafe\"\n",
    "       ,\"labrador\":\"blanco\"\n",
    "       ,\"poodle\":\"verde\"\n",
    "       ,\"chihuahua\":\"amarillo\"}\n",
    "for raza,color in perros.items():\n",
    "    print(\"el perro es raza\",raza,\"y es de color\",color)\n",
    "    "
   ]
  },
  {
   "cell_type": "code",
   "execution_count": 15,
   "id": "e84f162b",
   "metadata": {},
   "outputs": [
    {
     "name": "stdout",
     "output_type": "stream",
     "text": [
      "X,Y 1 Valor y 5\n",
      "X,Y 1 Valor y 6\n",
      "X,Y 1 Valor y 7\n",
      "X,Y 1 Valor y 8\n",
      "X,Y 1 Valor y 9\n",
      "X,Y 2 Valor y 5\n",
      "X,Y 2 Valor y 6\n",
      "X,Y 3 Valor y 5\n",
      "X,Y 3 Valor y 6\n",
      "X,Y 3 Valor y 7\n",
      "X,Y 3 Valor y 8\n",
      "X,Y 3 Valor y 9\n"
     ]
    }
   ],
   "source": [
    "#forbreak#\n",
    "def forBreak():\n",
    "    for x in range(1,4):\n",
    "        for y in range(5,10):\n",
    "            print(\"X,Y\", x, \"Valor y\",y)\n",
    "# Break corta solo el For más cercano\n",
    "            if x == 2 and y == 6: \n",
    "                break\n",
    "\n",
    "# Testeamos la aplicación \n",
    "forBreak()\n"
   ]
  },
  {
   "cell_type": "code",
   "execution_count": null,
   "id": "a7f5ad4b",
   "metadata": {},
   "outputs": [],
   "source": []
  }
 ],
 "metadata": {
  "kernelspec": {
   "display_name": "Python 3",
   "language": "python",
   "name": "python3"
  },
  "language_info": {
   "codemirror_mode": {
    "name": "ipython",
    "version": 3
   },
   "file_extension": ".py",
   "mimetype": "text/x-python",
   "name": "python",
   "nbconvert_exporter": "python",
   "pygments_lexer": "ipython3",
   "version": "3.8.8"
  }
 },
 "nbformat": 4,
 "nbformat_minor": 5
}

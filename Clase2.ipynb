{
 "cells": [
  {
   "cell_type": "code",
   "execution_count": 3,
   "id": "ee73b5fc",
   "metadata": {},
   "outputs": [
    {
     "name": "stdout",
     "output_type": "stream",
     "text": [
      "sacar manguera\n",
      "dar el agua\n",
      "sacar manguera\n",
      "dar el agua\n"
     ]
    }
   ],
   "source": [
    "#ejercicio 01#\n",
    "#definir conjunto de acciones y repites las veces que necesitas#\n",
    "def regar():\n",
    "    print(\"sacar manguera\")\n",
    "    print(\"dar el agua\")\n",
    "regar()\n",
    "regar()\n"
   ]
  },
  {
   "cell_type": "code",
   "execution_count": 10,
   "id": "8a23d9ce",
   "metadata": {},
   "outputs": [
    {
     "name": "stdout",
     "output_type": "stream",
     "text": [
      "cuenta persona 1\n",
      "cuenta persona 2\n",
      "cuenta persona 3\n",
      "cuenta persona 4\n"
     ]
    }
   ],
   "source": [
    "#ejercicio 02#\n",
    "#definir variable en metodo variable#\n",
    "def cuentapersonas(cuantos):\n",
    "    for x in range (cuantos):\n",
    "        print(\"cuenta persona\",x+1)\n",
    "cuentapersonas(4)\n",
    "\n",
    "        "
   ]
  },
  {
   "cell_type": "code",
   "execution_count": 24,
   "id": "349563a9",
   "metadata": {},
   "outputs": [
    {
     "name": "stdout",
     "output_type": "stream",
     "text": [
      "la suma es 8\n",
      "la resta es -2\n",
      "la multiplicación es 15\n",
      "la division es 0.6\n"
     ]
    }
   ],
   "source": [
    "#ejercicio 03#\n",
    "def suma(n1,n2):\n",
    "    sumatotal=n1+n2\n",
    "    return sumatotal\n",
    "def resta(n1,n2):\n",
    "    restatotal=n1-n2\n",
    "    return restatotal\n",
    "def multiplicar(n1,n2):\n",
    "    multiplicartotal=n1*n2\n",
    "    return multiplicartotal\n",
    "def division(n1,n2):\n",
    "    divisiontotal=n1/n2\n",
    "    return divisiontotal\n",
    "sumatotal=suma(3,5)\n",
    "restatotal=resta(3,5)\n",
    "multiplicartotal=multiplicar(3,5)\n",
    "divisiontotal=division(3,5)\n",
    "print(\"la suma es\",sumatotal)\n",
    "print(\"la resta es\",restatotal)\n",
    "print(\"la multiplicación es\",multiplicartotal)\n",
    "print(\"la division es\", divisiontotal)"
   ]
  },
  {
   "cell_type": "code",
   "execution_count": 26,
   "id": "90290946",
   "metadata": {},
   "outputs": [
    {
     "name": "stdout",
     "output_type": "stream",
     "text": [
      "12\n"
     ]
    }
   ],
   "source": [
    "#ejercicio 04#\n",
    "#crear variable dentro de metodo#\n",
    "def suma(n1,n2,n3):\n",
    "    return n1+n2+n3\n",
    "sumatotal=suma(3,4,5)\n",
    "print(sumatotal)"
   ]
  },
  {
   "cell_type": "code",
   "execution_count": 32,
   "id": "51eedca9",
   "metadata": {},
   "outputs": [
    {
     "ename": "TypeError",
     "evalue": "Reptil() takes no arguments",
     "output_type": "error",
     "traceback": [
      "\u001b[1;31m---------------------------------------------------------------------------\u001b[0m",
      "\u001b[1;31mTypeError\u001b[0m                                 Traceback (most recent call last)",
      "\u001b[1;32m<ipython-input-32-76d86ceb200f>\u001b[0m in \u001b[0;36m<module>\u001b[1;34m\u001b[0m\n\u001b[0;32m      9\u001b[0m         \u001b[0mself\u001b[0m\u001b[1;33m.\u001b[0m\u001b[0mhabitat\u001b[0m\u001b[1;33m=\u001b[0m\u001b[0mhabitat\u001b[0m\u001b[1;33m\u001b[0m\u001b[1;33m\u001b[0m\u001b[0m\n\u001b[0;32m     10\u001b[0m         \u001b[0mself\u001b[0m\u001b[1;33m.\u001b[0m\u001b[0malimento\u001b[0m\u001b[1;33m=\u001b[0m\u001b[0malimento\u001b[0m\u001b[1;33m\u001b[0m\u001b[1;33m\u001b[0m\u001b[0m\n\u001b[1;32m---> 11\u001b[1;33m \u001b[0mr1\u001b[0m\u001b[1;33m=\u001b[0m\u001b[0mReptil\u001b[0m\u001b[1;33m(\u001b[0m\u001b[1;34m\"cocodrilo\"\u001b[0m\u001b[1;33m,\u001b[0m\u001b[1;34m\"pantano\"\u001b[0m\u001b[1;33m,\u001b[0m\u001b[1;34m\"carne\"\u001b[0m\u001b[1;33m)\u001b[0m\u001b[1;33m\u001b[0m\u001b[1;33m\u001b[0m\u001b[0m\n\u001b[0m\u001b[0;32m     12\u001b[0m \u001b[0mr2\u001b[0m\u001b[1;33m=\u001b[0m\u001b[0mReptil\u001b[0m\u001b[1;33m(\u001b[0m\u001b[1;34m\"iguana\"\u001b[0m\u001b[1;33m,\u001b[0m\u001b[1;34m\"selva\"\u001b[0m\u001b[1;33m,\u001b[0m\u001b[1;34m\"insecto\"\u001b[0m\u001b[1;33m)\u001b[0m\u001b[1;33m\u001b[0m\u001b[1;33m\u001b[0m\u001b[0m\n\u001b[0;32m     13\u001b[0m \u001b[1;33m\u001b[0m\u001b[0m\n",
      "\u001b[1;31mTypeError\u001b[0m: Reptil() takes no arguments"
     ]
    }
   ],
   "source": [
    "#ejercicio 05#\n",
    "#clases#\n",
    "class Reptil:\n",
    "    tipo=\"\"\n",
    "    habitat=\"\"\n",
    "    alimento=\"\"\n",
    "r1=Reptil()\n",
    "r2=Reptil()\n",
    "\n",
    "r1.tipo=\"cocodrilo\"\n",
    "r1.habitat=\"pantano\"\n",
    "r1.alimento=\"carne\"\n",
    "\n",
    "r2.tipo=\"iguana\"\n",
    "r2.habitat=\"selva\"\n",
    "r2.alimento=\"insecto\"\n",
    "\n",
    "print(\"tipo\",r2.tipo)"
   ]
  },
  {
   "cell_type": "code",
   "execution_count": 3,
   "id": "7d6769e6",
   "metadata": {},
   "outputs": [
    {
     "name": "stdout",
     "output_type": "stream",
     "text": [
      "pantano\n"
     ]
    }
   ],
   "source": [
    "#ejercicio 06#\n",
    "#constructores: permite integrar parametros al definir conjunto y obligar el llenado de datos#\n",
    "class Reptil:\n",
    "    tipo=\"\"\n",
    "    habitat=\"\"\n",
    "    alimento=\"\"\n",
    "    def __init__(self,tipo,habitat,alimento):#va con dos guiones bajos#\n",
    "        self.tipo=tipo\n",
    "        self.habitat=habitat\n",
    "        self.alimento=alimento\n",
    "\n",
    "r1=Reptil(\"cocodrilo\",\"pantano\",\"carne\")\n",
    "r2=Reptil(\"iguana\",\"selva\",\"insecto\")\n",
    "\n",
    "print(r1.habitat)\n"
   ]
  },
  {
   "cell_type": "code",
   "execution_count": null,
   "id": "120f939c",
   "metadata": {},
   "outputs": [],
   "source": []
  }
 ],
 "metadata": {
  "kernelspec": {
   "display_name": "Python 3",
   "language": "python",
   "name": "python3"
  },
  "language_info": {
   "codemirror_mode": {
    "name": "ipython",
    "version": 3
   },
   "file_extension": ".py",
   "mimetype": "text/x-python",
   "name": "python",
   "nbconvert_exporter": "python",
   "pygments_lexer": "ipython3",
   "version": "3.8.8"
  }
 },
 "nbformat": 4,
 "nbformat_minor": 5
}

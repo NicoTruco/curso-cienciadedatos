{
 "cells": [
  {
   "cell_type": "markdown",
   "id": "2d8da1b4",
   "metadata": {},
   "source": [
    "Usar la libreria pandas.\n",
    "\n",
    "\n",
    "Crear 2 listas\n",
    "\n",
    "\n",
    "Crear un diccionario en base a esas 2 listas\n",
    "\n",
    "\n",
    "Transformar ese diccionario en un DataFrame\n",
    "\n",
    "\n",
    "Dar ejemplos de cómo acceder a la información dentro del data Frame."
   ]
  },
  {
   "cell_type": "code",
   "execution_count": 30,
   "id": "84aab5dd",
   "metadata": {},
   "outputs": [
    {
     "name": "stdout",
     "output_type": "stream",
     "text": [
      "peso kiltro promedio es:\n",
      "peso promedio    15\n",
      "Name: Kiltro, dtype: int64\n",
      "------------------\n",
      "peso doberman promedio es:\n",
      "peso promedio    35\n",
      "Name: Doberman, dtype: int64\n",
      "------------------\n",
      "promedio de los pesos:\n",
      "peso promedio    21.5\n",
      "dtype: float64\n",
      "------------------\n"
     ]
    },
    {
     "data": {
      "text/plain": [
       "<AxesSubplot:>"
      ]
     },
     "execution_count": 30,
     "metadata": {},
     "output_type": "execute_result"
    },
    {
     "data": {
      "image/png": "[encoded data removed]",
      "text/plain": [
       "<Figure size 432x288 with 1 Axes>"
      ]
     },
     "metadata": {
      "needs_background": "light"
     },
     "output_type": "display_data"
    }
   ],
   "source": [
    "import pandas as pd\n",
    "\n",
    "perros=[\"Kiltro\",\"Chihuahua\",\"Doberman\",\"Rotweiller\",\"Labrador\",\"Poodle\"]\n",
    "pesos_promedio=[15,5,35,30,40,4]\n",
    "\n",
    "info_perros=dict(zip(perros,pesos_promedio))\n",
    "df=pd.DataFrame(info_perros, index=[\"peso promedio\"])\n",
    "#ejemplos de obtencion de datos del dataframe#\n",
    "print(\"peso kiltro promedio es:\")\n",
    "print(df[\"Kiltro\"])\n",
    "print(\"------------------\")\n",
    "print(\"peso doberman promedio es:\")\n",
    "print(df[\"Doberman\"])\n",
    "print(\"------------------\")\n",
    "print(\"promedio de los pesos:\")\n",
    "promedio=df.mean(axis=1)\n",
    "print(promedio)\n",
    "print(\"------------------\")\n",
    "df.plot(kind=\"bar\")"
   ]
  },
  {
   "cell_type": "code",
   "execution_count": null,
   "id": "4a536f1c",
   "metadata": {},
   "outputs": [],
   "source": []
  }
 ],
 "metadata": {
  "kernelspec": {
   "display_name": "Python 3",
   "language": "python",
   "name": "python3"
  },
  "language_info": {
   "codemirror_mode": {
    "name": "ipython",
    "version": 3
   },
   "file_extension": ".py",
   "mimetype": "text/x-python",
   "name": "python",
   "nbconvert_exporter": "python",
   "pygments_lexer": "ipython3",
   "version": "3.8.8"
  }
 },
 "nbformat": 4,
 "nbformat_minor": 5
}

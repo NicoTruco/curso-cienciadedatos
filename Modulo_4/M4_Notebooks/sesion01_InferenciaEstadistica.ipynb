{
 "cells": [
  {
   "cell_type": "markdown",
   "metadata": {},
   "source": [
    "# Especialización en Ciencia de datos\n",
    "# Módulo Inferencia Estadística.\n",
    "\n",
    "\n",
    "\n",
    "## 1. Introducción.\n",
    "\n",
    "En DS, recolectamos y evaluamos datos para obtener conclusiones, aplicando para ello diversas técnicas de analisis. Algunas de estas conclusiones o descubrimientos pueden describirse fácilmente usando tablas y gráficos, lo que conocemos como **estadística descriptiva**. En muchos otros casos, necesitamos explorar una cantidad o variable *no observada* a partir de los datos disponibles, y estimar ciertos parámetros de una población a partir de una muestra representativa. En este caso, recurrimos a la **inferencia estadística**.\n",
    "\n",
    "\n",
    "\n",
    "El proceso de inferencia estadística concierne al desarrollo de procesos, métodos y teoremas que nos permiten extraer significado e información de data generada por procesos estocásticos (aleatorios).\n",
    "\n",
    "\n",
    "\n",
    "Tenemos una muestra de una población, y podemos calcular estadísticas descriptivas para ellas. ¿Pero son representativas de la población completa?\n",
    "No podemos predecir valores absolutos para otras muestras o mediciones, pero podemos hablar en el lenguaje de probabilidades.\n",
    "\n",
    "El objetivo de la inferencia estadística, es obtener conclusiones probabilísticas sobre los resultados que esperamos si volvemos  tomar los mismos datos.\n",
    "\n",
    "\n",
    "\n"
   ]
  },
  {
   "cell_type": "code",
   "execution_count": 1,
   "metadata": {},
   "outputs": [],
   "source": [
    "import pandas as pd # importamos el modulo\n",
    "import numpy as np\n",
    "import matplotlib.pyplot as plt\n",
    "from scipy import stats # importando scipy.stats\n"
   ]
  },
  {
   "cell_type": "code",
   "execution_count": null,
   "metadata": {},
   "outputs": [],
   "source": [
    "np.random.seed(2131982) # para poder replicar el random\n",
    "\n",
    "%matplotlib inline"
   ]
  },
  {
   "cell_type": "markdown",
   "metadata": {},
   "source": [
    "## Probabilidad - Ley de los grandes números"
   ]
  },
  {
   "cell_type": "markdown",
   "metadata": {},
   "source": [
    "La ley de grandes números, que junto con el Teorema del límite central, constituyen los cimientos de la teoría de probabilidad. Podemos formular esta ley de la siguiente manera: si se repite un experimento aleatorio, bajo las mismas condiciones, un número ilimitado de veces; y si estas repeticiones son independientes la una de la otra, entonces la frecuencia de veces que un evento A ocurra, convergerá con probabilidad 1 a un número que es igual a la probabilidad de que A ocurra en una sola repetición del experimento. Lo que esta ley nos enseña, es que la probabilidad subyacente de cualquier suceso aleatorio puede ser aprendido por medio de la experimentación, simplemente tendríamos que repetirlo una cantidad suficientemente grande de veces!. Un error que la gente suele cometer y asociar a esta ley, es la idea de que un evento tiene más posibilidades de ocurrir porque ha o no ha ocurrido recientemente. Esta idea de que las chances de un evento con una probabilidad fija, aumentan o disminuyen dependiendo de las ocurrencias recientes del evento, es un error que se conoce bajo el nombre de la falacia del apostador."
   ]
  },
  {
   "cell_type": "code",
   "execution_count": null,
   "metadata": {},
   "outputs": [],
   "source": [
    "# Ejemplo ley de grandes números\n",
    "# moneda p=1/2 cara=1 seca=0\n",
    "resultados = []\n",
    "for lanzamientos in range(1,10000):\n",
    "    lanzamientos = np.random.choice([0,1], lanzamientos) \n",
    "    caras = lanzamientos.mean()\n",
    "    resultados.append(caras)\n",
    "\n",
    "# graficamente\n",
    "df = pd.DataFrame({ 'lanzamientos' : resultados})\n",
    "\n",
    "df.plot(title='Ley de grandes números',color='r',figsize=(8, 6))\n",
    "plt.axhline(0.5)\n",
    "plt.xlabel(\"Número de lanzamientos\")\n",
    "plt.ylabel(\"frecuencia caras\")\n",
    "plt.show()"
   ]
  },
  {
   "cell_type": "code",
   "execution_count": null,
   "metadata": {},
   "outputs": [],
   "source": [
    "# moneda p=1/6 cara=1 seca=0\n",
    "resultados = []\n",
    "for lanzamientos in range(1,10000):\n",
    "    lanzamientos = np.random.choice([0,1], lanzamientos, p=[5/6, 1/6]) \n",
    "    caras = lanzamientos.mean()\n",
    "    resultados.append(caras)\n",
    "\n",
    "# graficamente\n",
    "df = pd.DataFrame({ 'lanzamientos' : resultados})\n",
    "\n",
    "df.plot(title='Ley de grandes números',color='r',figsize=(8, 6))\n",
    "plt.axhline(1/6)\n",
    "plt.xlabel(\"Número de lanzamientos\")\n",
    "plt.ylabel(\"frecuencia caras\")\n",
    "plt.show()"
   ]
  },
  {
   "cell_type": "markdown",
   "metadata": {},
   "source": [
    "## Probabilidad"
   ]
  },
  {
   "cell_type": "markdown",
   "metadata": {},
   "source": [
    "La paradoja del cumpleaños es un problema muy conocido en el campo de la teoría de probabilidad. Plantea las siguientes interesantes preguntas: ¿Cuál es la probabilidad de que, en un grupo de personas elegidas al azar, al menos dos de ellas habrán nacido el mismo día del año? ¿Cuántas personas son necesarias para asegurar una probabilidad mayor al 50%?. Excluyendo el 29 de febrero de nuestros cálculos y asumiendo que los restantes 365 días de posibles cumpleaños son igualmente probables, nos sorprendería darnos cuenta de que, en un grupo de sólo 23 personas, la probabilidad de que dos personas compartan la misma fecha de cumpleaños es mayor al 50%!.\n",
    "\n",
    "Esto ya nos dice algo respecto a nuestras chances en la apuesta con nuestro amigo, pero de todas formas calculemos la probabilidad en un grupo de 50 personas. Calcular la probabilidad de un cumpleaños duplicado puede parecer una tarea desalentadora. Pero ¿qué pasa con calcular la probabilidad de que no haya un cumpleaños duplicado? Esto es realmente una tarea más fácil. Especialmente si simplificamos el problema a un grupo muy pequeño. Supongamos que el grupo sólo tiene una persona, en ese caso, hay una probabilidad del 100% que esta persona no comparte un cumpleaños puesto que no hay nadie más quien compartir. Pero ahora podemos añadir una segunda persona al grupo. ¿Cuáles son las posibilidades de que tenga un cumpleaños diferente de esa persona? De hecho esto es bastante fácil, hay 364 otros días en el año, así que las posibilidades son 364/365. ¿Qué tal si agregamos una tercera persona al grupo? Ahora hay 363/365 días. Para obtener la probabilidad general de que no hay cumpleaños compartidos simplemente multiplicamos las probabilidades individuales. Si utilizamos este procedimiento, con la ayuda de Python podemos calcular fácilmente las probabilidades de un cumpleaños compartido en un grupo de 50 personas."
   ]
  },
  {
   "cell_type": "code",
   "execution_count": null,
   "metadata": {},
   "outputs": [],
   "source": [
    "\n",
    "# Ejemplo situación 2 La coincidencia de cumpleaños\n",
    "prob = 1.0\n",
    "asistentes = 50\n",
    "\n",
    "for i in range(asistentes):\n",
    "    prob = prob * (365-i)/365\n",
    "\n",
    "print(\"Probabilidad de que compartan una misma fecha de cumpleaños es {0:.2f}\"\n",
    "      .format(1 - prob))"
   ]
  },
  {
   "cell_type": "markdown",
   "metadata": {},
   "source": [
    "### Otro ejemplo"
   ]
  },
  {
   "cell_type": "markdown",
   "metadata": {},
   "source": [
    "Este problema, más conocido con el nombre de Monty Hall, también es un problema muy popular dentro de la teoría de probabilidad; y se destaca por su solución que a simple vista parece totalmente anti-intuitiva. Intuitivamente, es bastante sencillo que nuestra elección original (cuando hay tres puertas para elegir) tiene una probabilidad de 1/3 de ganar el concurso. Las cosas sin embargo se complican, cuando se descarta una puerta. Muchos dirían que ahora tenemos una probabilidad de 1/2 de ganar, seleccionando cualquiera de las dos puertas; pero este no es el caso. Un aspecto crítico del problema es darse cuenta de que la elección de la puerta a descartar por el presentador, no es una decisión al azar. El presentador puede descartar una puerta porque él sabe (a) qué puerta hemos seleccionado y (b) qué puerta tiene la ferrari. De hecho, en muchos casos, el presentador debe quitar una puerta específica. Por ejemplo, si seleccionamos la puerta 1 y el premio está detrás de la puerta 3, el presentador no tiene otra opción que retirar la puerta 2. Es decir, que la elección de la puerta a descartar está condicionada tanto por la puerta con el premio como por la puerta que seleccionamos inicialmente. Este hecho, cambia totalmente la naturaleza del juego, y hace que las probabilidades de ganar sean 2/3 si cambiamos de puerta!.\n",
    "\n"
   ]
  },
  {
   "cell_type": "code",
   "execution_count": 5,
   "metadata": {},
   "outputs": [],
   "source": [
    "# Ejemplo situación 2 ¿Que puerta elegir? (el problema Monty Hall)\n",
    "def elegir_puerta():\n",
    "    \"\"\"\n",
    "    Función para elegir una puerta. Devuelve 1, 2, o 3 en forma aleatoria.\n",
    "    \"\"\"\n",
    "    return np.random.randint(1,4)\n",
    "\n",
    "class MontyHall:\n",
    "    \"\"\"\n",
    "    Clase para modelar el problema de Monty Hall.\n",
    "    \"\"\"\n",
    "    def __init__(self):\n",
    "        \"\"\"\n",
    "        Crea la instancia del problema. \n",
    "        \"\"\"\n",
    "        # Elige una puerta en forma aleatoria.\n",
    "        self.puerta_ganadora = elegir_puerta()\n",
    "        # variables para la puerta elegida y la puerta descartada\n",
    "        self.puerta_elegida = None\n",
    "        self.puerta_descartada = None\n",
    " \n",
    "    def selecciona_puerta(self):\n",
    "        \"\"\"\n",
    "        Selecciona la puerta del concursante en forma aleatoria.\n",
    "        \"\"\"\n",
    "        self.puerta_elegida = elegir_puerta()\n",
    " \n",
    "    def descarta_puerta(self):\n",
    "        \"\"\"\n",
    "        Con este método el presentador descarta una de la puertas.\n",
    "        \"\"\"\n",
    "        # elegir puerta en forma aleatoria .\n",
    "        d = elegir_puerta()\n",
    "        # Si es al puerta ganadora o la del concursante, volver a elegir.\n",
    "        while d == self.puerta_ganadora or d == self.puerta_elegida:\n",
    "            d = elegir_puerta()\n",
    "        # Asignar el valor a puerta_descartada.\n",
    "        self.puerta_descartada = d\n",
    " \n",
    "    def cambiar_puerta(self):\n",
    "        \"\"\"\n",
    "        Cambia la puerta del concursante una vez que se elimino una puerta.\n",
    "        \"\"\"\n",
    "        # 1+2+3=6. Solo existe una puerta para elegir.\n",
    "        self.puerta_elegida = 6 - self.puerta_elegida - self.puerta_descartada\n",
    " \n",
    "    def gana_concursante(self):\n",
    "        \"\"\"\n",
    "        Determina si el concursante gana. \n",
    "        Devuelve True si gana, False si pierde.\n",
    "        \"\"\"\n",
    "        return self.puerta_elegida == self.puerta_ganadora\n",
    "            \n",
    " \n",
    "    def jugar(self, cambiar=True):\n",
    "        \"\"\"\n",
    "        Una vez que la clase se inicio, jugar el concurso.\n",
    " \n",
    "        'cambiar' determina si el concursante cambia su elección.\n",
    "        \"\"\"\n",
    "        # El concursante elige una puerta.\n",
    "        self.selecciona_puerta()\n",
    "        # El presentador elimina una puerta.\n",
    "        self.descarta_puerta()\n",
    "        # El concursante cambia su elección.\n",
    "        if cambiar:\n",
    "            self.cambiar_puerta()\n",
    "        # Determinar si el concursante ha ganado.\n",
    "        return self.gana_concursante()"
   ]
  },
  {
   "cell_type": "code",
   "execution_count": 3,
   "metadata": {},
   "outputs": [
    {
     "name": "stdout",
     "output_type": "stream",
     "text": [
      "\n",
      "10.000 concursos sin cambiar de puerta:\n",
      "  gana: 3288 concursos\n",
      "  pierde: 6712 concursos\n",
      "  probabilidad: 32.88 procentaje de victorias\n"
     ]
    }
   ],
   "source": [
    "# Ahora, jugamos el concurso. primero nos vamos a quedar con nuestra elección\n",
    "# inicial. Vamos a ejecutar el experimiento 10.000 veces.\n",
    "gana, pierde = 0, 0\n",
    "for i in range(10000):\n",
    "    # Crear la instancia del problema.\n",
    "    s2 = MontyHall()\n",
    "    # ejecutar el concurso sin cambiar de puerta..\n",
    "    if s2.jugar(cambiar=False):\n",
    "        # si devuelve True significa que gana.\n",
    "        gana += 1\n",
    "    else:\n",
    "        # si devuelve False significa que pierde.\n",
    "        pierde += 1\n",
    "\n",
    "# veamos la fecuencia de victorias del concursante.\n",
    "porc_gana = 100.0 * gana / (gana + pierde)\n",
    " \n",
    "print(\"\\n10.000 concursos sin cambiar de puerta:\")\n",
    "print(\"  gana: {0:} concursos\".format(gana))\n",
    "print(\"  pierde: {0:} concursos\".format(pierde))\n",
    "print(\"  probabilidad: {0:.2f} procentaje de victorias\".format(porc_gana))\n"
   ]
  },
  {
   "cell_type": "code",
   "execution_count": 4,
   "metadata": {},
   "outputs": [
    {
     "name": "stdout",
     "output_type": "stream",
     "text": [
      "\n",
      "10.000 concursos cambiando de puerta:\n",
      "  gana: 6540 concursos\n",
      "  pierde: 3460 concursos\n",
      "  probabilidad: 65.40 procentaje de victorias\n"
     ]
    }
   ],
   "source": [
    "# Ahora, jugamos el concurso siempre cambiando la elección inicial\n",
    "# Vamos a ejecutar el experimiento 10.000 veces.\n",
    "gana, pierde = 0, 0\n",
    "for i in range(10000):\n",
    "    # Crear la instancia del problema.\n",
    "    s2 = MontyHall()\n",
    "    # ejecutar el concurso sin cambiar de puerta..\n",
    "    if s2.jugar(cambiar=True):\n",
    "        # si devuelve True significa que gana.\n",
    "        gana += 1\n",
    "    else:\n",
    "        # si devuelve False significa que pierde.\n",
    "        pierde += 1\n",
    "\n",
    "# veamos la fecuencia de victorias del concursante.\n",
    "porc_gana = 100.0 * gana / (gana + pierde)\n",
    " \n",
    "print(\"\\n10.000 concursos cambiando de puerta:\")\n",
    "print(\"  gana: {0:} concursos\".format(gana))\n",
    "print(\"  pierde: {0:} concursos\".format(pierde))\n",
    "print(\"  probabilidad: {0:.2f} procentaje de victorias\".format(porc_gana))"
   ]
  },
  {
   "cell_type": "markdown",
   "metadata": {},
   "source": [
    "Como esta simulación lo demuestra, si utilizamos la estrategia de siempre cambiar de puerta, podemos ganar el concurso un 66% de las veces; mientras que si nos quedamos con nuestra elección inicial, solo ganaríamos el 33% de las veces."
   ]
  },
  {
   "cell_type": "markdown",
   "metadata": {},
   "source": [
    "## Probabilidad condicional\n",
    "\n",
    "Supongamos que tenemos dos monedas idénticas y perfectamente balanceadas. Si se lanza cada moneda una vez, encuentre:\n",
    "\n",
    "a) La probabilidad de que ambas monedas muestren cara, dado que la primera muestra cara.\n",
    "\n",
    "b) La probabilidad de que ambas monedas muestren cara, dado que al menos una de ellas muestra cara"
   ]
  },
  {
   "cell_type": "code",
   "execution_count": 5,
   "metadata": {},
   "outputs": [
    {
     "name": "stdout",
     "output_type": "stream",
     "text": [
      "La probabilidad condicional es 0.5\n"
     ]
    }
   ],
   "source": [
    "import numpy as np\n",
    "#inciso a\n",
    "\n",
    "#Se generan varias repeticiones del experimento\n",
    "n = int(1e6)\n",
    "resultados = np.random.choice(['cara','cruz'], size = (n,2))\n",
    "\n",
    "#Se obtienen los experimentos en los cuales la primera moneda es cara\n",
    "condicional = resultados[resultados[:,0] == 'cara']\n",
    "\n",
    "#Se obtienen los experimentos en donde las dos monedas son cara\n",
    "ambas_cara = resultados[np.logical_and(resultados[:,0] == 'cara',\n",
    "                                      resultados[:,1] == 'cara')]\n",
    "\n",
    "#Calcula la probabilidad condicional\n",
    "proba = ambas_cara.shape[0] / condicional.shape[0]\n",
    "print('La probabilidad condicional es', round(proba,2))"
   ]
  },
  {
   "cell_type": "code",
   "execution_count": 10,
   "metadata": {},
   "outputs": [
    {
     "data": {
      "text/plain": [
       "1000000"
      ]
     },
     "execution_count": 10,
     "metadata": {},
     "output_type": "execute_result"
    }
   ],
   "source": [
    "import numpy as np\n",
    "#inciso a\n",
    "\n",
    "#Se generan varias repeticiones del experimento\n",
    "n = int(1e6)\n",
    "resultados = np.random.choice(['cara','cruz'], size = (n,2))\n",
    "len(resultados)"
   ]
  },
  {
   "cell_type": "code",
   "execution_count": 6,
   "metadata": {},
   "outputs": [
    {
     "name": "stdout",
     "output_type": "stream",
     "text": [
      "La probabilidad condicional es 0.33\n"
     ]
    }
   ],
   "source": [
    "# inciso b\n",
    "#Se obtienen los experimentos en los cuales al menos una moneda es cara\n",
    "aux = np.logical_or(resultados[:,0] == 'cara',\n",
    "                                      resultados[:,1] == 'cara')\n",
    "condicional = resultados[aux]\n",
    "\n",
    "#Calcula la probabilidad condicional\n",
    "proba = ambas_cara.shape[0] / condicional.shape[0]\n",
    "print('La probabilidad condicional es', round(proba,2))"
   ]
  }
 ],
 "metadata": {
  "kernelspec": {
   "display_name": "Python 3",
   "language": "python",
   "name": "python3"
  },
  "language_info": {
   "codemirror_mode": {
    "name": "ipython",
    "version": 3
   },
   "file_extension": ".py",
   "mimetype": "text/x-python",
   "name": "python",
   "nbconvert_exporter": "python",
   "pygments_lexer": "ipython3",
   "version": "3.8.8"
  }
 },
 "nbformat": 4,
 "nbformat_minor": 4
}

{
 "cells": [
  {
   "cell_type": "markdown",
   "id": "74f05328-564a-48da-b9c3-9b67f58cfed0",
   "metadata": {},
   "source": [
    "## Graficando distribuciones"
   ]
  },
  {
   "cell_type": "markdown",
   "id": "0841b7e5-10d5-4b04-9719-c1fcb1cc60b1",
   "metadata": {},
   "source": [
    "### Histogramas"
   ]
  },
  {
   "cell_type": "markdown",
   "id": "203ee48e-d6ff-4fea-9d67-e9a16fe5dae7",
   "metadata": {},
   "source": [
    "Una de las mejores maneras de describir una variable es representar los valores que aparecen en el conjunto de datos y el número de veces que aparece cada valor. La representación más común de una distribución es un histograma, que es un gráfico que muestra la frecuencia de cada valor.\n",
    "\n",
    "En Python, podemos graficar fácilmente un histograma con la ayuda de la función hist de matplotlib, simplemente debemos pasarle los datos y la cantidad de contenedores en los que queremos dividirlos. Por ejemplo, podríamos graficar el histograma de una distribución normal del siguiente modo."
   ]
  },
  {
   "cell_type": "code",
   "execution_count": null,
   "id": "70044b64-a4da-42f5-aade-e2b147fffcde",
   "metadata": {},
   "outputs": [],
   "source": [
    "# importando modulos necesarios\n",
    "%matplotlib inline\n",
    "\n",
    "import matplotlib.pyplot as plt\n",
    "import numpy as np \n",
    "from scipy import stats \n",
    "import seaborn as sns \n",
    "\n",
    "np.random.seed(2016) # replicar random\n",
    "\n",
    "# parametros esteticos de seaborn\n",
    "sns.set_palette(\"deep\", desat=.6)\n",
    "sns.set_context(rc={\"figure.figsize\": (8, 4)})"
   ]
  },
  {
   "cell_type": "code",
   "execution_count": null,
   "id": "943b7d5e-dc94-4a42-a967-0331a8fdbf6a",
   "metadata": {},
   "outputs": [],
   "source": [
    "# Graficando histograma\n",
    "mu, sigma = 0, 0.2 # media y desvio estandar\n",
    "datos = np.random.normal(mu, sigma, 1000) #creando muestra de datos\n",
    "\n",
    "# histograma de distribución normal.\n",
    "cuenta, cajas, ignorar = plt.hist(datos, 20)\n",
    "plt.ylabel('frequencia')\n",
    "plt.xlabel('valores')\n",
    "plt.title('Histograma')\n",
    "plt.show()"
   ]
  },
  {
   "cell_type": "markdown",
   "id": "a5abe594-ca8a-4497-9b62-36ae75195954",
   "metadata": {},
   "source": [
    "### Función de masa de Probabilidad"
   ]
  },
  {
   "cell_type": "markdown",
   "id": "46b08b76-25f5-4b84-af43-9114d9c98232",
   "metadata": {},
   "source": [
    "Otra forma de representar a las distribuciones discretas es utilizando su Función de Masa de Probabilidad o FMP, la cual relaciona cada valor con su probabilidad en lugar de su frecuencia como vimos anteriormente. Esta función es normalizada de forma tal que el valor total de probabilidad sea 1. La ventaja que nos ofrece utilizar la FMP es que podemos comparar dos distribuciones sin necesidad de ser confundidos por las diferencias en el tamaño de las muestras. También debemos tener en cuenta que FMP funciona bien si el número de valores es pequeño; pero a medida que el número de valores aumenta, la probabilidad asociada a cada valor se hace cada vez más pequeña y el efecto del ruido aleatorio aumenta. Veamos un ejemplo con Python.Otra forma de representar a las distribuciones discretas es utilizando su Función de Masa de Probabilidad o FMP, la cual relaciona cada valor con su probabilidad en lugar de su frecuencia como vimos anteriormente. Esta función es normalizada de forma tal que el valor total de probabilidad sea 1. La ventaja que nos ofrece utilizar la FMP es que podemos comparar dos distribuciones sin necesidad de ser confundidos por las diferencias en el tamaño de las muestras. También debemos tener en cuenta que FMP funciona bien si el número de valores es pequeño; pero a medida que el número de valores aumenta, la probabilidad asociada a cada valor se hace cada vez más pequeña y el efecto del ruido aleatorio aumenta. Veamos un ejemplo con Python."
   ]
  },
  {
   "cell_type": "code",
   "execution_count": null,
   "id": "dc7f420d-f684-4501-8ca7-6ba55b19b088",
   "metadata": {},
   "outputs": [],
   "source": [
    "# Graficando FMP\n",
    "n, p = 30, 0.4 # parametros de forma de la distribución binomial\n",
    "n_1, p_1 = 20, 0.3 # parametros de forma de la distribución binomial\n",
    "x = np.arange(stats.binom.ppf(0.01, n, p),\n",
    "              stats.binom.ppf(0.99, n, p))\n",
    "x_1 = np.arange(stats.binom.ppf(0.01, n_1, p_1),\n",
    "              stats.binom.ppf(0.99, n_1, p_1))\n",
    "fmp = stats.binom.pmf(x, n, p) # Función de Masa de Probabilidad\n",
    "fmp_1 = stats.binom.pmf(x_1, n_1, p_1) # Función de Masa de Probabilidad\n",
    "plt.plot(x, fmp, '--')\n",
    "plt.plot(x_1, fmp_1)\n",
    "plt.vlines(x, 0, fmp, colors='b', lw=5, alpha=0.5)\n",
    "plt.vlines(x_1, 0, fmp_1, colors='g', lw=5, alpha=0.5)\n",
    "plt.title('Función de Masa de Probabilidad')\n",
    "plt.ylabel('probabilidad')\n",
    "plt.xlabel('valores')\n",
    "plt.show()"
   ]
  },
  {
   "cell_type": "markdown",
   "id": "364a8a36-b5f6-4083-8c98-172de80f3450",
   "metadata": {},
   "source": [
    "### Función de Distribución Acumulada"
   ]
  },
  {
   "cell_type": "markdown",
   "id": "5d40ca80-1495-400e-9031-e99d4593a58c",
   "metadata": {},
   "source": [
    "Si queremos evitar los problemas que se generan con FMP cuando el número de valores es muy grande, podemos recurrir a utilizar la Función de Distribución Acumulada o FDA, para representar a nuestras distribuciones, tanto discretas como continuas. Esta función relaciona los valores con su correspondiente percentil; es decir que va a describir la probabilidad de que una variable aleatoria X sujeta a cierta ley de distribución de probabilidad se sitúe en la zona de valores menores o iguales a x."
   ]
  },
  {
   "cell_type": "code",
   "execution_count": null,
   "id": "1c61ba9f-a1ed-4ca5-bd94-65e866fafbbb",
   "metadata": {},
   "outputs": [],
   "source": [
    "# Graficando Función de Distribución Acumulada con Python\n",
    "x_1 = np.linspace(stats.norm(10, 1.2).ppf(0.01),\n",
    "                  stats.norm(10, 1.2).ppf(0.99), 100)\n",
    "fda_binom = stats.binom.cdf(x, n, p) # Función de Distribución Acumulada\n",
    "fda_normal = stats.norm(10, 1.2).cdf(x_1) # Función de Distribución Acumulada\n",
    "plt.plot(x, fda_binom, '--', label='FDA binomial')\n",
    "plt.plot(x_1, fda_normal, label='FDA nomal')\n",
    "plt.title('Función de Distribución Acumulada')\n",
    "plt.ylabel('probabilidad')\n",
    "plt.xlabel('valores')\n",
    "plt.legend(loc=4)\n",
    "plt.show()"
   ]
  },
  {
   "cell_type": "markdown",
   "id": "b76e5322-930e-41dd-9ea7-4af364adf46f",
   "metadata": {},
   "source": [
    "### Fucnión de Densidad de Probabilidad"
   ]
  },
  {
   "cell_type": "markdown",
   "id": "12913163-2068-48ea-b3a2-7c7c3cd12614",
   "metadata": {},
   "source": [
    "Por último, el equivalente a la FMP para distribuciones continuas es la Función de Densidad de Probabilidad o FDP. Esta función es la derivada de la Función de Distribución Acumulada. Por ejemplo, para la distribución normal que graficamos anteriormente, su FDP es la siguiente. La típica forma de campana que caracteriza a esta distribución."
   ]
  },
  {
   "cell_type": "code",
   "execution_count": null,
   "id": "154364f7-e265-455e-bfce-73dca7fa9867",
   "metadata": {},
   "outputs": [],
   "source": [
    "\n",
    "# Graficando Función de Densidad de Probibilidad con Python\n",
    "FDP_normal = stats.norm(10, 1.2).pdf(x_1) # FDP\n",
    "plt.plot(x_1, FDP_normal, label='FDP nomal')\n",
    "plt.title('Función de Densidad de Probabilidad')\n",
    "plt.ylabel('probabilidad')\n",
    "plt.xlabel('valores')\n",
    "plt.show()"
   ]
  },
  {
   "cell_type": "markdown",
   "id": "81b1faa2-88f5-4587-942f-91b1dde2ba12",
   "metadata": {},
   "source": [
    "## Distribuciones Discretas"
   ]
  },
  {
   "cell_type": "markdown",
   "id": "74a48f8c-d0bd-4cd7-babd-46ec22afd940",
   "metadata": {},
   "source": [
    "### Distribución Poisson"
   ]
  },
  {
   "cell_type": "code",
   "execution_count": null,
   "id": "cffd763b-ee44-4e50-87a6-e27b2a96fcc0",
   "metadata": {},
   "outputs": [],
   "source": [
    "# Graficando Poisson\n",
    "mu =  3.6 # parametro de forma \n",
    "poisson = stats.poisson(mu) # Distribución\n",
    "x = np.arange(poisson.ppf(0.01),\n",
    "              poisson.ppf(0.99))\n",
    "fmp = poisson.pmf(x) # Función de Masa de Probabilidad\n",
    "plt.plot(x, fmp, '--')\n",
    "plt.vlines(x, 0, fmp, colors='b', lw=5, alpha=0.5)\n",
    "plt.title('Distribución Poisson')\n",
    "plt.ylabel('probabilidad')\n",
    "plt.xlabel('valores')\n",
    "plt.show()"
   ]
  },
  {
   "cell_type": "code",
   "execution_count": null,
   "id": "c020ab0b-6346-42d6-a07c-82175c6319dc",
   "metadata": {},
   "outputs": [],
   "source": [
    "# histograma\n",
    "aleatorios = poisson.rvs(1000)  # genera aleatorios\n",
    "cuenta, cajas, ignorar = plt.hist(aleatorios, 20)\n",
    "plt.ylabel('frequencia')\n",
    "plt.xlabel('valores')\n",
    "plt.title('Histograma Poisson')\n",
    "plt.show()"
   ]
  },
  {
   "cell_type": "markdown",
   "id": "ad5c5021-b99e-44fd-b35f-b2203aac11b2",
   "metadata": {},
   "source": [
    "### Distribución Binomial"
   ]
  },
  {
   "cell_type": "code",
   "execution_count": null,
   "id": "90c3bec8-e42a-4507-b191-84b459359d5a",
   "metadata": {},
   "outputs": [],
   "source": [
    "# Graficando Binomial\n",
    "N, p = 30, 0.4 # parametros de forma \n",
    "binomial = stats.binom(N, p) # Distribución\n",
    "x = np.arange(binomial.ppf(0.01),\n",
    "              binomial.ppf(0.99))\n",
    "fmp = binomial.pmf(x) # Función de Masa de Probabilidad\n",
    "plt.plot(x, fmp, '--')\n",
    "plt.vlines(x, 0, fmp, colors='b', lw=5, alpha=0.5)\n",
    "plt.title('Distribución Binomial')\n",
    "plt.ylabel('probabilidad')\n",
    "plt.xlabel('valores')\n",
    "plt.show()"
   ]
  },
  {
   "cell_type": "code",
   "execution_count": null,
   "id": "e17f8af3-ca07-4cf6-bd7e-15b61ad7d10c",
   "metadata": {},
   "outputs": [],
   "source": [
    "\n",
    "# histograma\n",
    "aleatorios = binomial.rvs(1000)  # genera aleatorios\n",
    "cuenta, cajas, ignorar = plt.hist(aleatorios, 20)\n",
    "plt.ylabel('frequencia')\n",
    "plt.xlabel('valores')\n",
    "plt.title('Histograma Binomial')\n",
    "plt.show()"
   ]
  },
  {
   "cell_type": "markdown",
   "id": "e6367aae-308d-406a-941c-c5341c7e8fc8",
   "metadata": {},
   "source": [
    "### Distribución Geométrica"
   ]
  },
  {
   "cell_type": "code",
   "execution_count": null,
   "id": "f19c6ad6-43df-493e-b2fa-26085e348c88",
   "metadata": {},
   "outputs": [],
   "source": [
    "\n",
    "# Graficando Geométrica\n",
    "p =  0.3 # parametro de forma \n",
    "geometrica = stats.geom(p) # Distribución\n",
    "x = np.arange(geometrica.ppf(0.01),\n",
    "              geometrica.ppf(0.99))\n",
    "fmp = geometrica.pmf(x) # Función de Masa de Probabilidad\n",
    "plt.plot(x, fmp, '--')\n",
    "plt.vlines(x, 0, fmp, colors='b', lw=5, alpha=0.5)\n",
    "plt.title('Distribución Geométrica')\n",
    "plt.ylabel('probabilidad')\n",
    "plt.xlabel('valores')\n",
    "plt.show()"
   ]
  },
  {
   "cell_type": "code",
   "execution_count": null,
   "id": "eeeda757-8038-449e-9e24-1cf4348625a8",
   "metadata": {},
   "outputs": [],
   "source": [
    "\n",
    "# histograma\n",
    "aleatorios = geometrica.rvs(1000)  # genera aleatorios\n",
    "cuenta, cajas, ignorar = plt.hist(aleatorios, 20)\n",
    "plt.ylabel('frequencia')\n",
    "plt.xlabel('valores')\n",
    "plt.title('Histograma Geométrica')\n",
    "plt.show()"
   ]
  },
  {
   "cell_type": "markdown",
   "id": "df102352-a813-421e-8b47-3b98f6d38197",
   "metadata": {},
   "source": [
    "### Distribución Hipergeométrica"
   ]
  },
  {
   "cell_type": "code",
   "execution_count": null,
   "id": "c6847fc6-6f14-405d-8577-5cb674959141",
   "metadata": {},
   "outputs": [],
   "source": [
    "# Graficando Hipergeométrica\n",
    "M, n, N = 30, 10, 12 # parametros de forma \n",
    "hipergeometrica = stats.hypergeom(M, n, N) # Distribución\n",
    "x = np.arange(0, n+1)\n",
    "fmp = hipergeometrica.pmf(x) # Función de Masa de Probabilidad\n",
    "plt.plot(x, fmp, '--')\n",
    "plt.vlines(x, 0, fmp, colors='b', lw=5, alpha=0.5)\n",
    "plt.title('Distribución Hipergeométrica')\n",
    "plt.ylabel('probabilidad')\n",
    "plt.xlabel('valores')\n",
    "plt.show()"
   ]
  },
  {
   "cell_type": "code",
   "execution_count": null,
   "id": "81e34053-7f3f-459b-b394-60b4dc011212",
   "metadata": {},
   "outputs": [],
   "source": [
    "# histograma\n",
    "aleatorios = hipergeometrica.rvs(1000)  # genera aleatorios\n",
    "cuenta, cajas, ignorar = plt.hist(aleatorios, 20)\n",
    "plt.ylabel('frequencia')\n",
    "plt.xlabel('valores')\n",
    "plt.title('Histograma Hipergeométrica')\n",
    "plt.show()\n"
   ]
  },
  {
   "cell_type": "markdown",
   "id": "10434a79-4f8a-4687-adba-394f9ff2e793",
   "metadata": {},
   "source": [
    "### Distribución de Bernoulli"
   ]
  },
  {
   "cell_type": "code",
   "execution_count": null,
   "id": "0de2cef5-f900-4b95-b93f-48e929623228",
   "metadata": {},
   "outputs": [],
   "source": [
    "\n",
    "# Graficando Bernoulli\n",
    "p =  0.5 # parametro de forma \n",
    "bernoulli = stats.bernoulli(p)\n",
    "x = np.arange(-1, 3)\n",
    "fmp = bernoulli.pmf(x) # Función de Masa de Probabilidad\n",
    "fig, ax = plt.subplots()\n",
    "ax.plot(x, fmp, 'bo')\n",
    "ax.vlines(x, 0, fmp, colors='b', lw=5, alpha=0.5)\n",
    "ax.set_yticks([0., 0.2, 0.4, 0.6])\n",
    "plt.title('Distribución Bernoulli')\n",
    "plt.ylabel('probabilidad')\n",
    "plt.xlabel('valores')\n",
    "plt.show()"
   ]
  },
  {
   "cell_type": "code",
   "execution_count": null,
   "id": "85c4fde4-7a9e-448c-b555-4316761419db",
   "metadata": {},
   "outputs": [],
   "source": [
    "# histograma\n",
    "aleatorios = bernoulli.rvs(1000)  # genera aleatorios\n",
    "cuenta, cajas, ignorar = plt.hist(aleatorios, 20)\n",
    "plt.ylabel('frequencia')\n",
    "plt.xlabel('valores')\n",
    "plt.title('Histograma Bernoulli')\n",
    "plt.show()"
   ]
  },
  {
   "cell_type": "markdown",
   "id": "908c5a26-ecb9-49a4-9b98-07bc603dc3ca",
   "metadata": {},
   "source": [
    "## Distribuciones continuas"
   ]
  },
  {
   "cell_type": "markdown",
   "id": "fa311649-780f-4320-b1b8-ca5775f7f9f6",
   "metadata": {},
   "source": [
    "### Distribución Normal"
   ]
  },
  {
   "cell_type": "code",
   "execution_count": null,
   "id": "26b218e3-d135-4acf-9b81-64a9f64e75eb",
   "metadata": {},
   "outputs": [],
   "source": [
    "# Graficando Normal\n",
    "mu, sigma = 0, 0.2 # media y desvio estandar\n",
    "normal = stats.norm(mu, sigma)\n",
    "x = np.linspace(normal.ppf(0.01),\n",
    "                normal.ppf(0.99), 100)\n",
    "fp = normal.pdf(x) # Función de Probabilidad\n",
    "plt.plot(x, fp)\n",
    "plt.title('Distribución Normal')\n",
    "plt.ylabel('probabilidad')\n",
    "plt.xlabel('valores')\n",
    "plt.show()"
   ]
  },
  {
   "cell_type": "code",
   "execution_count": null,
   "id": "912ff411-ce9c-48f5-9566-a91dc766f633",
   "metadata": {},
   "outputs": [],
   "source": [
    "# histograma\n",
    "aleatorios = normal.rvs(1000) # genera aleatorios\n",
    "cuenta, cajas, ignorar = plt.hist(aleatorios, 20)\n",
    "plt.ylabel('frequencia')\n",
    "plt.xlabel('valores')\n",
    "plt.title('Histograma Normal')\n",
    "plt.show()\n"
   ]
  },
  {
   "cell_type": "markdown",
   "id": "b533d8a4-ceb9-4d2d-95ae-d2271ed197ab",
   "metadata": {},
   "source": [
    "### Distribución Uniforme"
   ]
  },
  {
   "cell_type": "code",
   "execution_count": null,
   "id": "d43d9220-8ec6-475c-abcb-ffa0c737af22",
   "metadata": {},
   "outputs": [],
   "source": [
    "In [18]:\n",
    "# Graficando Uniforme\n",
    "uniforme = stats.uniform()\n",
    "x = np.linspace(uniforme.ppf(0.01),\n",
    "                uniforme.ppf(0.99), 100)\n",
    "fp = uniforme.pdf(x) # Función de Probabilidad\n",
    "fig, ax = plt.subplots()\n",
    "ax.plot(x, fp, '--')\n",
    "ax.vlines(x, 0, fp, colors='b', lw=5, alpha=0.5)\n",
    "ax.set_yticks([0., 0.2, 0.4, 0.6, 0.8, 1., 1.2])\n",
    "plt.title('Distribución Uniforme')\n",
    "plt.ylabel('probabilidad')\n",
    "plt.xlabel('valores')\n",
    "plt.show()\n"
   ]
  },
  {
   "cell_type": "code",
   "execution_count": null,
   "id": "62ec2f85-084a-47c3-a18a-e853bc14c4d7",
   "metadata": {},
   "outputs": [],
   "source": [
    "\n",
    "# histograma\n",
    "aleatorios = uniforme.rvs(1000) # genera aleatorios\n",
    "cuenta, cajas, ignorar = plt.hist(aleatorios, 20)\n",
    "plt.ylabel('frequencia')\n",
    "plt.xlabel('valores')\n",
    "plt.title('Histograma Uniforme')\n",
    "plt.show()\n"
   ]
  },
  {
   "cell_type": "markdown",
   "id": "d14d1957-0217-4c4a-b90a-2683e9dff122",
   "metadata": {},
   "source": [
    "### Distribución de Log-normal"
   ]
  },
  {
   "cell_type": "code",
   "execution_count": null,
   "id": "ee8882dd-59ea-409c-87c4-3b6912eb4957",
   "metadata": {},
   "outputs": [],
   "source": [
    "# Graficando Log-Normal\n",
    "sigma = 0.6 # parametro\n",
    "lognormal = stats.lognorm(sigma)\n",
    "x = np.linspace(lognormal.ppf(0.01),\n",
    "                lognormal.ppf(0.99), 100)\n",
    "fp = lognormal.pdf(x) # Función de Probabilidad\n",
    "plt.plot(x, fp)\n",
    "plt.title('Distribución Log-normal')\n",
    "plt.ylabel('probabilidad')\n",
    "plt.xlabel('valores')\n",
    "plt.show()"
   ]
  },
  {
   "cell_type": "code",
   "execution_count": null,
   "id": "b2559f17-42bf-4fd5-a46c-be2a83d68a76",
   "metadata": {},
   "outputs": [],
   "source": [
    "\n",
    "# histograma\n",
    "aleatorios = lognormal.rvs(1000) # genera aleatorios\n",
    "cuenta, cajas, ignorar = plt.hist(aleatorios, 20)\n",
    "plt.ylabel('frequencia')\n",
    "plt.xlabel('valores')\n",
    "plt.title('Histograma Log-normal')\n",
    "plt.show()"
   ]
  },
  {
   "cell_type": "markdown",
   "id": "598ed821-80a0-4a0c-8802-aad87c83455a",
   "metadata": {},
   "source": [
    "### Distribución Exponencial"
   ]
  },
  {
   "cell_type": "code",
   "execution_count": null,
   "id": "9d9e5144-5f1d-4e09-9863-48ad8f02d1ad",
   "metadata": {},
   "outputs": [],
   "source": [
    "# Graficando Exponencial\n",
    "exponencial = stats.expon()\n",
    "x = np.linspace(exponencial.ppf(0.01),\n",
    "                exponencial.ppf(0.99), 100)\n",
    "fp = exponencial.pdf(x) # Función de Probabilidad\n",
    "plt.plot(x, fp)\n",
    "plt.title('Distribución Exponencial')\n",
    "plt.ylabel('probabilidad')\n",
    "plt.xlabel('valores')\n",
    "plt.show()\n"
   ]
  },
  {
   "cell_type": "code",
   "execution_count": null,
   "id": "101a6776-6db9-4200-9ca7-6b42a419dec3",
   "metadata": {},
   "outputs": [],
   "source": [
    "# histograma\n",
    "aleatorios = exponencial.rvs(1000) # genera aleatorios\n",
    "cuenta, cajas, ignorar = plt.hist(aleatorios, 20)\n",
    "plt.ylabel('frequencia')\n",
    "plt.xlabel('valores')\n",
    "plt.title('Histograma Exponencial')\n",
    "plt.show()"
   ]
  },
  {
   "cell_type": "markdown",
   "id": "5898739c-489f-4e10-860f-d2df68f2bdcd",
   "metadata": {},
   "source": [
    "### Distribución Gamma"
   ]
  },
  {
   "cell_type": "code",
   "execution_count": null,
   "id": "b810ab43-ddfe-4127-8abb-553fb97edc34",
   "metadata": {},
   "outputs": [],
   "source": [
    "# Graficando Gamma\n",
    "a = 2.6 # parametro de forma.\n",
    "gamma = stats.gamma(a)\n",
    "x = np.linspace(gamma.ppf(0.01),\n",
    "                gamma.ppf(0.99), 100)\n",
    "fp = gamma.pdf(x) # Función de Probabilidad\n",
    "plt.plot(x, fp)\n",
    "plt.title('Distribución Gamma')\n",
    "plt.ylabel('probabilidad')\n",
    "plt.xlabel('valores')\n",
    "plt.show()\n"
   ]
  },
  {
   "cell_type": "code",
   "execution_count": null,
   "id": "5ab037fb-8e89-432f-828d-a3a87c38549a",
   "metadata": {},
   "outputs": [],
   "source": [
    "# Graficando Gamma\n",
    "a = 2.6 # parametro de forma.\n",
    "gamma = stats.gamma(a)\n",
    "x = np.linspace(gamma.ppf(0.01),\n",
    "                gamma.ppf(0.99), 100)\n",
    "fp = gamma.pdf(x) # Función de Probabilidad\n",
    "plt.plot(x, fp)\n",
    "plt.title('Distribución Gamma')\n",
    "plt.ylabel('probabilidad')\n",
    "plt.xlabel('valores')\n",
    "plt.show()\n"
   ]
  },
  {
   "cell_type": "markdown",
   "id": "1a0ee791-bc73-447f-8422-4e2950d861d2",
   "metadata": {},
   "source": [
    "### Distribución Beta"
   ]
  },
  {
   "cell_type": "code",
   "execution_count": null,
   "id": "1dc4674f-0a1b-4180-9933-ee4a8e1c646f",
   "metadata": {},
   "outputs": [],
   "source": [
    "# Graficando Beta\n",
    "a, b = 2.3, 0.6 # parametros de forma.\n",
    "beta = stats.beta(a, b)\n",
    "x = np.linspace(beta.ppf(0.01),\n",
    "                beta.ppf(0.99), 100)\n",
    "fp = beta.pdf(x) # Función de Probabilidad\n",
    "plt.plot(x, fp)\n",
    "plt.title('Distribución Beta')\n",
    "plt.ylabel('probabilidad')\n",
    "plt.xlabel('valores')\n",
    "plt.show()\n"
   ]
  },
  {
   "cell_type": "code",
   "execution_count": null,
   "id": "2e44f4d4-0c4d-4b7a-92e6-b6ae2008db44",
   "metadata": {},
   "outputs": [],
   "source": [
    "# histograma\n",
    "aleatorios = beta.rvs(1000) # genera aleatorios\n",
    "cuenta, cajas, ignorar = plt.hist(aleatorios, 20)\n",
    "plt.ylabel('frequencia')\n",
    "plt.xlabel('valores')\n",
    "plt.title('Histograma Beta')\n",
    "plt.show()"
   ]
  },
  {
   "cell_type": "markdown",
   "id": "ca8b14eb-78ad-463f-b3f7-d5f7449bd8e3",
   "metadata": {},
   "source": [
    "### Distribución Chi-cuadrado"
   ]
  },
  {
   "cell_type": "code",
   "execution_count": null,
   "id": "f15b7ed7-8b3f-4c38-b350-5bd11d4962e8",
   "metadata": {},
   "outputs": [],
   "source": [
    "# Graficando Chi cuadrado\n",
    "df = 34 # parametro de forma.\n",
    "chi2 = stats.chi2(df)\n",
    "x = np.linspace(chi2.ppf(0.01),\n",
    "                chi2.ppf(0.99), 100)\n",
    "fp = chi2.pdf(x) # Función de Probabilidad\n",
    "plt.plot(x, fp)\n",
    "plt.title('Distribución Chi cuadrado')\n",
    "plt.ylabel('probabilidad')\n",
    "plt.xlabel('valores')\n",
    "plt.show()\n"
   ]
  },
  {
   "cell_type": "code",
   "execution_count": null,
   "id": "e23dad1b-1a3c-4d01-b5f6-e390982fd268",
   "metadata": {},
   "outputs": [],
   "source": [
    "# histograma\n",
    "aleatorios = chi2.rvs(1000) # genera aleatorios\n",
    "cuenta, cajas, ignorar = plt.hist(aleatorios, 20)\n",
    "plt.ylabel('frequencia')\n",
    "plt.xlabel('valores')\n",
    "plt.title('Histograma Chi cuadrado')\n",
    "plt.show()"
   ]
  },
  {
   "cell_type": "markdown",
   "id": "2229c01e-ff1c-4d17-a1b6-f02f8d0c95ba",
   "metadata": {},
   "source": [
    "### Distribución T de Student"
   ]
  },
  {
   "cell_type": "code",
   "execution_count": null,
   "id": "2d3971c3-7c6e-417c-9551-6cdee11e3c89",
   "metadata": {},
   "outputs": [],
   "source": [
    "# Graficando t de Student\n",
    "df = 50 # parametro de forma.\n",
    "t = stats.t(df)\n",
    "x = np.linspace(t.ppf(0.01),\n",
    "                t.ppf(0.99), 100)\n",
    "fp = t.pdf(x) # Función de Probabilidad\n",
    "plt.plot(x, fp)\n",
    "plt.title('Distribución t de Student')\n",
    "plt.ylabel('probabilidad')\n",
    "plt.xlabel('valores')\n",
    "plt.show()"
   ]
  },
  {
   "cell_type": "code",
   "execution_count": null,
   "id": "5585aabf-b276-4c6e-b5ef-60fc52881afb",
   "metadata": {},
   "outputs": [],
   "source": [
    "# histograma\n",
    "aleatorios = t.rvs(1000) # genera aleatorios\n",
    "cuenta, cajas, ignorar = plt.hist(aleatorios, 20)\n",
    "plt.ylabel('frequencia')\n",
    "plt.xlabel('valores')\n",
    "plt.title('Histograma t de Student')\n",
    "plt.show()"
   ]
  },
  {
   "cell_type": "markdown",
   "id": "60605d2f-aa3c-41a8-bbcd-c198855f9bfa",
   "metadata": {},
   "source": [
    "### Distribución de Pareto"
   ]
  },
  {
   "cell_type": "code",
   "execution_count": null,
   "id": "0fff9c68-e87c-4a8a-875c-729a98529418",
   "metadata": {},
   "outputs": [],
   "source": [
    "# Graficando Pareto\n",
    "k = 2.3 # parametro de forma.\n",
    "pareto = stats.pareto(k)\n",
    "x = np.linspace(pareto.ppf(0.01),\n",
    "                pareto.ppf(0.99), 100)\n",
    "fp = pareto.pdf(x) # Función de Probabilidad\n",
    "plt.plot(x, fp)\n",
    "plt.title('Distribución de Pareto')\n",
    "plt.ylabel('probabilidad')\n",
    "plt.xlabel('valores')\n",
    "plt.show()"
   ]
  },
  {
   "cell_type": "code",
   "execution_count": null,
   "id": "fa0d3929-8efc-4923-83ad-f76ac82e25d5",
   "metadata": {},
   "outputs": [],
   "source": [
    "# histograma\n",
    "aleatorios = pareto.rvs(1000) # genera aleatorios\n",
    "cuenta, cajas, ignorar = plt.hist(aleatorios, 20)\n",
    "plt.ylabel('frequencia')\n",
    "plt.xlabel('valores')\n",
    "plt.title('Histograma de Pareto')\n",
    "plt.show()\n"
   ]
  },
  {
   "cell_type": "code",
   "execution_count": null,
   "id": "8d478fdf-8566-4731-b686-1a1b13fe8432",
   "metadata": {},
   "outputs": [],
   "source": []
  }
 ],
 "metadata": {
  "kernelspec": {
   "display_name": "Python 3",
   "language": "python",
   "name": "python3"
  },
  "language_info": {
   "codemirror_mode": {
    "name": "ipython",
    "version": 3
   },
   "file_extension": ".py",
   "mimetype": "text/x-python",
   "name": "python",
   "nbconvert_exporter": "python",
   "pygments_lexer": "ipython3",
   "version": "3.8.8"
  }
 },
 "nbformat": 4,
 "nbformat_minor": 5
}

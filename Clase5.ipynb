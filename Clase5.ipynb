{
 "cells": [
  {
   "cell_type": "code",
   "execution_count": 1,
   "id": "6fff7927",
   "metadata": {},
   "outputs": [
    {
     "name": "stdout",
     "output_type": "stream",
     "text": [
      "cocodrilo selva\n"
     ]
    }
   ],
   "source": [
    "#variables publicas y privadas#\n",
    "class Reptil:\n",
    "    def __init__(self):\n",
    "        self.tipo=\"cocodrilo\"\n",
    "        self.__habitat=\"selva\"\n",
    "        self.__alimento=\"carne\"\n",
    "    def getHabitat(self): #getter, ayuda a obtener variable privada para su uso, además permite realizar acciones con ella#\n",
    "        return self.__habitat\n",
    "r1=Reptil()        \n",
    "print(r1.tipo,r1.getHabitat())\n",
    "#no funciona xq esta privado print(r1.habitat)#\n"
   ]
  },
  {
   "cell_type": "code",
   "execution_count": 2,
   "id": "96aa0751",
   "metadata": {},
   "outputs": [
    {
     "ename": "AttributeError",
     "evalue": "'Reptil' object has no attribute 'habitat'",
     "output_type": "error",
     "traceback": [
      "\u001b[1;31m---------------------------------------------------------------------------\u001b[0m",
      "\u001b[1;31mAttributeError\u001b[0m                            Traceback (most recent call last)",
      "\u001b[1;32m<ipython-input-2-3507b26fead1>\u001b[0m in \u001b[0;36m<module>\u001b[1;34m\u001b[0m\n\u001b[0;32m     14\u001b[0m \u001b[1;33m\u001b[0m\u001b[0m\n\u001b[0;32m     15\u001b[0m \u001b[0mr1\u001b[0m\u001b[1;33m.\u001b[0m\u001b[0msethabitat\u001b[0m\u001b[1;33m=\u001b[0m\u001b[1;34m\"ciudad\"\u001b[0m\u001b[1;33m\u001b[0m\u001b[1;33m\u001b[0m\u001b[0m\n\u001b[1;32m---> 16\u001b[1;33m \u001b[0mprint\u001b[0m\u001b[1;33m(\u001b[0m\u001b[0mr1\u001b[0m\u001b[1;33m.\u001b[0m\u001b[0mhabitat\u001b[0m\u001b[1;33m)\u001b[0m\u001b[1;33m\u001b[0m\u001b[1;33m\u001b[0m\u001b[0m\n\u001b[0m",
      "\u001b[1;31mAttributeError\u001b[0m: 'Reptil' object has no attribute 'habitat'"
     ]
    }
   ],
   "source": [
    "#property#\n",
    "class Reptil:\n",
    "    def __init__(self):\n",
    "        self.tipo=\"cocodrilo\"\n",
    "        self.__habitat=\"selva\"\n",
    "        self.__alimento=\"carne\"\n",
    "    @property\n",
    "    def getHabitat(self): \n",
    "        return self.__habitat\n",
    "    @getHabitat.setter #permite setear variables como\n",
    "    def sethabitat(self,habitat):\n",
    "        self.__habitat=habitat\n",
    "    \n",
    "        \n",
    "r1.sethabitat=\"ciudad\"\n",
    "print(r1.habitat)"
   ]
  },
  {
   "cell_type": "code",
   "execution_count": null,
   "id": "bce16c25",
   "metadata": {},
   "outputs": [],
   "source": [
    "#herencia#\n",
    "class Pan:\n",
    "    ingrediente1= \"harina\"\n",
    "    pass\n",
    "class Chileno(Pan):#indica que hereda caracteristica de categoria madre Pan#\n",
    "    minutosenhorno=10\n",
    "    pass\n",
    "class Hallulla(Chileno):\n",
    "    cantidadporkilo=8\n",
    "    pass\n",
    "pan1=Hallulla()\n",
    "print(pan1.ingrediente1)"
   ]
  },
  {
   "cell_type": "code",
   "execution_count": 1,
   "id": "f44d5614",
   "metadata": {},
   "outputs": [
    {
     "name": "stdout",
     "output_type": "stream",
     "text": [
      "soy salado\n",
      "soy dulce\n"
     ]
    }
   ],
   "source": [
    "class Pan:\n",
    "    ingrediente=\"harina\"\n",
    "    def __init__(self,ingrediente):\n",
    "        self.ingrediente=ingrediente\n",
    "    def sabor(self): \n",
    "        print(\"soy salado\")\n",
    "\n",
    "class Chileno(Pan):\n",
    "    minutosenhorno=10  \n",
    "    def __init__(self,minutosenhorno,ingrediente):\n",
    "        self.minutosenhorno=minutosenhorno\n",
    "        Pan.__init__(self,ingrediente)#*2#\n",
    "\n",
    "class Hallulla(Chileno):\n",
    "    cantidadporkilo=8\n",
    "    def __init__(self,cantidadporkilo,minutosenhorno,ingrediente):\n",
    "        self.cantidadporkilo=cantidadporkilo\n",
    "        super().__init__(minutosenhorno,ingrediente)#se puede usar super o llamar la clase superior como en *2#\n",
    "\n",
    "class Brownie(Pan):\n",
    "    minutosenhorno=30 \n",
    "    def __init__(self,minutosenhorno,ingrediente):\n",
    "        self.minutosenhorno=minutosenhorno\n",
    "        Pan.__init__(self,ingrediente)\n",
    "    def sabor(self):\n",
    "        print(\"soy dulce\")\n",
    "pan1 = Hallulla(8,10,\"harina\")\n",
    "pan1.sabor()\n",
    "pan2 = Brownie(10,\"cacao\")\n",
    "pan2.sabor()\n"
   ]
  },
  {
   "cell_type": "code",
   "execution_count": 4,
   "id": "0d40f7d0",
   "metadata": {},
   "outputs": [
    {
     "name": "stdout",
     "output_type": "stream",
     "text": [
      "tortuguita\n",
      "German\n"
     ]
    }
   ],
   "source": [
    "class Avenger:\n",
    "    def __init__(self,code_name,real_name):\n",
    "        self.code_name = code_name\n",
    "        self.real_name = real_name\n",
    "\n",
    "# Create an instance of the Avenger class\n",
    "avenger1 = Avenger(\"tortuguita\",\"Mario\")\n",
    "avenger2 = Avenger(\"Don Carter\",\"German\")\n",
    "\n",
    "# Print out some attributes\n",
    "print(avenger1.code_name)\n",
    "print(avenger2.real_name)"
   ]
  },
  {
   "cell_type": "code",
   "execution_count": 7,
   "id": "93210439",
   "metadata": {},
   "outputs": [
    {
     "name": "stdout",
     "output_type": "stream",
     "text": [
      "Savings\n",
      "0\n",
      "7000\n",
      "Help on class Account in module __main__:\n",
      "\n",
      "class Account(builtins.object)\n",
      " |  Account(name, balance, goal)\n",
      " |  \n",
      " |  The Account class stores the details of each account and has methods to deposit, withdraw and calculate progress towards the savings goal\n",
      " |  \n",
      " |  Methods defined here:\n",
      " |  \n",
      " |  __init__(self, name, balance, goal)\n",
      " |      Initialize self.  See help(type(self)) for accurate signature.\n",
      " |  \n",
      " |  deposit(self, amount)\n",
      " |      # Deposit method adds money to balance\n",
      " |  \n",
      " |  ----------------------------------------------------------------------\n",
      " |  Data descriptors defined here:\n",
      " |  \n",
      " |  __dict__\n",
      " |      dictionary for instance variables (if defined)\n",
      " |  \n",
      " |  __weakref__\n",
      " |      list of weak references to the object (if defined)\n",
      "\n",
      "None\n"
     ]
    },
    {
     "data": {
      "text/plain": [
       "True"
      ]
     },
     "execution_count": 7,
     "metadata": {},
     "output_type": "execute_result"
    }
   ],
   "source": [
    "# Create the Account class\n",
    "class Account:\n",
    "  \"\"\"The Account class stores the details of each account and has methods to deposit, withdraw and calculate progress towards the savings goal\"\"\"\n",
    "  def __init__(self, name, balance, goal):\n",
    "    self.name = name\n",
    "    self.balance = balance\n",
    "    self.goal = goal\n",
    "  \n",
    "  # Deposit method adds money to balance\n",
    "  def deposit(self,amount):\n",
    "    if amount > 0:\n",
    "      self.balance+=amount\n",
    "      return True\n",
    "    else:\n",
    "      return False\n",
    "    \n",
    "  \n",
    "  \n",
    "# Create instances of the class\n",
    "savings = Account(\"Savings\", 0, 1000)\n",
    "phone = Account(\"Phone\", 0, 800)\n",
    "holiday = Account(\"Holiday\", 0, 7000)\n",
    " \n",
    "# Print out some attributes\n",
    "print(savings.name)\n",
    "print(phone.balance)\n",
    "print(holiday.goal)\n",
    "print(help(Account))\n",
    "\n",
    "# Test the methods\n",
    "phone.deposit(50)"
   ]
  },
  {
   "cell_type": "code",
   "execution_count": 9,
   "id": "2e46bcd6",
   "metadata": {},
   "outputs": [
    {
     "name": "stdout",
     "output_type": "stream",
     "text": [
      "Savings\n",
      "0\n",
      "7000\n",
      "Help on class Account in module __main__:\n",
      "\n",
      "class Account(builtins.object)\n",
      " |  Account(name, balance, goal)\n",
      " |  \n",
      " |  The Account class stores the details of each account and has methods to deposit, withdraw and calculate progress towards the savings goal\n",
      " |  \n",
      " |  Methods defined here:\n",
      " |  \n",
      " |  __init__(self, name, balance, goal)\n",
      " |      Initialize self.  See help(type(self)) for accurate signature.\n",
      " |  \n",
      " |  deposit(self, amount)\n",
      " |      # Deposit method adds money to balance\n",
      " |  \n",
      " |  ----------------------------------------------------------------------\n",
      " |  Data descriptors defined here:\n",
      " |  \n",
      " |  __dict__\n",
      " |      dictionary for instance variables (if defined)\n",
      " |  \n",
      " |  __weakref__\n",
      " |      list of weak references to the object (if defined)\n",
      "\n",
      "None\n"
     ]
    },
    {
     "data": {
      "text/plain": [
       "False"
      ]
     },
     "execution_count": 9,
     "metadata": {},
     "output_type": "execute_result"
    }
   ],
   "source": [
    "# Create the Account class\n",
    "class Account:\n",
    "  \"\"\"The Account class stores the details of each account and has methods to deposit, withdraw and calculate progress towards the savings goal\"\"\"\n",
    "  def __init__(self, name, balance, goal):\n",
    "    self.name = name\n",
    "    self.balance = balance\n",
    "    self.goal = goal\n",
    "  \n",
    "  # Deposit method adds money to balance\n",
    "  def deposit(self, amount):\n",
    "    if amount > 0:\n",
    "      self.balance += amount\n",
    "      return True\n",
    "    else:\n",
    "      return False\n",
    "  \n",
    "  # Withdraw method subtracts money from balance\n",
    "  \n",
    "  \n",
    "  \n",
    "# Create instances of the class\n",
    "savings = Account(\"Savings\", 0, 1000)\n",
    "phone = Account(\"Phone\", 0, 800)\n",
    "holiday = Account(\"Holiday\", 0, 7000)\n",
    " \n",
    "# Print out some attributes\n",
    "print(savings.name)\n",
    "print(phone.balance)\n",
    "print(holiday.goal)\n",
    "print(help(Account))\n",
    "\n",
    "# Test the methods\n",
    "savings.deposit(0)\n",
    "print(savings.balance)\n",
    "\n"
   ]
  },
  {
   "cell_type": "code",
   "execution_count": null,
   "id": "6cf625d7",
   "metadata": {},
   "outputs": [],
   "source": []
  }
 ],
 "metadata": {
  "kernelspec": {
   "display_name": "Python 3",
   "language": "python",
   "name": "python3"
  },
  "language_info": {
   "codemirror_mode": {
    "name": "ipython",
    "version": 3
   },
   "file_extension": ".py",
   "mimetype": "text/x-python",
   "name": "python",
   "nbconvert_exporter": "python",
   "pygments_lexer": "ipython3",
   "version": "3.8.8"
  }
 },
 "nbformat": 4,
 "nbformat_minor": 5
}

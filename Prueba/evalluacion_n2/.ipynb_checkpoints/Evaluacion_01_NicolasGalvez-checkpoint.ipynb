{
 "cells": [
  {
   "cell_type": "markdown",
   "metadata": {},
   "source": [
    "# Ejercicio\n",
    "\n",
    "Obtener la versión de la librería pandas."
   ]
  },
  {
   "cell_type": "code",
   "execution_count": 20,
   "metadata": {
    "scrolled": true
   },
   "outputs": [
    {
     "name": "stdout",
     "output_type": "stream",
     "text": [
      "Defaulting to user installation because normal site-packages is not writeable\n",
      "Requirement already satisfied: pandas in c:\\users\\anaconda3\\lib\\site-packages (1.2.4)\n",
      "Requirement already satisfied: numpy>=1.16.5 in c:\\users\\anaconda3\\lib\\site-packages (from pandas) (1.20.1)\n",
      "Requirement already satisfied: pytz>=2017.3 in c:\\users\\anaconda3\\lib\\site-packages (from pandas) (2021.1)\n",
      "Requirement already satisfied: python-dateutil>=2.7.3 in c:\\users\\anaconda3\\lib\\site-packages (from pandas) (2.8.1)\n",
      "Requirement already satisfied: six>=1.5 in c:\\users\\anaconda3\\lib\\site-packages (from python-dateutil>=2.7.3->pandas) (1.15.0)\n"
     ]
    }
   ],
   "source": [
    "#Instalamos complemento en caso de no tenerlo instalado#\n",
    "!pip install pandas"
   ]
  },
  {
   "cell_type": "code",
   "execution_count": 3,
   "metadata": {},
   "outputs": [],
   "source": [
    "#importamos libreria#\n",
    "import pandas as pd"
   ]
  },
  {
   "cell_type": "markdown",
   "metadata": {},
   "source": [
    "# Ejercicio\n",
    "\n",
    "Crear y visualizar un arreglo unidimensional que contenga 10 nros. entre 1 y 100 como una estructura Series.\n",
    "\n",
    "Obtener el tamaño de la lista"
   ]
  },
  {
   "cell_type": "code",
   "execution_count": 4,
   "metadata": {},
   "outputs": [
    {
     "name": "stdout",
     "output_type": "stream",
     "text": [
      "[ 1 10 19 28 37 46 55 64 73 82]\n",
      "10\n"
     ]
    }
   ],
   "source": [
    "import numpy as np\n",
    "arreglo_diez=np.arange(1,90,9)#generamos un arreglo unidimensional con 10 numeros entre 1 y 100#\n",
    "print(arreglo_diez)\n",
    "#obtenemos el tamaño de la lista#\n",
    "print(len(arreglo_diez))"
   ]
  },
  {
   "cell_type": "markdown",
   "metadata": {},
   "source": [
    "# Ejercicio\n",
    "\n",
    "Aplicar las operaciones aritméticas básicas sobre una serie y un nro.\n",
    "\n",
    "\"*,/,+/-\"  tambien ==>  \"><= distinto\""
   ]
  },
  {
   "cell_type": "code",
   "execution_count": 5,
   "metadata": {},
   "outputs": [
    {
     "name": "stdout",
     "output_type": "stream",
     "text": [
      "arreglo original *5 =  [  5  50  95 140 185 230 275 320 365 410]\n",
      "               \n",
      "arreglo original /9 = [0.11111111 1.11111111 2.11111111 3.11111111 4.11111111 5.11111111\n",
      " 6.11111111 7.11111111 8.11111111 9.11111111]\n",
      "               \n",
      "arreglo original +100 =  [101 110 119 128 137 146 155 164 173 182]\n",
      "               \n",
      "arreglo original -11.5 =  [-10.5  -1.5   7.5  16.5  25.5  34.5  43.5  52.5  61.5  70.5]\n",
      "               \n",
      "arreglo original !=1 = [False  True  True  True  True  True  True  True  True  True]\n"
     ]
    }
   ],
   "source": [
    "multiplicacion=arreglo_diez*5\n",
    "print(\"arreglo original *5 = \",multiplicacion)\n",
    "print(\"               \")\n",
    "division=arreglo_diez/9\n",
    "print(\"arreglo original /9 =\",division)\n",
    "print(\"               \")\n",
    "suma=arreglo_diez+100\n",
    "print(\"arreglo original +100 = \",suma)\n",
    "print(\"               \")\n",
    "resta=arreglo_diez-11.5\n",
    "print(\"arreglo original -11.5 = \",resta)\n",
    "print(\"               \")\n",
    "print(\"arreglo original !=1 =\", arreglo_diez!=1)"
   ]
  },
  {
   "cell_type": "markdown",
   "metadata": {},
   "source": [
    "# Ejercicio\n",
    "\n",
    "Aplicar las operaciones aritméticas básicas sobre dos  Series o más.\n",
    "\n",
    "\n",
    "\"*,/,+/-\""
   ]
  },
  {
   "cell_type": "code",
   "execution_count": 6,
   "metadata": {},
   "outputs": [
    {
     "name": "stdout",
     "output_type": "stream",
     "text": [
      "arreglo_diez*multiplicacion =  [    5   500  1805  3920  6845 10580 15125 20480 26645 33620]\n",
      "               \n",
      "arreglo_diez/division= [9. 9. 9. 9. 9. 9. 9. 9. 9. 9.]\n",
      "               \n",
      "arreglo_diez+suma =  [102 120 138 156 174 192 210 228 246 264]\n",
      "               \n",
      "arreglo_diez-resta =  [11.5 11.5 11.5 11.5 11.5 11.5 11.5 11.5 11.5 11.5]\n",
      "               \n"
     ]
    }
   ],
   "source": [
    "#operaciones entre series#\n",
    "arreglo_multiplicacion=arreglo_diez*multiplicacion\n",
    "print(\"arreglo_diez*multiplicacion = \",arreglo_multiplicacion)\n",
    "print(\"               \")\n",
    "arreglo_division=arreglo_diez/division\n",
    "print(\"arreglo_diez/division=\",arreglo_division)\n",
    "print(\"               \")\n",
    "arreglo_suma=arreglo_diez+suma\n",
    "print(\"arreglo_diez+suma = \",arreglo_suma)\n",
    "print(\"               \")\n",
    "arreglo_resta=arreglo_diez-resta\n",
    "print(\"arreglo_diez-resta = \",arreglo_resta)\n",
    "print(\"               \")"
   ]
  },
  {
   "cell_type": "markdown",
   "metadata": {},
   "source": [
    "# Ejercicio \n",
    "\n",
    "Preocupese de Que funcione\n",
    "\n",
    "\n",
    "arreglo = np.array([2, 3, 5, 7, 11])\n",
    "\n",
    "serie = pd.Series(arreglo)\n",
    "\n",
    "datos = {'a': 10, 'b': 20, 'c': 30, 'd': 40}\n",
    "\n",
    "serie = pd.Series(datos)"
   ]
  },
  {
   "cell_type": "code",
   "execution_count": 7,
   "metadata": {},
   "outputs": [
    {
     "name": "stdout",
     "output_type": "stream",
     "text": [
      "0     2\n",
      "1     3\n",
      "2     5\n",
      "3     7\n",
      "4    11\n",
      "dtype: int32\n",
      "a    10\n",
      "b    20\n",
      "c    30\n",
      "d    40\n",
      "dtype: int64\n"
     ]
    }
   ],
   "source": [
    "#guardaremos ambas series en distintas variables pensando en que deben ser utilizadas mas tarde y agregamos las librerias#\n",
    "import numpy as np\n",
    "import pandas as pd\n",
    "\n",
    "arreglo = np.array([2, 3, 5, 7, 11])\n",
    "\n",
    "serie_arreglo = pd.Series(arreglo)\n",
    "\n",
    "print(serie_arreglo)\n",
    "\n",
    "datos = {'a': 10, 'b': 20, 'c': 30, 'd': 40}\n",
    "\n",
    "serie_datos = pd.Series(datos)\n",
    "\n",
    "print(serie_datos)"
   ]
  },
  {
   "cell_type": "markdown",
   "metadata": {},
   "source": [
    "# Ejercicio \n",
    "\n",
    "Obtener una columna de un objeto DataFrame como un objeto Series.\n",
    "\n",
    "datos = {'A': [1, 2, 3, 4, 5], 'B': [9, 8, 7, 6, 5], 'C': [2, 3, 5, 7, 11]}\n",
    "\n",
    "df = pd.DataFrame(data=datos)"
   ]
  },
  {
   "cell_type": "code",
   "execution_count": 14,
   "metadata": {},
   "outputs": [
    {
     "name": "stdout",
     "output_type": "stream",
     "text": [
      "   A  B   C\n",
      "0  1  9   2\n",
      "1  2  8   3\n",
      "2  3  7   5\n",
      "3  4  6   7\n",
      "4  5  5  11\n",
      "            \n",
      "columna B\n",
      "0    9\n",
      "1    8\n",
      "2    7\n",
      "3    6\n",
      "4    5\n",
      "Name: B, dtype: int64\n"
     ]
    }
   ],
   "source": [
    "datos = {'A': [1, 2, 3, 4, 5]\n",
    "         , 'B': [9, 8, 7, 6, 5]\n",
    "         , 'C': [2, 3, 5, 7, 11]}\n",
    "\n",
    "df = pd.DataFrame(data=datos)\n",
    "print(df)#observamos la esctructura de los datos#\n",
    "print(\"            \")\n",
    "print(\"columna B\")\n",
    "print(df[\"B\"])#imprimiremos la columna B de la base de datos"
   ]
  },
  {
   "cell_type": "markdown",
   "metadata": {},
   "source": [
    "# Ejercicio \n",
    "\n",
    "Crear un DataFrame\n",
    "\n",
    "Extraer una fila de un DataFrame como un objeto Series.\n"
   ]
  },
  {
   "cell_type": "code",
   "execution_count": 46,
   "metadata": {},
   "outputs": [
    {
     "name": "stdout",
     "output_type": "stream",
     "text": [
      "   Nombre  Edad años       Raza\n",
      "0    Toby          2   Doberman\n",
      "1   Turbo          1  Chihuahua\n",
      "2  Pepita          7     Golden\n",
      "3    Mika         12     Kiltro\n",
      "4  Pelusa          3    Sharpey\n",
      "Nombre           Turbo\n",
      "Edad años            1\n",
      "Raza         Chihuahua\n",
      "Name: 1, dtype: object\n"
     ]
    }
   ],
   "source": [
    "\n",
    "perros={\"Nombre\": [\"Toby\",\"Turbo\",\"Pepita\",\"Mika\",\"Pelusa\"]\n",
    "        , \"Edad años\": [2, 1, 7, 12, 3]\n",
    "        , \"Raza\": [\"Doberman\",\"Chihuahua\",\"Golden\",\"Kiltro\",\"Sharpey\"]}\n",
    "perros_df= pd.DataFrame(perros)\n",
    "print(perros_df)\n",
    "fila=perros_df.iloc[1]\n",
    "#imprimir fila como serie#\n",
    "print(fila)\n"
   ]
  },
  {
   "cell_type": "markdown",
   "metadata": {},
   "source": [
    "# Ejercicio\n",
    "\n",
    "Crear el Objeto, y luego transformaro a una sola fila\n",
    "\n",
    "0    [Colombia, Perú, Argentina]\n",
    "\n",
    "1             [Bolivia, Uruguay]\n",
    "\n",
    "2                        [Chile]"
   ]
  },
  {
   "cell_type": "code",
   "execution_count": 133,
   "metadata": {},
   "outputs": [
    {
     "name": "stdout",
     "output_type": "stream",
     "text": [
      "     pais 0 pais 1     pais 2   pais 3   pais 4 pais 5\n",
      "0  Colombia   Perú  Argentina  Bolivia  Uruguay  Chile\n"
     ]
    }
   ],
   "source": [
    "paises_uno=[\"Colombia\", \"Perú\", \"Argentina\"]\n",
    "paises_dos=[\"Bolivia\", \"Uruguay\"]\n",
    "paises_tres=[\"Chile\"]\n",
    "#creamos un dataframe auxiliar para ingresar los datos#\n",
    "df_paises=pd.DataFrame({\"ayuda\":[1]})\n",
    "contador=0\n",
    "#definimos funcion que permita agregar de a uno los elementos solicitados#\n",
    "def agregar_a_fila():\n",
    "    df_paises.loc[df_paises.index[0],\"pais {}\".format(contador)]=i\n",
    "#generamos ciclos for que pase por cada uno de los arreglos item por item#   \n",
    "for i in paises_uno:\n",
    "    agregar_a_fila()\n",
    "    contador+=1\n",
    "for i in paises_dos:\n",
    "    agregar_a_fila()\n",
    "    contador+=1\n",
    "for i in paises_tres:\n",
    "    agregar_a_fila()\n",
    "    contador+=1\n",
    "#borramos la columna auxiliar e imprimimos#\n",
    "df_paises=df_paises.drop([\"ayuda\"],axis=1)\n",
    "print(df_paises)"
   ]
  },
  {
   "cell_type": "markdown",
   "metadata": {},
   "source": [
    "# Ejercicio\n",
    "\n",
    "Ordenar los valores de un objeto Series\n",
    "\n",
    "datos = ['1.1', 'Python', '0.5', 'pandas', '2.8']\n",
    "\n",
    "serie = pd.Series(datos)"
   ]
  },
  {
   "cell_type": "code",
   "execution_count": 136,
   "metadata": {},
   "outputs": [
    {
     "name": "stdout",
     "output_type": "stream",
     "text": [
      "2       0.5\n",
      "0       1.1\n",
      "4       2.8\n",
      "1    Python\n",
      "3    pandas\n",
      "dtype: object\n"
     ]
    }
   ],
   "source": [
    "datos = ['1.1', 'Python', '0.5', 'pandas', '2.8']\n",
    "\n",
    "serie = pd.Series(datos)\n",
    "serie = serie.sort_values()\n",
    "print(serie)"
   ]
  },
  {
   "cell_type": "markdown",
   "metadata": {},
   "source": [
    "# Ejercicio\n",
    "\n",
    "Crear un objeto Series a partir de un filtro aplicado a otro objeto Series.\n",
    "datos = [0, 1, 2, 3, 4, 5, 6, 7, 8, 9]\n",
    "\n",
    "serie = pd.Series(datos)\n",
    "\n",
    "Obtener los menores a 5"
   ]
  },
  {
   "cell_type": "code",
   "execution_count": 142,
   "metadata": {},
   "outputs": [
    {
     "name": "stdout",
     "output_type": "stream",
     "text": [
      "0    0\n",
      "1    1\n",
      "2    2\n",
      "3    3\n",
      "4    4\n",
      "5    5\n",
      "6    6\n",
      "7    7\n",
      "8    8\n",
      "9    9\n",
      "dtype: int64\n",
      "0    0\n",
      "1    1\n",
      "2    2\n",
      "3    3\n",
      "4    4\n",
      "dtype: int64\n"
     ]
    }
   ],
   "source": [
    "datos = [0, 1, 2, 3, 4, 5, 6, 7, 8, 9]\n",
    "serie = pd.Series(datos)\n",
    "print (serie)\n",
    "nueva_serie=serie[serie<5]\n",
    "print(nueva_serie)"
   ]
  },
  {
   "cell_type": "markdown",
   "metadata": {},
   "source": [
    "# Ejercicio\n",
    "\n",
    "Obtener la desviación estándar, el promedio, maximo,minimo, sum de un conjunto de datos de una serie.\n",
    "\n",
    "Invente la data usted\n",
    "\n",
    "obtenga la info y el describe"
   ]
  },
  {
   "cell_type": "code",
   "execution_count": 153,
   "metadata": {},
   "outputs": [
    {
     "name": "stdout",
     "output_type": "stream",
     "text": [
      "desviacion estandar= 4.527692569068709,media= 5.0 ,maximo= 12 ,minimo= 1 ,suma=25 \n"
     ]
    },
    {
     "data": {
      "text/html": [
       "<div>\n",
       "<style scoped>\n",
       "    .dataframe tbody tr th:only-of-type {\n",
       "        vertical-align: middle;\n",
       "    }\n",
       "\n",
       "    .dataframe tbody tr th {\n",
       "        vertical-align: top;\n",
       "    }\n",
       "\n",
       "    .dataframe thead th {\n",
       "        text-align: right;\n",
       "    }\n",
       "</style>\n",
       "<table border=\"1\" class=\"dataframe\">\n",
       "  <thead>\n",
       "    <tr style=\"text-align: right;\">\n",
       "      <th></th>\n",
       "      <th>Edad años</th>\n",
       "    </tr>\n",
       "  </thead>\n",
       "  <tbody>\n",
       "    <tr>\n",
       "      <th>count</th>\n",
       "      <td>5.000000</td>\n",
       "    </tr>\n",
       "    <tr>\n",
       "      <th>mean</th>\n",
       "      <td>5.000000</td>\n",
       "    </tr>\n",
       "    <tr>\n",
       "      <th>std</th>\n",
       "      <td>4.527693</td>\n",
       "    </tr>\n",
       "    <tr>\n",
       "      <th>min</th>\n",
       "      <td>1.000000</td>\n",
       "    </tr>\n",
       "    <tr>\n",
       "      <th>25%</th>\n",
       "      <td>2.000000</td>\n",
       "    </tr>\n",
       "    <tr>\n",
       "      <th>50%</th>\n",
       "      <td>3.000000</td>\n",
       "    </tr>\n",
       "    <tr>\n",
       "      <th>75%</th>\n",
       "      <td>7.000000</td>\n",
       "    </tr>\n",
       "    <tr>\n",
       "      <th>max</th>\n",
       "      <td>12.000000</td>\n",
       "    </tr>\n",
       "  </tbody>\n",
       "</table>\n",
       "</div>"
      ],
      "text/plain": [
       "       Edad años\n",
       "count   5.000000\n",
       "mean    5.000000\n",
       "std     4.527693\n",
       "min     1.000000\n",
       "25%     2.000000\n",
       "50%     3.000000\n",
       "75%     7.000000\n",
       "max    12.000000"
      ]
     },
     "execution_count": 153,
     "metadata": {},
     "output_type": "execute_result"
    }
   ],
   "source": [
    "perros={\"Nombre\": [\"Toby\",\"Turbo\",\"Pepita\",\"Mika\",\"Pelusa\"]\n",
    "        , \"Edad años\": [2, 1, 7, 12, 3]\n",
    "        , \"Raza\": [\"Doberman\",\"Chihuahua\",\"Golden\",\"Kiltro\",\"Sharpey\"]}\n",
    "perros_df= pd.DataFrame(perros)\n",
    "#valores solicitados#\n",
    "desviacion_estandar=perros_df[\"Edad años\"].std()\n",
    "media=perros_df[\"Edad años\"].mean()\n",
    "maximo=perros_df[\"Edad años\"].max()\n",
    "minimo=perros_df[\"Edad años\"].min()\n",
    "total=perros_df[\"Edad años\"].sum()\n",
    "print(\"desviacion estandar= {0},media= {1} ,maximo= {2} ,minimo= {3} ,suma={4} \".format(desviacion_estandar,media,maximo,minimo,total))\n",
    "pd.DataFrame.describe(perros_df)"
   ]
  },
  {
   "cell_type": "markdown",
   "metadata": {},
   "source": [
    "## Ejercicio\n",
    "\n",
    "Obtener dos objetos diferentes con los elementos pares e impares de un objeto Series numérico.\n",
    "\n",
    "datos = list(range(10))"
   ]
  },
  {
   "cell_type": "code",
   "execution_count": 181,
   "metadata": {},
   "outputs": [
    {
     "name": "stdout",
     "output_type": "stream",
     "text": [
      "   numeros pares\n",
      "0              0\n",
      "1              2\n",
      "2              4\n",
      "3              6\n",
      "4              8\n",
      "   numeros impares\n",
      "0                1\n",
      "1                3\n",
      "2                5\n",
      "3                7\n",
      "4                9\n"
     ]
    }
   ],
   "source": [
    "datos = list(range(10))\n",
    "pares=[]\n",
    "impares=[]\n",
    "for i in datos:\n",
    "    if i==0 or i%2==0:\n",
    "        pares.append(i)\n",
    "    else:\n",
    "        impares.append(i)\n",
    "pares_df=pd.DataFrame({\"numeros pares\":pares})\n",
    "impares_df=pd.DataFrame({\"numeros impares\":impares})\n",
    "print(pares_df)\n",
    "print(impares_df)"
   ]
  },
  {
   "cell_type": "markdown",
   "metadata": {},
   "source": [
    "# Ejercicio \n",
    "\n",
    "Eliminar los valores NaN de una serie con el método dropna.\n",
    "\n",
    "datos = ['2.3', 'Python', '90', '100', np.nan, '0.5', '.9']"
   ]
  },
  {
   "cell_type": "code",
   "execution_count": 187,
   "metadata": {},
   "outputs": [
    {
     "name": "stdout",
     "output_type": "stream",
     "text": [
      "        0\n",
      "0     2.3\n",
      "1  Python\n",
      "2      90\n",
      "3     100\n",
      "4     NaN\n",
      "5     0.5\n",
      "6      .9\n",
      "-------------\n",
      "        0\n",
      "0     2.3\n",
      "1  Python\n",
      "2      90\n",
      "3     100\n",
      "5     0.5\n",
      "6      .9\n"
     ]
    }
   ],
   "source": [
    "datos = ['2.3', 'Python', '90', '100', np.nan, '0.5', '.9']\n",
    "datos_df=pd.DataFrame(datos)\n",
    "print(datos_df)\n",
    "print(\"-------------\")\n",
    "datos_limpios=datos_df.dropna()\n",
    "print(datos_limpios)"
   ]
  },
  {
   "cell_type": "code",
   "execution_count": null,
   "metadata": {},
   "outputs": [],
   "source": []
  }
 ],
 "metadata": {
  "interpreter": {
   "hash": "fab0fde1f71e321925cb1aef8c0cc22058c43e5af495092d945cf5715ad1ad3a"
  },
  "kernelspec": {
   "display_name": "Python 3",
   "language": "python",
   "name": "python3"
  },
  "language_info": {
   "codemirror_mode": {
    "name": "ipython",
    "version": 3
   },
   "file_extension": ".py",
   "mimetype": "text/x-python",
   "name": "python",
   "nbconvert_exporter": "python",
   "pygments_lexer": "ipython3",
   "version": "3.8.8"
  }
 },
 "nbformat": 4,
 "nbformat_minor": 2
}

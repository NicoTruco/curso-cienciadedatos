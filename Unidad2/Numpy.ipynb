{
 "cells": [
  {
   "cell_type": "code",
   "execution_count": 1,
   "id": "abf6b976",
   "metadata": {},
   "outputs": [
    {
     "name": "stdout",
     "output_type": "stream",
     "text": [
      "[4, 5, 6, 7]\n"
     ]
    }
   ],
   "source": [
    "#arreglos numericos#\n",
    "arrNum=[4,5,6,7]\n",
    "print(arrNum)"
   ]
  },
  {
   "cell_type": "code",
   "execution_count": 2,
   "id": "398c43da",
   "metadata": {},
   "outputs": [
    {
     "name": "stdout",
     "output_type": "stream",
     "text": [
      "4\n",
      "5\n",
      "6\n",
      "7\n"
     ]
    }
   ],
   "source": [
    "for a in arrNum:\n",
    "    print(a)"
   ]
  },
  {
   "cell_type": "code",
   "execution_count": 17,
   "id": "2f29dd94",
   "metadata": {},
   "outputs": [
    {
     "data": {
      "text/plain": [
       "array([[<__main__.Persona object at 0x000002CC7238B460>],\n",
       "       [<__main__.Persona object at 0x000002CC7238BD30>],\n",
       "       [<__main__.Persona object at 0x000002CC723A03A0>]], dtype=object)"
      ]
     },
     "execution_count": 17,
     "metadata": {},
     "output_type": "execute_result"
    }
   ],
   "source": [
    "#numpy: libreria de python para almacenar datos en vectores y matrices#\n",
    "import numpy as np\n",
    "np.array([[1,2,3],[4,5,6],[7,8,9]])\n",
    "\n",
    "class Persona:\n",
    "    def __init__(self,rut,nombre,apellido):\n",
    "        self.rut=rut\n",
    "        self.nombre=nombre\n",
    "        self.apellido=apellido\n",
    "p1=Persona(17456234,\"Maria\",\"Gutierrez\")\n",
    "p2=Persona(12398123,\"Marcos\",\"Luna\")\n",
    "p3=Persona(13120380,\"Luis\",\"Nuñez\")\n",
    "\n",
    "arrPersona=np.array([[p1],[p2],[p3]])\n",
    "arrPersona\n"
   ]
  },
  {
   "cell_type": "code",
   "execution_count": 27,
   "id": "5d212c1a",
   "metadata": {},
   "outputs": [
    {
     "name": "stdout",
     "output_type": "stream",
     "text": [
      "[ 6 18 30 42 54 66]\n"
     ]
    }
   ],
   "source": [
    "a=np.arange(6,77,12)\n",
    "print(a)"
   ]
  },
  {
   "cell_type": "code",
   "execution_count": 26,
   "id": "42a3f0cc",
   "metadata": {},
   "outputs": [
    {
     "data": {
      "text/plain": [
       "array([[ 6, 18],\n",
       "       [30, 42],\n",
       "       [54, 66]])"
      ]
     },
     "execution_count": 26,
     "metadata": {},
     "output_type": "execute_result"
    }
   ],
   "source": [
    "a.reshape(3,2)"
   ]
  },
  {
   "cell_type": "code",
   "execution_count": 28,
   "id": "8d093045",
   "metadata": {},
   "outputs": [
    {
     "data": {
      "text/plain": [
       "array([ 0.,  5., 10., 15., 20.])"
      ]
     },
     "execution_count": 28,
     "metadata": {},
     "output_type": "execute_result"
    }
   ],
   "source": [
    "np.linspace(0,20,5)"
   ]
  },
  {
   "cell_type": "code",
   "execution_count": 32,
   "id": "4258a7d3",
   "metadata": {},
   "outputs": [
    {
     "data": {
      "text/plain": [
       "array([  1.        ,   3.16227766,  10.        ,  31.6227766 ,\n",
       "       100.        ])"
      ]
     },
     "execution_count": 32,
     "metadata": {},
     "output_type": "execute_result"
    }
   ],
   "source": [
    "np.logspace(0,2,5)"
   ]
  },
  {
   "cell_type": "code",
   "execution_count": 34,
   "id": "0b56130b",
   "metadata": {},
   "outputs": [
    {
     "data": {
      "text/plain": [
       "array([28, 15, 58, 89, 14, 62, 59, 49, 13, 61,  8, 75, 22, 59, 48, 73, 86,\n",
       "       76,  5, 54, 93, 36, 61, 53, 90, 79, 11,  1, 26, 65, 51,  1, 46, 87,\n",
       "       35, 18, 93, 91, 89, 30, 38, 54, 79, 62, 86, 78, 88, 88, 47, 89, 99,\n",
       "       22,  1,  6, 38, 57, 67, 78, 97, 74, 23, 45, 98, 51, 16, 83,  0,  0,\n",
       "       14, 52, 95, 71, 11, 53, 54, 11, 12, 62, 32, 80, 24, 30, 18, 53,  7,\n",
       "        2, 26, 12, 89, 96, 85, 40, 62, 39, 83, 72, 35, 72, 99, 64])"
      ]
     },
     "execution_count": 34,
     "metadata": {},
     "output_type": "execute_result"
    }
   ],
   "source": [
    "np.random.randint(0,100,size=100)"
   ]
  },
  {
   "cell_type": "code",
   "execution_count": 1,
   "id": "93b30b16",
   "metadata": {},
   "outputs": [
    {
     "name": "stdout",
     "output_type": "stream",
     "text": [
      "Programa de compra de entradas para chayanne\n",
      "Si desea comprar presione 1 si no presione 0\n"
     ]
    }
   ],
   "source": [
    "#actividad de compra de entradas#\n",
    "#programa Nico#\n",
    "class Cliente:\n",
    "    arrNombres=[]\n",
    "    arrApellidos=[]\n",
    "    arrRun=[]\n",
    "    def __init__(self,nombre,apellido,run):\n",
    "        self.nombre=nombre\n",
    "        self.apellido=apellido\n",
    "        self.run=run\n",
    "    inicio=0\n",
    "    final=0\n",
    "    print(\"Programa de compra de entradas para chayanne\")\n",
    "    print(\"Si desea comprar presione 1 si no presione 0\")\n",
    "    if inicio!=0:\n",
    "        nombre=input(\"favor ingrese su nombre\")\n",
    "        apellido=input(\"favor ingrese su apellido\")\n",
    "        run=input(\"favor ingrese su run\")\n",
    "        \n",
    "        "
   ]
  },
  {
   "cell_type": "code",
   "execution_count": 2,
   "id": "60962fb2",
   "metadata": {},
   "outputs": [
    {
     "data": {
      "text/plain": [
       "array([15, 16])"
      ]
     },
     "execution_count": 2,
     "metadata": {},
     "output_type": "execute_result"
    }
   ],
   "source": [
    "import numpy as np\n",
    "\n",
    "a = np.array([1,2,3,4,5])\n",
    "b = np.array([1,2,3,4,6])\n",
    "\n",
    "f = np.array([a,b])\n",
    "\n",
    "f.sum(axis=0)\n",
    "f.sum(axis=1)"
   ]
  },
  {
   "cell_type": "code",
   "execution_count": 3,
   "id": "1cde2d9a",
   "metadata": {},
   "outputs": [
    {
     "data": {
      "text/plain": [
       "array([[1, 2, 3, 4, 5],\n",
       "       [1, 2, 3, 4, 6]])"
      ]
     },
     "execution_count": 3,
     "metadata": {},
     "output_type": "execute_result"
    }
   ],
   "source": []
  },
  {
   "cell_type": "code",
   "execution_count": null,
   "id": "7e727760",
   "metadata": {},
   "outputs": [],
   "source": []
  }
 ],
 "metadata": {
  "kernelspec": {
   "display_name": "Python 3",
   "language": "python",
   "name": "python3"
  },
  "language_info": {
   "codemirror_mode": {
    "name": "ipython",
    "version": 3
   },
   "file_extension": ".py",
   "mimetype": "text/x-python",
   "name": "python",
   "nbconvert_exporter": "python",
   "pygments_lexer": "ipython3",
   "version": "3.8.8"
  }
 },
 "nbformat": 4,
 "nbformat_minor": 5
}

{
 "cells": [
  {
   "cell_type": "code",
   "execution_count": 1,
   "id": "b38564bc",
   "metadata": {},
   "outputs": [
    {
     "data": {
      "text/plain": [
       "0    0.000000\n",
       "1    0.693147\n",
       "2    1.098612\n",
       "3    1.386294\n",
       "dtype: float64"
      ]
     },
     "execution_count": 1,
     "metadata": {},
     "output_type": "execute_result"
    }
   ],
   "source": [
    "#pandas#\n",
    "import pandas as pd\n",
    "from math import log\n",
    "s=pd.Series([1,2,3,4])\n",
    "s.apply(log)"
   ]
  },
  {
   "cell_type": "code",
   "execution_count": 4,
   "id": "af6cdd4b",
   "metadata": {},
   "outputs": [
    {
     "data": {
      "text/plain": [
       "0    CARLOS\n",
       "1     PEDRO\n",
       "2      FIZA\n",
       "dtype: object"
      ]
     },
     "execution_count": 4,
     "metadata": {},
     "output_type": "execute_result"
    }
   ],
   "source": [
    "pal=pd.Series([\"Carlos\",\"Pedro\",\"Fiza\"])\n",
    "pal.apply(str.upper)"
   ]
  },
  {
   "cell_type": "code",
   "execution_count": 5,
   "id": "bfc92341",
   "metadata": {},
   "outputs": [
    {
     "data": {
      "text/plain": [
       "0    2\n",
       "1    4\n",
       "2    6\n",
       "3    8\n",
       "dtype: int64"
      ]
     },
     "execution_count": 5,
     "metadata": {},
     "output_type": "execute_result"
    }
   ],
   "source": [
    "#multiplicar por un escalar la serie#\n",
    "s=pd.Series([1,2,3,4])\n",
    "s*2"
   ]
  },
  {
   "cell_type": "code",
   "execution_count": 7,
   "id": "d7e6821f",
   "metadata": {},
   "outputs": [
    {
     "data": {
      "text/plain": [
       "4     Ariel\n",
       "1    Carlos\n",
       "0      Fiza\n",
       "3     Maria\n",
       "2     Pedro\n",
       "dtype: object"
      ]
     },
     "execution_count": 7,
     "metadata": {},
     "output_type": "execute_result"
    }
   ],
   "source": [
    "#orden ascendente#\n",
    "s_asignaturas=pd.Series([\"Fiza\",\"Carlos\",\"Pedro\",\"Maria\",\"Ariel\"])\n",
    "s_asignaturas.sort_values(ascending=True)"
   ]
  },
  {
   "cell_type": "code",
   "execution_count": 8,
   "id": "b51d858b",
   "metadata": {},
   "outputs": [
    {
     "data": {
      "text/plain": [
       "2     Pedro\n",
       "3     Maria\n",
       "0      Fiza\n",
       "1    Carlos\n",
       "4     Ariel\n",
       "dtype: object"
      ]
     },
     "execution_count": 8,
     "metadata": {},
     "output_type": "execute_result"
    }
   ],
   "source": [
    "#Orden descendente\" de valores\n",
    "s_asignaturas=pd.Series([\"Fiza\",\"Carlos\",\"Pedro\",\"Maria\",\"Ariel\"])\n",
    "s_asignaturas.sort_values(ascending=False)"
   ]
  },
  {
   "cell_type": "code",
   "execution_count": 9,
   "id": "5c35b94e",
   "metadata": {},
   "outputs": [
    {
     "data": {
      "text/plain": [
       "Español        5.5\n",
       "Ingles         4.0\n",
       "Matematicas    6.0\n",
       "dtype: float64"
      ]
     },
     "execution_count": 9,
     "metadata": {},
     "output_type": "execute_result"
    }
   ],
   "source": [
    "#ordenar indices\" ordena el indice (asignaturas alfabeticamente)\n",
    "a=pd.Series({\"Matematicas\":6.0,\"Español\":5.5,\"Ingles\":4.0})\n",
    "a.sort_index(ascending=True)"
   ]
  },
  {
   "cell_type": "code",
   "execution_count": 10,
   "id": "1cef1073",
   "metadata": {},
   "outputs": [
    {
     "data": {
      "text/plain": [
       "Matematicas    6.0\n",
       "Ingles         4.0\n",
       "Español        5.5\n",
       "dtype: float64"
      ]
     },
     "execution_count": 10,
     "metadata": {},
     "output_type": "execute_result"
    }
   ],
   "source": [
    "#ordenar indices\" ordena el indice (asignaturas alfabeticamente) descendente\n",
    "a=pd.Series({\"Matematicas\":6.0,\"Español\":5.5,\"Ingles\":4.0})\n",
    "a.sort_index(ascending=False)"
   ]
  },
  {
   "cell_type": "code",
   "execution_count": 1,
   "id": "e46e0f88",
   "metadata": {},
   "outputs": [
    {
     "ename": "NameError",
     "evalue": "name 'pd' is not defined",
     "output_type": "error",
     "traceback": [
      "\u001b[1;31m---------------------------------------------------------------------------\u001b[0m",
      "\u001b[1;31mNameError\u001b[0m                                 Traceback (most recent call last)",
      "\u001b[1;32m<ipython-input-1-3580f15ede36>\u001b[0m in \u001b[0;36m<module>\u001b[1;34m\u001b[0m\n\u001b[0;32m      1\u001b[0m \u001b[1;31m#borrar elementos desconocidos o nulos#\u001b[0m\u001b[1;33m\u001b[0m\u001b[1;33m\u001b[0m\u001b[1;33m\u001b[0m\u001b[0m\n\u001b[1;32m----> 2\u001b[1;33m \u001b[0ms\u001b[0m\u001b[1;33m=\u001b[0m\u001b[0mpd\u001b[0m\u001b[1;33m.\u001b[0m\u001b[0mSeries\u001b[0m\u001b[1;33m(\u001b[0m\u001b[1;33m[\u001b[0m\u001b[1;33m]\u001b[0m\u001b[1;33m)\u001b[0m\u001b[1;33m\u001b[0m\u001b[1;33m\u001b[0m\u001b[0m\n\u001b[0m",
      "\u001b[1;31mNameError\u001b[0m: name 'pd' is not defined"
     ]
    }
   ],
   "source": [
    "#borrar elementos desconocidos o nulos#\n",
    "s=pd.Series([])"
   ]
  },
  {
   "cell_type": "code",
   "execution_count": null,
   "id": "1e55b6b6",
   "metadata": {},
   "outputs": [],
   "source": []
  },
  {
   "cell_type": "code",
   "execution_count": null,
   "id": "f2658388",
   "metadata": {},
   "outputs": [],
   "source": []
  }
 ],
 "metadata": {
  "kernelspec": {
   "display_name": "Python 3",
   "language": "python",
   "name": "python3"
  },
  "language_info": {
   "codemirror_mode": {
    "name": "ipython",
    "version": 3
   },
   "file_extension": ".py",
   "mimetype": "text/x-python",
   "name": "python",
   "nbconvert_exporter": "python",
   "pygments_lexer": "ipython3",
   "version": "3.8.8"
  }
 },
 "nbformat": 4,
 "nbformat_minor": 5
}

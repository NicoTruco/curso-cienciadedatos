{
 "cells": [
  {
   "cell_type": "code",
   "execution_count": 6,
   "id": "c00236ac",
   "metadata": {},
   "outputs": [],
   "source": [
    "from matplotlib import pyplot as plt\n"
   ]
  },
  {
   "cell_type": "code",
   "execution_count": 8,
   "id": "b4473d13",
   "metadata": {},
   "outputs": [
    {
     "data": {
      "image/png": "[encoded data removed]",
      "text/plain": [
       "<Figure size 432x288 with 1 Axes>"
      ]
     },
     "metadata": {
      "needs_background": "light"
     },
     "output_type": "display_data"
    }
   ],
   "source": [
    "#conjunto de datos [x],[y]\n",
    "fig=plt.figure()\n",
    "plt.plot([1,2,3],[4,5,1])\n",
    "plt.show()\n",
    "fig.savefig(\"02_fig1.pdf\", bbox_inches='tight')\n"
   ]
  },
  {
   "cell_type": "code",
   "execution_count": 9,
   "id": "3d169e91",
   "metadata": {},
   "outputs": [
    {
     "ename": "NameError",
     "evalue": "name 'x' is not defined",
     "output_type": "error",
     "traceback": [
      "\u001b[1;31m---------------------------------------------------------------------------\u001b[0m",
      "\u001b[1;31mNameError\u001b[0m                                 Traceback (most recent call last)",
      "\u001b[1;32m<ipython-input-9-a329178b6b22>\u001b[0m in \u001b[0;36m<module>\u001b[1;34m\u001b[0m\n\u001b[0;32m      1\u001b[0m \u001b[1;31m#conjunto de datos [x],[y]\u001b[0m\u001b[1;33m\u001b[0m\u001b[1;33m\u001b[0m\u001b[1;33m\u001b[0m\u001b[0m\n\u001b[0;32m      2\u001b[0m \u001b[0mfig\u001b[0m\u001b[1;33m=\u001b[0m\u001b[0mplt\u001b[0m\u001b[1;33m.\u001b[0m\u001b[0mfigure\u001b[0m\u001b[1;33m(\u001b[0m\u001b[1;33m)\u001b[0m\u001b[1;33m\u001b[0m\u001b[1;33m\u001b[0m\u001b[0m\n\u001b[1;32m----> 3\u001b[1;33m \u001b[0mx\u001b[0m\u001b[1;33m\u001b[0m\u001b[1;33m\u001b[0m\u001b[0m\n\u001b[0m\u001b[0;32m      4\u001b[0m \u001b[0mplt\u001b[0m\u001b[1;33m.\u001b[0m\u001b[0mplot\u001b[0m\u001b[1;33m(\u001b[0m\u001b[1;33m[\u001b[0m\u001b[1;36m1\u001b[0m\u001b[1;33m,\u001b[0m\u001b[1;36m2\u001b[0m\u001b[1;33m,\u001b[0m\u001b[1;36m3\u001b[0m\u001b[1;33m]\u001b[0m\u001b[1;33m,\u001b[0m\u001b[1;33m[\u001b[0m\u001b[1;36m4\u001b[0m\u001b[1;33m,\u001b[0m\u001b[1;36m5\u001b[0m\u001b[1;33m,\u001b[0m\u001b[1;36m1\u001b[0m\u001b[1;33m]\u001b[0m\u001b[1;33m)\u001b[0m\u001b[1;33m\u001b[0m\u001b[1;33m\u001b[0m\u001b[0m\n\u001b[0;32m      5\u001b[0m \u001b[0mplt\u001b[0m\u001b[1;33m.\u001b[0m\u001b[0mshow\u001b[0m\u001b[1;33m(\u001b[0m\u001b[1;33m)\u001b[0m\u001b[1;33m\u001b[0m\u001b[1;33m\u001b[0m\u001b[0m\n",
      "\u001b[1;31mNameError\u001b[0m: name 'x' is not defined"
     ]
    },
    {
     "data": {
      "text/plain": [
       "<Figure size 432x288 with 0 Axes>"
      ]
     },
     "metadata": {},
     "output_type": "display_data"
    }
   ],
   "source": [
    "#conjunto de datos [x],[y]\n",
    "fig=plt.figure()\n",
    "x\n",
    "plt.plot([1,2,3],[4,5,1])\n",
    "plt.show()\n",
    "fig.savefig(\"02_fig1.pdf\", bbox_inches='tight')"
   ]
  },
  {
   "cell_type": "code",
   "execution_count": 18,
   "id": "81831ac2",
   "metadata": {},
   "outputs": [
    {
     "name": "stdout",
     "output_type": "stream",
     "text": [
      "Ingresa un número para elegir un modo:\n",
      "\"1: Suma\n",
      "\"2: Resta\n",
      "\"3: Multiplicación\n",
      "\"4: División\n",
      "\"5: Potencias\n",
      "              \"6: Salir2\n",
      "Ingresa el primer número: 2\n",
      "Ingresa el segundo número: 3\n",
      "¡Adiós!\n"
     ]
    }
   ],
   "source": [
    "#Crear una función de menú que enumere los modos en la calculadora\n",
    "def menu():\n",
    "  mode = input(\"\"\"Ingresa un número para elegir un modo:\n",
    "\"1: Suma\n",
    "\"2: Resta\n",
    "\"3: Multiplicación\n",
    "\"4: División\n",
    "\"5: Potencias\n",
    "              \"6: Salir\"\"\").strip()\n",
    "  return mode\n",
    "  \n",
    "#Función de suma\n",
    "def add(number1, number2):\n",
    "  answer = number1 + number2\n",
    "  return answer\n",
    "\n",
    "#Función de resta\n",
    "def subtract(number1, number2):\n",
    "  answer = number1 - number2\n",
    "  return answer\n",
    "\n",
    "#Función de multiplicación\n",
    "def multiply(number1, number2):\n",
    "  answer = number1 * number2\n",
    "  return answer\n",
    "\n",
    "#Función de división\n",
    "def divide(number1, number2):\n",
    "  answer = number1 / number2\n",
    "  return answer\n",
    "\n",
    "#Función de potencias\n",
    "def powers(number1, number2):\n",
    "  answer = number1 ** number2\n",
    "  return answer\n",
    "  \n",
    "#Bucle del programa principal\n",
    "while True:\n",
    "  \n",
    "  #Imprimir el menú y obtener la elección de modo del usuario\n",
    "  mode = menu()\n",
    "  \n",
    "  #Comprobar que sea una opción válida\n",
    "  if mode in [\"1\", \"2\", \"3\", \"4\", \"5\", \"6\"]:\n",
    "    \n",
    "    #Pedir números al usuario\n",
    "    num1 = int(input(\"Ingresa el primer número: \"))\n",
    "    num2 = int(input(\"Ingresa el segundo número: \"))\n",
    "    \n",
    "    #Hacer la operación matemática elegida con números, o salir del bucle si se elige la salida\n",
    "    if mode ==1:\n",
    "      solution=add(num1,num2)\n",
    "      print(\"{}+{}={}\".format(num1,num2,solution))\n",
    "    elif mode ==2:\n",
    "      solution=subtract(num1,num2)\n",
    "      print(\"{}-{}={}\".format(num1,num2,solution))\n",
    "    elif mode ==3:\n",
    "      solution=multiply(num1,num2)\n",
    "      print(\"{}X{}={}\".format(num1,num2,solution))\n",
    "    elif mode ==4:\n",
    "      solution=divide(num1,num2)\n",
    "      print(\"{}/{}={}\".format(num1,num2,solution))\n",
    "    elif mode ==5:\n",
    "      solution=powers(num1,num2)\n",
    "      print(\"{}^{}={}\".format(num1,num2,solution))\n",
    "    else:\n",
    "      break\n",
    "  #De lo contrario, decirle al usuario que esa no era una opción\n",
    "  else:\n",
    "    print(\"Oh, oh… esa no era una opción. ¡Inténtalo de nuevo!\")\n",
    "print(\"¡Adiós!\")\n",
    "\n"
   ]
  },
  {
   "cell_type": "code",
   "execution_count": 15,
   "id": "59002ea6",
   "metadata": {},
   "outputs": [
    {
     "ename": "NameError",
     "evalue": "name 'solution' is not defined",
     "output_type": "error",
     "traceback": [
      "\u001b[1;31m---------------------------------------------------------------------------\u001b[0m",
      "\u001b[1;31mNameError\u001b[0m                                 Traceback (most recent call last)",
      "\u001b[1;32m<ipython-input-15-bbd0511184f1>\u001b[0m in \u001b[0;36m<module>\u001b[1;34m\u001b[0m\n\u001b[1;32m----> 1\u001b[1;33m \u001b[0msolution\u001b[0m\u001b[1;33m\u001b[0m\u001b[1;33m\u001b[0m\u001b[0m\n\u001b[0m",
      "\u001b[1;31mNameError\u001b[0m: name 'solution' is not defined"
     ]
    }
   ],
   "source": [
    "solution"
   ]
  },
  {
   "cell_type": "code",
   "execution_count": 17,
   "id": "7f7cd19c",
   "metadata": {},
   "outputs": [
    {
     "name": "stdout",
     "output_type": "stream",
     "text": [
      "1/2=3\n"
     ]
    }
   ],
   "source": []
  },
  {
   "cell_type": "code",
   "execution_count": null,
   "id": "f99c164e",
   "metadata": {},
   "outputs": [],
   "source": []
  }
 ],
 "metadata": {
  "kernelspec": {
   "display_name": "Python 3",
   "language": "python",
   "name": "python3"
  },
  "language_info": {
   "codemirror_mode": {
    "name": "ipython",
    "version": 3
   },
   "file_extension": ".py",
   "mimetype": "text/x-python",
   "name": "python",
   "nbconvert_exporter": "python",
   "pygments_lexer": "ipython3",
   "version": "3.8.8"
  }
 },
 "nbformat": 4,
 "nbformat_minor": 5
}

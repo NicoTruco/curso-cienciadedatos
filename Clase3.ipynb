{
 "cells": [
  {
   "cell_type": "code",
   "execution_count": 10,
   "id": "8686013b",
   "metadata": {},
   "outputs": [
    {
     "name": "stdout",
     "output_type": "stream",
     "text": [
      "cocodrilo pantano No definido\n"
     ]
    }
   ],
   "source": [
    "#ejercicio 07#\n",
    "#se pueden dejar variables opcionales agregando asteriscos o texto#\n",
    "class Reptil:\n",
    "    #no es necesario pero es mas entendible#\n",
    "    tipo=\"\"\n",
    "    habitat=\"\"\n",
    "    alimento=\"\"\n",
    "    #hasta aca#\n",
    "    def __init__(self,tipo,habitat,alimento=\"No definido\"):\n",
    "        self.tipo=tipo\n",
    "        self.habitat=habitat\n",
    "        self.alimento=alimento\n",
    "\n",
    "r1=Reptil(\"cocodrilo\",\"pantano\")\n",
    "r2=Reptil(\"iguana\",\"selva\",\"insecto\")\n",
    "\n",
    "print(r1.tipo,r1.habitat,r1.alimento)\n"
   ]
  },
  {
   "cell_type": "code",
   "execution_count": 27,
   "id": "5559e6df",
   "metadata": {},
   "outputs": [
    {
     "name": "stdout",
     "output_type": "stream",
     "text": [
      "cocodrilo camina\n",
      "iguana camina\n",
      "corre\n"
     ]
    }
   ],
   "source": [
    "#ejercicio 08#\n",
    "#crear metodo#\n",
    "class Reptil:\n",
    "    tipo=\"\"\n",
    "    habitat=\"\"\n",
    "    alimento=\"\"\n",
    "    def __init__(self,tipo,habitat,alimento=\"Ndef\"):\n",
    "        self.tipo=tipo\n",
    "        self.habitat=habitat\n",
    "        self.alimento=alimento\n",
    "        \n",
    "    def Camina(self):#dinamico#\n",
    "            print(self.tipo,\"camina\")\n",
    "    def Corre():#estatico (se alimenta de la clase)#\n",
    "            print(\"corre\")\n",
    "\n",
    "r1=Reptil(\"cocodrilo\",\"pantano\")\n",
    "r2=Reptil(\"iguana\",\"selva\",\"insecto\")\n",
    "r1.Camina()\n",
    "r2.Camina()\n",
    "Reptil.Corre()"
   ]
  },
  {
   "cell_type": "markdown",
   "id": "5b82ccb2",
   "metadata": {},
   "source": [
    "Existen getter y setter que en python son buenas practicas que permiten obtener a partir de un metodo una variable de interes y permite el cambio de nombre sin generar cambio en el archivo principal. En otros lenguajes de programación corresponden a funciones que permiten obtener y cambiar información de elementos privados."
   ]
  },
  {
   "cell_type": "code",
   "execution_count": 1,
   "id": "e298ce43",
   "metadata": {
    "scrolled": true
   },
   "outputs": [
    {
     "name": "stdout",
     "output_type": "stream",
     "text": [
      "Etapa1\n",
      "despues del constructor\n",
      "Leon Savana Carne\n"
     ]
    }
   ],
   "source": [
    "from Principal import Mamifero\n",
    "\n",
    "print(\"Etapa1\")\n",
    "m1=Mamifero(\"Leon\",\"Savana\",\"Carne\")\n",
    "print(\"despues del constructor\")\n",
    "print(m1.tipo,m1.habitat,m1.alimento)\n"
   ]
  },
  {
   "cell_type": "code",
   "execution_count": 3,
   "id": "7ad9cb38",
   "metadata": {},
   "outputs": [
    {
     "name": "stdout",
     "output_type": "stream",
     "text": [
      "Defaulting to user installation because normal site-packages is not writeable\n",
      "Collecting nbconvert_reportlab\n",
      "  Downloading nbconvert_reportlab-0.2-py2.py3-none-any.whl (13 kB)\n",
      "Requirement already satisfied: nbconvert in c:\\users\\anaconda3\\lib\\site-packages (from nbconvert_reportlab) (6.0.7)\n",
      "Requirement already satisfied: mistune>=0.8.1 in c:\\users\\anaconda3\\lib\\site-packages (from nbconvert_reportlab) (0.8.4)\n",
      "Collecting reportlab\n",
      "  Downloading reportlab-3.6.2-cp38-cp38-win_amd64.whl (2.3 MB)\n",
      "Requirement already satisfied: matplotlib in c:\\users\\anaconda3\\lib\\site-packages (from nbconvert_reportlab) (3.3.4)\n",
      "Collecting pdfrw>=0.3\n",
      "  Downloading pdfrw-0.4-py2.py3-none-any.whl (69 kB)\n",
      "Requirement already satisfied: python-dateutil>=2.1 in c:\\users\\anaconda3\\lib\\site-packages (from matplotlib->nbconvert_reportlab) (2.8.1)\n",
      "Requirement already satisfied: cycler>=0.10 in c:\\users\\anaconda3\\lib\\site-packages (from matplotlib->nbconvert_reportlab) (0.10.0)\n",
      "Requirement already satisfied: pyparsing!=2.0.4,!=2.1.2,!=2.1.6,>=2.0.3 in c:\\users\\anaconda3\\lib\\site-packages (from matplotlib->nbconvert_reportlab) (2.4.7)\n",
      "Requirement already satisfied: numpy>=1.15 in c:\\users\\anaconda3\\lib\\site-packages (from matplotlib->nbconvert_reportlab) (1.20.1)\n",
      "Requirement already satisfied: kiwisolver>=1.0.1 in c:\\users\\anaconda3\\lib\\site-packages (from matplotlib->nbconvert_reportlab) (1.3.1)\n",
      "Requirement already satisfied: pillow>=6.2.0 in c:\\users\\anaconda3\\lib\\site-packages (from matplotlib->nbconvert_reportlab) (8.2.0)\n",
      "Requirement already satisfied: six in c:\\users\\anaconda3\\lib\\site-packages (from cycler>=0.10->matplotlib->nbconvert_reportlab) (1.15.0)\n",
      "Requirement already satisfied: defusedxml in c:\\users\\anaconda3\\lib\\site-packages (from nbconvert->nbconvert_reportlab) (0.7.1)\n",
      "Requirement already satisfied: jupyterlab-pygments in c:\\users\\anaconda3\\lib\\site-packages (from nbconvert->nbconvert_reportlab) (0.1.2)\n",
      "Requirement already satisfied: nbformat>=4.4 in c:\\users\\anaconda3\\lib\\site-packages (from nbconvert->nbconvert_reportlab) (5.1.3)\n",
      "Requirement already satisfied: testpath in c:\\users\\anaconda3\\lib\\site-packages (from nbconvert->nbconvert_reportlab) (0.4.4)\n",
      "Requirement already satisfied: nbclient<0.6.0,>=0.5.0 in c:\\users\\anaconda3\\lib\\site-packages (from nbconvert->nbconvert_reportlab) (0.5.3)\n",
      "Requirement already satisfied: entrypoints>=0.2.2 in c:\\users\\anaconda3\\lib\\site-packages (from nbconvert->nbconvert_reportlab) (0.3)\n",
      "Requirement already satisfied: pandocfilters>=1.4.1 in c:\\users\\anaconda3\\lib\\site-packages (from nbconvert->nbconvert_reportlab) (1.4.3)\n",
      "Requirement already satisfied: jinja2>=2.4 in c:\\users\\anaconda3\\lib\\site-packages (from nbconvert->nbconvert_reportlab) (2.11.3)\n",
      "Requirement already satisfied: traitlets>=4.2 in c:\\users\\anaconda3\\lib\\site-packages (from nbconvert->nbconvert_reportlab) (5.0.5)\n",
      "Requirement already satisfied: bleach in c:\\users\\anaconda3\\lib\\site-packages (from nbconvert->nbconvert_reportlab) (3.3.0)\n",
      "Requirement already satisfied: jupyter-core in c:\\users\\anaconda3\\lib\\site-packages (from nbconvert->nbconvert_reportlab) (4.7.1)\n",
      "Requirement already satisfied: pygments>=2.4.1 in c:\\users\\anaconda3\\lib\\site-packages (from nbconvert->nbconvert_reportlab) (2.8.1)\n",
      "Requirement already satisfied: MarkupSafe>=0.23 in c:\\users\\anaconda3\\lib\\site-packages (from jinja2>=2.4->nbconvert->nbconvert_reportlab) (1.1.1)\n",
      "Requirement already satisfied: jupyter-client>=6.1.5 in c:\\users\\anaconda3\\lib\\site-packages (from nbclient<0.6.0,>=0.5.0->nbconvert->nbconvert_reportlab) (6.1.12)\n",
      "Requirement already satisfied: async-generator in c:\\users\\anaconda3\\lib\\site-packages (from nbclient<0.6.0,>=0.5.0->nbconvert->nbconvert_reportlab) (1.10)\n",
      "Note: you may need to restart the kernel to use updated packages.\n",
      "Requirement already satisfied: nest-asyncio in c:\\users\\anaconda3\\lib\\site-packages (from nbclient<0.6.0,>=0.5.0->nbconvert->nbconvert_reportlab) (1.5.1)\n",
      "Requirement already satisfied: pyzmq>=13 in c:\\users\\anaconda3\\lib\\site-packages (from jupyter-client>=6.1.5->nbclient<0.6.0,>=0.5.0->nbconvert->nbconvert_reportlab) (20.0.0)\n",
      "Requirement already satisfied: tornado>=4.1 in c:\\users\\anaconda3\\lib\\site-packages (from jupyter-client>=6.1.5->nbclient<0.6.0,>=0.5.0->nbconvert->nbconvert_reportlab) (6.1)\n",
      "Requirement already satisfied: pywin32>=1.0 in c:\\users\\anaconda3\\lib\\site-packages (from jupyter-core->nbconvert->nbconvert_reportlab) (227)\n",
      "Requirement already satisfied: jsonschema!=2.5.0,>=2.4 in c:\\users\\anaconda3\\lib\\site-packages (from nbformat>=4.4->nbconvert->nbconvert_reportlab) (3.2.0)\n",
      "Requirement already satisfied: ipython-genutils in c:\\users\\anaconda3\\lib\\site-packages (from nbformat>=4.4->nbconvert->nbconvert_reportlab) (0.2.0)\n",
      "Requirement already satisfied: pyrsistent>=0.14.0 in c:\\users\\anaconda3\\lib\\site-packages (from jsonschema!=2.5.0,>=2.4->nbformat>=4.4->nbconvert->nbconvert_reportlab) (0.17.3)\n",
      "Requirement already satisfied: attrs>=17.4.0 in c:\\users\\anaconda3\\lib\\site-packages (from jsonschema!=2.5.0,>=2.4->nbformat>=4.4->nbconvert->nbconvert_reportlab) (20.3.0)\n",
      "Requirement already satisfied: setuptools in c:\\users\\anaconda3\\lib\\site-packages (from jsonschema!=2.5.0,>=2.4->nbformat>=4.4->nbconvert->nbconvert_reportlab) (52.0.0.post20210125)\n",
      "Requirement already satisfied: webencodings in c:\\users\\anaconda3\\lib\\site-packages (from bleach->nbconvert->nbconvert_reportlab) (0.5.1)\n",
      "Requirement already satisfied: packaging in c:\\users\\anaconda3\\lib\\site-packages (from bleach->nbconvert->nbconvert_reportlab) (20.9)\n",
      "Installing collected packages: reportlab, pdfrw, nbconvert-reportlab\n",
      "Successfully installed nbconvert-reportlab-0.2 pdfrw-0.4 reportlab-3.6.2\n"
     ]
    }
   ],
   "source": [
    "pip install nbconvert_reportlab"
   ]
  },
  {
   "cell_type": "code",
   "execution_count": 4,
   "id": "15b43747",
   "metadata": {},
   "outputs": [
    {
     "name": "stdout",
     "output_type": "stream",
     "text": [
      "Defaulting to user installation because normal site-packages is not writeable\n",
      "Requirement already satisfied: reportlab in c:\\users\\nico_\\appdata\\roaming\\python\\python38\\site-packages (3.6.2)\n",
      "Requirement already satisfied: pillow>=4.0.0 in c:\\users\\anaconda3\\lib\\site-packages (from reportlab) (8.2.0)\n",
      "Note: you may need to restart the kernel to use updated packages.\n"
     ]
    }
   ],
   "source": [
    "pip install reportlab"
   ]
  },
  {
   "cell_type": "code",
   "execution_count": 10,
   "id": "88934b9f",
   "metadata": {},
   "outputs": [],
   "source": [
    "from reportlab.lib.pagesizes import A4\n",
    "from reportlab.pdfgen import canvas\n",
    "w, h = A4\n",
    "nico = canvas.Canvas(\"nico.pdf\", pagesize=A4)\n",
    "nico.drawString(50, h - 40, \"Hola amigos soy Nicolas Galvez ejercicio aslkdsaldkasmadslkadsml lkasmdlas dlkasdmlasdkdas askdmalskdaslkdas alskdjaslkdasjdsa kasdjlaskdjsa\")\n",
    "nico.save()\n",
    "\n",
    "c = canvas.Canvas(\"figuras.pdf\", pagesize=A4)\n",
    "c.drawString(30, h - 50, \"Nicolas Galvez\") \n",
    "c.drawString(30, h - 150, \"Nico2\") \n",
    "c.drawString(30, 150, \"Nico1\") \n",
    "x = 120\n",
    "y = h - 45\n",
    "c.line(x, y, x + 100, y)\n",
    "c.drawString(30, h - 100, \"Rectángulo\")\n",
    "c.rect(x, h - 120, 100, 50)\n",
    "c.drawString(30, h - 170, \"Círculo\")\n",
    "c.circle(170, h - 165, 120)\n",
    "c.drawString(30, h - 240, \"Elipse\")\n",
    "c.ellipse(x, y - 170, x + 100, y - 220)\n",
    "c.showPage()\n",
    "c.save()"
   ]
  },
  {
   "cell_type": "code",
   "execution_count": null,
   "id": "4cee2062",
   "metadata": {},
   "outputs": [],
   "source": []
  }
 ],
 "metadata": {
  "kernelspec": {
   "display_name": "Python 3",
   "language": "python",
   "name": "python3"
  },
  "language_info": {
   "codemirror_mode": {
    "name": "ipython",
    "version": 3
   },
   "file_extension": ".py",
   "mimetype": "text/x-python",
   "name": "python",
   "nbconvert_exporter": "python",
   "pygments_lexer": "ipython3",
   "version": "3.8.8"
  }
 },
 "nbformat": 4,
 "nbformat_minor": 5
}

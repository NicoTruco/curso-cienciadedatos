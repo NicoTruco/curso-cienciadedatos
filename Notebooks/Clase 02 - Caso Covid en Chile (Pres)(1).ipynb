{
 "cells": [
  {
   "cell_type": "markdown",
   "metadata": {},
   "source": [
    "# Caso Covid en Chile"
   ]
  },
  {
   "cell_type": "code",
   "execution_count": 2,
   "metadata": {},
   "outputs": [],
   "source": [
    "import pandas as pd"
   ]
  },
  {
   "cell_type": "code",
   "execution_count": 3,
   "metadata": {},
   "outputs": [],
   "source": [
    "df = pd.read_csv('datos-covid-etareo.csv')"
   ]
  },
  {
   "cell_type": "code",
   "execution_count": 4,
   "metadata": {},
   "outputs": [
    {
     "data": {
      "text/html": [
       "<div>\n",
       "<style scoped>\n",
       "    .dataframe tbody tr th:only-of-type {\n",
       "        vertical-align: middle;\n",
       "    }\n",
       "\n",
       "    .dataframe tbody tr th {\n",
       "        vertical-align: top;\n",
       "    }\n",
       "\n",
       "    .dataframe thead th {\n",
       "        text-align: right;\n",
       "    }\n",
       "</style>\n",
       "<table border=\"1\" class=\"dataframe\">\n",
       "  <thead>\n",
       "    <tr style=\"text-align: right;\">\n",
       "      <th></th>\n",
       "      <th>Grupo de edad</th>\n",
       "      <th>Sexo</th>\n",
       "      <th>Fecha</th>\n",
       "      <th>Contagios</th>\n",
       "    </tr>\n",
       "  </thead>\n",
       "  <tbody>\n",
       "    <tr>\n",
       "      <th>0</th>\n",
       "      <td>00 - 04 años</td>\n",
       "      <td>M</td>\n",
       "      <td>2020-03-25</td>\n",
       "      <td>4</td>\n",
       "    </tr>\n",
       "    <tr>\n",
       "      <th>1</th>\n",
       "      <td>05 - 09 años</td>\n",
       "      <td>M</td>\n",
       "      <td>2020-03-25</td>\n",
       "      <td>2</td>\n",
       "    </tr>\n",
       "    <tr>\n",
       "      <th>2</th>\n",
       "      <td>10 - 14 años</td>\n",
       "      <td>M</td>\n",
       "      <td>2020-03-25</td>\n",
       "      <td>7</td>\n",
       "    </tr>\n",
       "    <tr>\n",
       "      <th>3</th>\n",
       "      <td>15 - 19 años</td>\n",
       "      <td>M</td>\n",
       "      <td>2020-03-25</td>\n",
       "      <td>8</td>\n",
       "    </tr>\n",
       "    <tr>\n",
       "      <th>4</th>\n",
       "      <td>20 - 24 años</td>\n",
       "      <td>M</td>\n",
       "      <td>2020-03-25</td>\n",
       "      <td>25</td>\n",
       "    </tr>\n",
       "    <tr>\n",
       "      <th>5</th>\n",
       "      <td>25 - 29 años</td>\n",
       "      <td>M</td>\n",
       "      <td>2020-03-25</td>\n",
       "      <td>61</td>\n",
       "    </tr>\n",
       "    <tr>\n",
       "      <th>6</th>\n",
       "      <td>30 - 34 años</td>\n",
       "      <td>M</td>\n",
       "      <td>2020-03-25</td>\n",
       "      <td>88</td>\n",
       "    </tr>\n",
       "  </tbody>\n",
       "</table>\n",
       "</div>"
      ],
      "text/plain": [
       "  Grupo de edad Sexo       Fecha  Contagios\n",
       "0  00 - 04 años    M  2020-03-25          4\n",
       "1  05 - 09 años    M  2020-03-25          2\n",
       "2  10 - 14 años    M  2020-03-25          7\n",
       "3  15 - 19 años    M  2020-03-25          8\n",
       "4  20 - 24 años    M  2020-03-25         25\n",
       "5  25 - 29 años    M  2020-03-25         61\n",
       "6  30 - 34 años    M  2020-03-25         88"
      ]
     },
     "execution_count": 4,
     "metadata": {},
     "output_type": "execute_result"
    }
   ],
   "source": [
    "df.head(7)"
   ]
  },
  {
   "cell_type": "code",
   "execution_count": 7,
   "metadata": {},
   "outputs": [
    {
     "data": {
      "text/html": [
       "<div>\n",
       "<style scoped>\n",
       "    .dataframe tbody tr th:only-of-type {\n",
       "        vertical-align: middle;\n",
       "    }\n",
       "\n",
       "    .dataframe tbody tr th {\n",
       "        vertical-align: top;\n",
       "    }\n",
       "\n",
       "    .dataframe thead th {\n",
       "        text-align: right;\n",
       "    }\n",
       "</style>\n",
       "<table border=\"1\" class=\"dataframe\">\n",
       "  <thead>\n",
       "    <tr style=\"text-align: right;\">\n",
       "      <th></th>\n",
       "      <th>Grupo de edad</th>\n",
       "      <th>Sexo</th>\n",
       "      <th>Fecha</th>\n",
       "      <th>Contagios</th>\n",
       "    </tr>\n",
       "  </thead>\n",
       "  <tbody>\n",
       "    <tr>\n",
       "      <th>10</th>\n",
       "      <td>50 - 54 años</td>\n",
       "      <td>M</td>\n",
       "      <td>2020-03-25</td>\n",
       "      <td>28</td>\n",
       "    </tr>\n",
       "    <tr>\n",
       "      <th>11</th>\n",
       "      <td>55 - 59 años</td>\n",
       "      <td>M</td>\n",
       "      <td>2020-03-25</td>\n",
       "      <td>30</td>\n",
       "    </tr>\n",
       "    <tr>\n",
       "      <th>12</th>\n",
       "      <td>60 - 64 años</td>\n",
       "      <td>M</td>\n",
       "      <td>2020-03-25</td>\n",
       "      <td>18</td>\n",
       "    </tr>\n",
       "    <tr>\n",
       "      <th>13</th>\n",
       "      <td>65 - 69 años</td>\n",
       "      <td>M</td>\n",
       "      <td>2020-03-25</td>\n",
       "      <td>14</td>\n",
       "    </tr>\n",
       "    <tr>\n",
       "      <th>14</th>\n",
       "      <td>70 - 74 años</td>\n",
       "      <td>M</td>\n",
       "      <td>2020-03-25</td>\n",
       "      <td>16</td>\n",
       "    </tr>\n",
       "    <tr>\n",
       "      <th>15</th>\n",
       "      <td>75 - 79 años</td>\n",
       "      <td>M</td>\n",
       "      <td>2020-03-25</td>\n",
       "      <td>8</td>\n",
       "    </tr>\n",
       "    <tr>\n",
       "      <th>16</th>\n",
       "      <td>80 y más años</td>\n",
       "      <td>M</td>\n",
       "      <td>2020-03-25</td>\n",
       "      <td>6</td>\n",
       "    </tr>\n",
       "    <tr>\n",
       "      <th>17</th>\n",
       "      <td>00 - 04 años</td>\n",
       "      <td>F</td>\n",
       "      <td>2020-03-25</td>\n",
       "      <td>6</td>\n",
       "    </tr>\n",
       "    <tr>\n",
       "      <th>18</th>\n",
       "      <td>05 - 09 años</td>\n",
       "      <td>F</td>\n",
       "      <td>2020-03-25</td>\n",
       "      <td>4</td>\n",
       "    </tr>\n",
       "    <tr>\n",
       "      <th>19</th>\n",
       "      <td>10 - 14 años</td>\n",
       "      <td>F</td>\n",
       "      <td>2020-03-25</td>\n",
       "      <td>2</td>\n",
       "    </tr>\n",
       "  </tbody>\n",
       "</table>\n",
       "</div>"
      ],
      "text/plain": [
       "    Grupo de edad Sexo       Fecha  Contagios\n",
       "10   50 - 54 años    M  2020-03-25         28\n",
       "11   55 - 59 años    M  2020-03-25         30\n",
       "12   60 - 64 años    M  2020-03-25         18\n",
       "13   65 - 69 años    M  2020-03-25         14\n",
       "14   70 - 74 años    M  2020-03-25         16\n",
       "15   75 - 79 años    M  2020-03-25          8\n",
       "16  80 y más años    M  2020-03-25          6\n",
       "17   00 - 04 años    F  2020-03-25          6\n",
       "18   05 - 09 años    F  2020-03-25          4\n",
       "19   10 - 14 años    F  2020-03-25          2"
      ]
     },
     "execution_count": 7,
     "metadata": {},
     "output_type": "execute_result"
    }
   ],
   "source": [
    "df[10:20]"
   ]
  },
  {
   "cell_type": "code",
   "execution_count": 8,
   "metadata": {},
   "outputs": [
    {
     "data": {
      "text/html": [
       "<div>\n",
       "<style scoped>\n",
       "    .dataframe tbody tr th:only-of-type {\n",
       "        vertical-align: middle;\n",
       "    }\n",
       "\n",
       "    .dataframe tbody tr th {\n",
       "        vertical-align: top;\n",
       "    }\n",
       "\n",
       "    .dataframe thead th {\n",
       "        text-align: right;\n",
       "    }\n",
       "</style>\n",
       "<table border=\"1\" class=\"dataframe\">\n",
       "  <thead>\n",
       "    <tr style=\"text-align: right;\">\n",
       "      <th></th>\n",
       "      <th>Contagios</th>\n",
       "    </tr>\n",
       "    <tr>\n",
       "      <th>Grupo de edad</th>\n",
       "      <th></th>\n",
       "    </tr>\n",
       "  </thead>\n",
       "  <tbody>\n",
       "    <tr>\n",
       "      <th>00 - 04 años</th>\n",
       "      <td>388652</td>\n",
       "    </tr>\n",
       "    <tr>\n",
       "      <th>05 - 09 años</th>\n",
       "      <td>331477</td>\n",
       "    </tr>\n",
       "    <tr>\n",
       "      <th>10 - 14 años</th>\n",
       "      <td>394820</td>\n",
       "    </tr>\n",
       "    <tr>\n",
       "      <th>15 - 19 años</th>\n",
       "      <td>683528</td>\n",
       "    </tr>\n",
       "    <tr>\n",
       "      <th>20 - 24 años</th>\n",
       "      <td>1581826</td>\n",
       "    </tr>\n",
       "    <tr>\n",
       "      <th>25 - 29 años</th>\n",
       "      <td>2440547</td>\n",
       "    </tr>\n",
       "    <tr>\n",
       "      <th>30 - 34 años</th>\n",
       "      <td>2381931</td>\n",
       "    </tr>\n",
       "    <tr>\n",
       "      <th>35 - 39 años</th>\n",
       "      <td>1931353</td>\n",
       "    </tr>\n",
       "    <tr>\n",
       "      <th>40 - 44 años</th>\n",
       "      <td>1632063</td>\n",
       "    </tr>\n",
       "    <tr>\n",
       "      <th>45 - 49 años</th>\n",
       "      <td>1638065</td>\n",
       "    </tr>\n",
       "    <tr>\n",
       "      <th>50 - 54 años</th>\n",
       "      <td>1556952</td>\n",
       "    </tr>\n",
       "    <tr>\n",
       "      <th>55 - 59 años</th>\n",
       "      <td>1442079</td>\n",
       "    </tr>\n",
       "    <tr>\n",
       "      <th>60 - 64 años</th>\n",
       "      <td>1058348</td>\n",
       "    </tr>\n",
       "    <tr>\n",
       "      <th>65 - 69 años</th>\n",
       "      <td>689995</td>\n",
       "    </tr>\n",
       "    <tr>\n",
       "      <th>70 - 74 años</th>\n",
       "      <td>504467</td>\n",
       "    </tr>\n",
       "    <tr>\n",
       "      <th>75 - 79 años</th>\n",
       "      <td>367548</td>\n",
       "    </tr>\n",
       "    <tr>\n",
       "      <th>80 y más años</th>\n",
       "      <td>546816</td>\n",
       "    </tr>\n",
       "  </tbody>\n",
       "</table>\n",
       "</div>"
      ],
      "text/plain": [
       "               Contagios\n",
       "Grupo de edad           \n",
       "00 - 04 años      388652\n",
       "05 - 09 años      331477\n",
       "10 - 14 años      394820\n",
       "15 - 19 años      683528\n",
       "20 - 24 años     1581826\n",
       "25 - 29 años     2440547\n",
       "30 - 34 años     2381931\n",
       "35 - 39 años     1931353\n",
       "40 - 44 años     1632063\n",
       "45 - 49 años     1638065\n",
       "50 - 54 años     1556952\n",
       "55 - 59 años     1442079\n",
       "60 - 64 años     1058348\n",
       "65 - 69 años      689995\n",
       "70 - 74 años      504467\n",
       "75 - 79 años      367548\n",
       "80 y más años     546816"
      ]
     },
     "execution_count": 8,
     "metadata": {},
     "output_type": "execute_result"
    }
   ],
   "source": [
    "df.groupby('Grupo de edad').sum()"
   ]
  },
  {
   "cell_type": "code",
   "execution_count": 9,
   "metadata": {},
   "outputs": [
    {
     "data": {
      "text/html": [
       "<div>\n",
       "<style scoped>\n",
       "    .dataframe tbody tr th:only-of-type {\n",
       "        vertical-align: middle;\n",
       "    }\n",
       "\n",
       "    .dataframe tbody tr th {\n",
       "        vertical-align: top;\n",
       "    }\n",
       "\n",
       "    .dataframe thead th {\n",
       "        text-align: right;\n",
       "    }\n",
       "</style>\n",
       "<table border=\"1\" class=\"dataframe\">\n",
       "  <thead>\n",
       "    <tr style=\"text-align: right;\">\n",
       "      <th></th>\n",
       "      <th>Contagios</th>\n",
       "    </tr>\n",
       "    <tr>\n",
       "      <th>Sexo</th>\n",
       "      <th></th>\n",
       "    </tr>\n",
       "  </thead>\n",
       "  <tbody>\n",
       "    <tr>\n",
       "      <th>F</th>\n",
       "      <td>9550675</td>\n",
       "    </tr>\n",
       "    <tr>\n",
       "      <th>M</th>\n",
       "      <td>10019792</td>\n",
       "    </tr>\n",
       "  </tbody>\n",
       "</table>\n",
       "</div>"
      ],
      "text/plain": [
       "      Contagios\n",
       "Sexo           \n",
       "F       9550675\n",
       "M      10019792"
      ]
     },
     "execution_count": 9,
     "metadata": {},
     "output_type": "execute_result"
    }
   ],
   "source": [
    "df.groupby('Sexo').sum()"
   ]
  },
  {
   "cell_type": "code",
   "execution_count": 10,
   "metadata": {},
   "outputs": [
    {
     "data": {
      "text/html": [
       "<div>\n",
       "<style scoped>\n",
       "    .dataframe tbody tr th:only-of-type {\n",
       "        vertical-align: middle;\n",
       "    }\n",
       "\n",
       "    .dataframe tbody tr th {\n",
       "        vertical-align: top;\n",
       "    }\n",
       "\n",
       "    .dataframe thead th {\n",
       "        text-align: right;\n",
       "    }\n",
       "</style>\n",
       "<table border=\"1\" class=\"dataframe\">\n",
       "  <thead>\n",
       "    <tr style=\"text-align: right;\">\n",
       "      <th></th>\n",
       "      <th>Contagios</th>\n",
       "    </tr>\n",
       "    <tr>\n",
       "      <th>Fecha</th>\n",
       "      <th></th>\n",
       "    </tr>\n",
       "  </thead>\n",
       "  <tbody>\n",
       "    <tr>\n",
       "      <th>2020-03-25</th>\n",
       "      <td>1012</td>\n",
       "    </tr>\n",
       "    <tr>\n",
       "      <th>2020-03-26</th>\n",
       "      <td>1252</td>\n",
       "    </tr>\n",
       "    <tr>\n",
       "      <th>2020-03-27</th>\n",
       "      <td>1434</td>\n",
       "    </tr>\n",
       "    <tr>\n",
       "      <th>2020-03-28</th>\n",
       "      <td>1723</td>\n",
       "    </tr>\n",
       "    <tr>\n",
       "      <th>2020-03-29</th>\n",
       "      <td>1906</td>\n",
       "    </tr>\n",
       "    <tr>\n",
       "      <th>...</th>\n",
       "      <td>...</td>\n",
       "    </tr>\n",
       "    <tr>\n",
       "      <th>2020-10-30</th>\n",
       "      <td>561152</td>\n",
       "    </tr>\n",
       "    <tr>\n",
       "      <th>2020-11-02</th>\n",
       "      <td>566515</td>\n",
       "    </tr>\n",
       "    <tr>\n",
       "      <th>2020-11-06</th>\n",
       "      <td>572664</td>\n",
       "    </tr>\n",
       "    <tr>\n",
       "      <th>2020-11-09</th>\n",
       "      <td>577877</td>\n",
       "    </tr>\n",
       "    <tr>\n",
       "      <th>2020-11-13</th>\n",
       "      <td>584150</td>\n",
       "    </tr>\n",
       "  </tbody>\n",
       "</table>\n",
       "<p>92 rows × 1 columns</p>\n",
       "</div>"
      ],
      "text/plain": [
       "            Contagios\n",
       "Fecha                \n",
       "2020-03-25       1012\n",
       "2020-03-26       1252\n",
       "2020-03-27       1434\n",
       "2020-03-28       1723\n",
       "2020-03-29       1906\n",
       "...               ...\n",
       "2020-10-30     561152\n",
       "2020-11-02     566515\n",
       "2020-11-06     572664\n",
       "2020-11-09     577877\n",
       "2020-11-13     584150\n",
       "\n",
       "[92 rows x 1 columns]"
      ]
     },
     "execution_count": 10,
     "metadata": {},
     "output_type": "execute_result"
    }
   ],
   "source": [
    "df.groupby('Fecha').sum()"
   ]
  },
  {
   "cell_type": "code",
   "execution_count": 11,
   "metadata": {},
   "outputs": [
    {
     "data": {
      "text/plain": [
       "<AxesSubplot:xlabel='Grupo de edad'>"
      ]
     },
     "execution_count": 11,
     "metadata": {},
     "output_type": "execute_result"
    },
    {
     "data": {
      "image/png": "[encoded data removed]",
      "text/plain": [
       "<Figure size 432x288 with 1 Axes>"
      ]
     },
     "metadata": {
      "needs_background": "light"
     },
     "output_type": "display_data"
    }
   ],
   "source": [
    "df.groupby('Grupo de edad').sum().plot(kind='bar')"
   ]
  },
  {
   "cell_type": "code",
   "execution_count": 12,
   "metadata": {},
   "outputs": [
    {
     "data": {
      "text/plain": [
       "<AxesSubplot:xlabel='Fecha'>"
      ]
     },
     "execution_count": 12,
     "metadata": {},
     "output_type": "execute_result"
    },
    {
     "data": {
      "image/png": "[encoded data removed]",
      "text/plain": [
       "<Figure size 432x288 with 1 Axes>"
      ]
     },
     "metadata": {
      "needs_background": "light"
     },
     "output_type": "display_data"
    }
   ],
   "source": [
    "df.groupby('Fecha').sum().plot(kind='line')"
   ]
  },
  {
   "cell_type": "code",
   "execution_count": 13,
   "metadata": {},
   "outputs": [
    {
     "data": {
      "text/html": [
       "<div>\n",
       "<style scoped>\n",
       "    .dataframe tbody tr th:only-of-type {\n",
       "        vertical-align: middle;\n",
       "    }\n",
       "\n",
       "    .dataframe tbody tr th {\n",
       "        vertical-align: top;\n",
       "    }\n",
       "\n",
       "    .dataframe thead th {\n",
       "        text-align: right;\n",
       "    }\n",
       "</style>\n",
       "<table border=\"1\" class=\"dataframe\">\n",
       "  <thead>\n",
       "    <tr style=\"text-align: right;\">\n",
       "      <th></th>\n",
       "      <th>Grupo de edad</th>\n",
       "      <th>Sexo</th>\n",
       "      <th>Fecha</th>\n",
       "      <th>Contagios</th>\n",
       "    </tr>\n",
       "  </thead>\n",
       "  <tbody>\n",
       "    <tr>\n",
       "      <th>0</th>\n",
       "      <td>00 - 04 años</td>\n",
       "      <td>M</td>\n",
       "      <td>2020-03-25</td>\n",
       "      <td>4</td>\n",
       "    </tr>\n",
       "    <tr>\n",
       "      <th>1</th>\n",
       "      <td>05 - 09 años</td>\n",
       "      <td>M</td>\n",
       "      <td>2020-03-25</td>\n",
       "      <td>2</td>\n",
       "    </tr>\n",
       "    <tr>\n",
       "      <th>2</th>\n",
       "      <td>10 - 14 años</td>\n",
       "      <td>M</td>\n",
       "      <td>2020-03-25</td>\n",
       "      <td>7</td>\n",
       "    </tr>\n",
       "    <tr>\n",
       "      <th>3</th>\n",
       "      <td>15 - 19 años</td>\n",
       "      <td>M</td>\n",
       "      <td>2020-03-25</td>\n",
       "      <td>8</td>\n",
       "    </tr>\n",
       "    <tr>\n",
       "      <th>4</th>\n",
       "      <td>20 - 24 años</td>\n",
       "      <td>M</td>\n",
       "      <td>2020-03-25</td>\n",
       "      <td>25</td>\n",
       "    </tr>\n",
       "    <tr>\n",
       "      <th>...</th>\n",
       "      <td>...</td>\n",
       "      <td>...</td>\n",
       "      <td>...</td>\n",
       "      <td>...</td>\n",
       "    </tr>\n",
       "    <tr>\n",
       "      <th>3123</th>\n",
       "      <td>60 - 64 años</td>\n",
       "      <td>F</td>\n",
       "      <td>2020-11-13</td>\n",
       "      <td>14971</td>\n",
       "    </tr>\n",
       "    <tr>\n",
       "      <th>3124</th>\n",
       "      <td>65 - 69 años</td>\n",
       "      <td>F</td>\n",
       "      <td>2020-11-13</td>\n",
       "      <td>10089</td>\n",
       "    </tr>\n",
       "    <tr>\n",
       "      <th>3125</th>\n",
       "      <td>70 - 74 años</td>\n",
       "      <td>F</td>\n",
       "      <td>2020-11-13</td>\n",
       "      <td>7554</td>\n",
       "    </tr>\n",
       "    <tr>\n",
       "      <th>3126</th>\n",
       "      <td>75 - 79 años</td>\n",
       "      <td>F</td>\n",
       "      <td>2020-11-13</td>\n",
       "      <td>5866</td>\n",
       "    </tr>\n",
       "    <tr>\n",
       "      <th>3127</th>\n",
       "      <td>80 y más años</td>\n",
       "      <td>F</td>\n",
       "      <td>2020-11-13</td>\n",
       "      <td>10127</td>\n",
       "    </tr>\n",
       "  </tbody>\n",
       "</table>\n",
       "<p>3128 rows × 4 columns</p>\n",
       "</div>"
      ],
      "text/plain": [
       "      Grupo de edad Sexo       Fecha  Contagios\n",
       "0      00 - 04 años    M  2020-03-25          4\n",
       "1      05 - 09 años    M  2020-03-25          2\n",
       "2      10 - 14 años    M  2020-03-25          7\n",
       "3      15 - 19 años    M  2020-03-25          8\n",
       "4      20 - 24 años    M  2020-03-25         25\n",
       "...             ...  ...         ...        ...\n",
       "3123   60 - 64 años    F  2020-11-13      14971\n",
       "3124   65 - 69 años    F  2020-11-13      10089\n",
       "3125   70 - 74 años    F  2020-11-13       7554\n",
       "3126   75 - 79 años    F  2020-11-13       5866\n",
       "3127  80 y más años    F  2020-11-13      10127\n",
       "\n",
       "[3128 rows x 4 columns]"
      ]
     },
     "execution_count": 13,
     "metadata": {},
     "output_type": "execute_result"
    }
   ],
   "source": [
    "df"
   ]
  },
  {
   "cell_type": "code",
   "execution_count": 14,
   "metadata": {},
   "outputs": [
    {
     "data": {
      "text/html": [
       "<div>\n",
       "<style scoped>\n",
       "    .dataframe tbody tr th:only-of-type {\n",
       "        vertical-align: middle;\n",
       "    }\n",
       "\n",
       "    .dataframe tbody tr th {\n",
       "        vertical-align: top;\n",
       "    }\n",
       "\n",
       "    .dataframe thead th {\n",
       "        text-align: right;\n",
       "    }\n",
       "</style>\n",
       "<table border=\"1\" class=\"dataframe\">\n",
       "  <thead>\n",
       "    <tr style=\"text-align: right;\">\n",
       "      <th></th>\n",
       "      <th>Grupo de edad</th>\n",
       "      <th>Sexo</th>\n",
       "      <th>Fecha</th>\n",
       "      <th>Contagios</th>\n",
       "    </tr>\n",
       "  </thead>\n",
       "  <tbody>\n",
       "    <tr>\n",
       "      <th>0</th>\n",
       "      <td>00 - 04 años</td>\n",
       "      <td>M</td>\n",
       "      <td>2020-03-25</td>\n",
       "      <td>4</td>\n",
       "    </tr>\n",
       "    <tr>\n",
       "      <th>1</th>\n",
       "      <td>05 - 09 años</td>\n",
       "      <td>M</td>\n",
       "      <td>2020-03-25</td>\n",
       "      <td>2</td>\n",
       "    </tr>\n",
       "    <tr>\n",
       "      <th>2</th>\n",
       "      <td>10 - 14 años</td>\n",
       "      <td>M</td>\n",
       "      <td>2020-03-25</td>\n",
       "      <td>7</td>\n",
       "    </tr>\n",
       "    <tr>\n",
       "      <th>3</th>\n",
       "      <td>15 - 19 años</td>\n",
       "      <td>M</td>\n",
       "      <td>2020-03-25</td>\n",
       "      <td>8</td>\n",
       "    </tr>\n",
       "    <tr>\n",
       "      <th>4</th>\n",
       "      <td>20 - 24 años</td>\n",
       "      <td>M</td>\n",
       "      <td>2020-03-25</td>\n",
       "      <td>25</td>\n",
       "    </tr>\n",
       "    <tr>\n",
       "      <th>...</th>\n",
       "      <td>...</td>\n",
       "      <td>...</td>\n",
       "      <td>...</td>\n",
       "      <td>...</td>\n",
       "    </tr>\n",
       "    <tr>\n",
       "      <th>3106</th>\n",
       "      <td>60 - 64 años</td>\n",
       "      <td>M</td>\n",
       "      <td>2020-11-13</td>\n",
       "      <td>16588</td>\n",
       "    </tr>\n",
       "    <tr>\n",
       "      <th>3107</th>\n",
       "      <td>65 - 69 años</td>\n",
       "      <td>M</td>\n",
       "      <td>2020-11-13</td>\n",
       "      <td>10801</td>\n",
       "    </tr>\n",
       "    <tr>\n",
       "      <th>3108</th>\n",
       "      <td>70 - 74 años</td>\n",
       "      <td>M</td>\n",
       "      <td>2020-11-13</td>\n",
       "      <td>7690</td>\n",
       "    </tr>\n",
       "    <tr>\n",
       "      <th>3109</th>\n",
       "      <td>75 - 79 años</td>\n",
       "      <td>M</td>\n",
       "      <td>2020-11-13</td>\n",
       "      <td>5347</td>\n",
       "    </tr>\n",
       "    <tr>\n",
       "      <th>3110</th>\n",
       "      <td>80 y más años</td>\n",
       "      <td>M</td>\n",
       "      <td>2020-11-13</td>\n",
       "      <td>6542</td>\n",
       "    </tr>\n",
       "  </tbody>\n",
       "</table>\n",
       "<p>1564 rows × 4 columns</p>\n",
       "</div>"
      ],
      "text/plain": [
       "      Grupo de edad Sexo       Fecha  Contagios\n",
       "0      00 - 04 años    M  2020-03-25          4\n",
       "1      05 - 09 años    M  2020-03-25          2\n",
       "2      10 - 14 años    M  2020-03-25          7\n",
       "3      15 - 19 años    M  2020-03-25          8\n",
       "4      20 - 24 años    M  2020-03-25         25\n",
       "...             ...  ...         ...        ...\n",
       "3106   60 - 64 años    M  2020-11-13      16588\n",
       "3107   65 - 69 años    M  2020-11-13      10801\n",
       "3108   70 - 74 años    M  2020-11-13       7690\n",
       "3109   75 - 79 años    M  2020-11-13       5347\n",
       "3110  80 y más años    M  2020-11-13       6542\n",
       "\n",
       "[1564 rows x 4 columns]"
      ]
     },
     "execution_count": 14,
     "metadata": {},
     "output_type": "execute_result"
    }
   ],
   "source": [
    "df[ df['Sexo'] == 'M'  ]"
   ]
  },
  {
   "cell_type": "code",
   "execution_count": 15,
   "metadata": {},
   "outputs": [
    {
     "data": {
      "text/plain": [
       "0           4\n",
       "1           2\n",
       "2           7\n",
       "3           8\n",
       "4          25\n",
       "        ...  \n",
       "3123    14971\n",
       "3124    10089\n",
       "3125     7554\n",
       "3126     5866\n",
       "3127    10127\n",
       "Name: Contagios, Length: 3128, dtype: int64"
      ]
     },
     "execution_count": 15,
     "metadata": {},
     "output_type": "execute_result"
    }
   ],
   "source": [
    "df['Contagios']"
   ]
  },
  {
   "cell_type": "code",
   "execution_count": 16,
   "metadata": {},
   "outputs": [
    {
     "data": {
      "text/plain": [
       "'2020-11-13'"
      ]
     },
     "execution_count": 16,
     "metadata": {},
     "output_type": "execute_result"
    }
   ],
   "source": [
    "df['Fecha'].max()"
   ]
  },
  {
   "cell_type": "code",
   "execution_count": 17,
   "metadata": {},
   "outputs": [
    {
     "data": {
      "text/plain": [
       "'2020-03-25'"
      ]
     },
     "execution_count": 17,
     "metadata": {},
     "output_type": "execute_result"
    }
   ],
   "source": [
    "df['Fecha'].min()"
   ]
  },
  {
   "cell_type": "code",
   "execution_count": 18,
   "metadata": {},
   "outputs": [
    {
     "data": {
      "text/plain": [
       "3128"
      ]
     },
     "execution_count": 18,
     "metadata": {},
     "output_type": "execute_result"
    }
   ],
   "source": [
    "df['Fecha'].count()"
   ]
  },
  {
   "cell_type": "code",
   "execution_count": 19,
   "metadata": {},
   "outputs": [
    {
     "data": {
      "text/plain": [
       "35943"
      ]
     },
     "execution_count": 19,
     "metadata": {},
     "output_type": "execute_result"
    }
   ],
   "source": [
    "df['Contagios'].max()"
   ]
  },
  {
   "cell_type": "code",
   "execution_count": 20,
   "metadata": {
    "scrolled": true
   },
   "outputs": [
    {
     "data": {
      "text/html": [
       "<div>\n",
       "<style scoped>\n",
       "    .dataframe tbody tr th:only-of-type {\n",
       "        vertical-align: middle;\n",
       "    }\n",
       "\n",
       "    .dataframe tbody tr th {\n",
       "        vertical-align: top;\n",
       "    }\n",
       "\n",
       "    .dataframe thead th {\n",
       "        text-align: right;\n",
       "    }\n",
       "</style>\n",
       "<table border=\"1\" class=\"dataframe\">\n",
       "  <thead>\n",
       "    <tr style=\"text-align: right;\">\n",
       "      <th></th>\n",
       "      <th>Contagios</th>\n",
       "    </tr>\n",
       "  </thead>\n",
       "  <tbody>\n",
       "    <tr>\n",
       "      <th>count</th>\n",
       "      <td>3128.000000</td>\n",
       "    </tr>\n",
       "    <tr>\n",
       "      <th>mean</th>\n",
       "      <td>6256.543159</td>\n",
       "    </tr>\n",
       "    <tr>\n",
       "      <th>std</th>\n",
       "      <td>8415.175092</td>\n",
       "    </tr>\n",
       "    <tr>\n",
       "      <th>min</th>\n",
       "      <td>2.000000</td>\n",
       "    </tr>\n",
       "    <tr>\n",
       "      <th>25%</th>\n",
       "      <td>194.000000</td>\n",
       "    </tr>\n",
       "    <tr>\n",
       "      <th>50%</th>\n",
       "      <td>1913.000000</td>\n",
       "    </tr>\n",
       "    <tr>\n",
       "      <th>75%</th>\n",
       "      <td>9322.750000</td>\n",
       "    </tr>\n",
       "    <tr>\n",
       "      <th>max</th>\n",
       "      <td>35943.000000</td>\n",
       "    </tr>\n",
       "  </tbody>\n",
       "</table>\n",
       "</div>"
      ],
      "text/plain": [
       "          Contagios\n",
       "count   3128.000000\n",
       "mean    6256.543159\n",
       "std     8415.175092\n",
       "min        2.000000\n",
       "25%      194.000000\n",
       "50%     1913.000000\n",
       "75%     9322.750000\n",
       "max    35943.000000"
      ]
     },
     "execution_count": 20,
     "metadata": {},
     "output_type": "execute_result"
    }
   ],
   "source": [
    "df.describe()"
   ]
  },
  {
   "cell_type": "code",
   "execution_count": 21,
   "metadata": {},
   "outputs": [
    {
     "name": "stdout",
     "output_type": "stream",
     "text": [
      "<class 'pandas.core.frame.DataFrame'>\n",
      "RangeIndex: 3128 entries, 0 to 3127\n",
      "Data columns (total 4 columns):\n",
      " #   Column         Non-Null Count  Dtype \n",
      "---  ------         --------------  ----- \n",
      " 0   Grupo de edad  3128 non-null   object\n",
      " 1   Sexo           3128 non-null   object\n",
      " 2   Fecha          3128 non-null   object\n",
      " 3   Contagios      3128 non-null   int64 \n",
      "dtypes: int64(1), object(3)\n",
      "memory usage: 97.9+ KB\n"
     ]
    }
   ],
   "source": [
    "df.info()"
   ]
  },
  {
   "cell_type": "code",
   "execution_count": 22,
   "metadata": {},
   "outputs": [],
   "source": [
    "df.to_csv('nuevo-archivo-covit.csv')"
   ]
  },
  {
   "cell_type": "code",
   "execution_count": 23,
   "metadata": {},
   "outputs": [
    {
     "data": {
      "text/plain": [
       "<AxesSubplot:xlabel='Grupo de edad'>"
      ]
     },
     "execution_count": 23,
     "metadata": {},
     "output_type": "execute_result"
    },
    {
     "data": {
      "image/png": "[encoded data removed]",
      "text/plain": [
       "<Figure size 432x288 with 1 Axes>"
      ]
     },
     "metadata": {
      "needs_background": "light"
     },
     "output_type": "display_data"
    }
   ],
   "source": [
    "df[ df['Fecha']=='2020-06-01' ].groupby('Grupo de edad').sum().plot(kind='bar')"
   ]
  },
  {
   "cell_type": "code",
   "execution_count": 24,
   "metadata": {},
   "outputs": [
    {
     "data": {
      "text/plain": [
       "Grupo de edad    00 - 04 años05 - 09 años10 - 14 años15 - 19 añ...\n",
       "Sexo             MMMMMMMMMMMMMMMMMFFFFFFFFFFFFFFFFFMMMMMMMMMMMM...\n",
       "Fecha            2020-03-252020-03-252020-03-252020-03-252020-0...\n",
       "Contagios                                                 19570467\n",
       "dtype: object"
      ]
     },
     "execution_count": 24,
     "metadata": {},
     "output_type": "execute_result"
    }
   ],
   "source": [
    "df.sum()"
   ]
  },
  {
   "cell_type": "code",
   "execution_count": 25,
   "metadata": {},
   "outputs": [
    {
     "data": {
      "text/plain": [
       "Grupo de edad    00 - 04 años05 - 09 años10 - 14 años15 - 19 añ...\n",
       "Sexo                            MMMMMMMMMMMMMMMMMFFFFFFFFFFFFFFFFF\n",
       "Fecha            2020-06-012020-06-012020-06-012020-06-012020-0...\n",
       "Contagios                                                   105157\n",
       "dtype: object"
      ]
     },
     "execution_count": 25,
     "metadata": {},
     "output_type": "execute_result"
    }
   ],
   "source": [
    "df[ df['Fecha']=='2020-06-01' ].sum()"
   ]
  },
  {
   "cell_type": "code",
   "execution_count": 26,
   "metadata": {},
   "outputs": [
    {
     "data": {
      "text/plain": [
       "Contagios    1012\n",
       "dtype: int64"
      ]
     },
     "execution_count": 26,
     "metadata": {},
     "output_type": "execute_result"
    }
   ],
   "source": [
    "df[ df['Fecha']=='2020-03-25' ].groupby('Grupo de edad').sum().sum()"
   ]
  },
  {
   "cell_type": "code",
   "execution_count": null,
   "metadata": {},
   "outputs": [],
   "source": []
  }
 ],
 "metadata": {
  "kernelspec": {
   "display_name": "Python 3",
   "language": "python",
   "name": "python3"
  },
  "language_info": {
   "codemirror_mode": {
    "name": "ipython",
    "version": 3
   },
   "file_extension": ".py",
   "mimetype": "text/x-python",
   "name": "python",
   "nbconvert_exporter": "python",
   "pygments_lexer": "ipython3",
   "version": "3.8.8"
  }
 },
 "nbformat": 4,
 "nbformat_minor": 4
}

{
 "cells": [
  {
   "cell_type": "markdown",
   "id": "75bfea12",
   "metadata": {},
   "source": [
    "### Normalización Z-score\n",
    "#### En scikitlearn se conoce como estandar"
   ]
  },
  {
   "cell_type": "code",
   "execution_count": 2,
   "id": "d2a0ce18",
   "metadata": {},
   "outputs": [],
   "source": [
    "import timeit #sirve para medir el performance de un modelo\n",
    "import numpy as np\n",
    "import pandas as pd\n",
    "import matplotlib.pyplot as plt\n",
    "import seaborn as sns\n",
    "from sklearn import datasets, linear_model\n",
    "#importamos datasets y un modelo de regresion lineal#\n",
    "from sklearn.preprocessing import MinMaxScaler"
   ]
  },
  {
   "cell_type": "code",
   "execution_count": 3,
   "id": "1af0de2f",
   "metadata": {},
   "outputs": [],
   "source": [
    "scaler = MinMaxScaler()\n",
    "X,y = datasets.load_diabetes(return_X_y = True)\n",
    "#X indica el indice de masa corporal en la columna 3 y otros datos\n",
    "#y es una medida cuantitativa de la progresión de la enfermedad despues de un año de inicio\n",
    "raw = X[:, None,2]#None crea un nuevo arreglo#"
   ]
  },
  {
   "cell_type": "code",
   "execution_count": 13,
   "id": "2bc8ad87",
   "metadata": {},
   "outputs": [
    {
     "ename": "NameError",
     "evalue": "name 'diabetes' is not defined",
     "output_type": "error",
     "traceback": [
      "\u001b[1;31m---------------------------------------------------------------------------\u001b[0m",
      "\u001b[1;31mNameError\u001b[0m                                 Traceback (most recent call last)",
      "\u001b[1;32m<ipython-input-13-886c89a456d3>\u001b[0m in \u001b[0;36m<module>\u001b[1;34m\u001b[0m\n\u001b[1;32m----> 1\u001b[1;33m \u001b[0mdiabetes\u001b[0m\u001b[1;33m\u001b[0m\u001b[1;33m\u001b[0m\u001b[0m\n\u001b[0m",
      "\u001b[1;31mNameError\u001b[0m: name 'diabetes' is not defined"
     ]
    }
   ],
   "source": []
  },
  {
   "cell_type": "code",
   "execution_count": 4,
   "id": "c5939a7b",
   "metadata": {},
   "outputs": [],
   "source": [
    "#reglas de escalamiento\n",
    "max_raw=max(raw)\n",
    "min_raw=min(raw)\n",
    "#los datos ya estan escalados \n",
    "scaled=(2*raw-min_raw)/(max_raw-min_raw)\n",
    "scaled=scaler.fit_transform(raw)"
   ]
  },
  {
   "cell_type": "code",
   "execution_count": 5,
   "id": "40fd5a64",
   "metadata": {},
   "outputs": [
    {
     "data": {
      "image/png": "[encoded data removed]",
      "text/plain": [
       "<Figure size 432x288 with 2 Axes>"
      ]
     },
     "metadata": {
      "needs_background": "light"
     },
     "output_type": "display_data"
    }
   ],
   "source": [
    "#Es un arreglo de graficos\n",
    "#axs es un eje como quiero que se muestren nuestros graficos\n",
    "#2 = fila\n",
    "#1 = columna\n",
    "#sharex que compartan el x\n",
    "fig, axs = plt.subplots(2,1,sharex=True)\n",
    "axs[0].hist(raw)\n",
    "axs[1].hist(scaled)\n",
    "plt.show()"
   ]
  },
  {
   "cell_type": "code",
   "execution_count": 14,
   "id": "dd2d461e",
   "metadata": {},
   "outputs": [
    {
     "data": {
      "text/plain": [
       "array([[ 0.03807591,  0.05068012,  0.06169621, ..., -0.00259226,\n",
       "         0.01990842, -0.01764613],\n",
       "       [-0.00188202, -0.04464164, -0.05147406, ..., -0.03949338,\n",
       "        -0.06832974, -0.09220405],\n",
       "       [ 0.08529891,  0.05068012,  0.04445121, ..., -0.00259226,\n",
       "         0.00286377, -0.02593034],\n",
       "       ...,\n",
       "       [ 0.04170844,  0.05068012, -0.01590626, ..., -0.01107952,\n",
       "        -0.04687948,  0.01549073],\n",
       "       [-0.04547248, -0.04464164,  0.03906215, ...,  0.02655962,\n",
       "         0.04452837, -0.02593034],\n",
       "       [-0.04547248, -0.04464164, -0.0730303 , ..., -0.03949338,\n",
       "        -0.00421986,  0.00306441]])"
      ]
     },
     "execution_count": 14,
     "metadata": {},
     "output_type": "execute_result"
    }
   ],
   "source": [
    "X"
   ]
  },
  {
   "cell_type": "code",
   "execution_count": 18,
   "id": "0a8f965b",
   "metadata": {},
   "outputs": [],
   "source": [
    "# los modelos de entrenamiento, vamos a definir unas funciones\n",
    "#La variable \"Y\" es lo que buscamos predecir\n",
    "\n",
    "def train_raw():\n",
    "    linear_model.LinearRegression().fit(raw,y)#como se muestran los datos cuando no estan ajustados#\n",
    "\n",
    "def train_scaled():\n",
    "    linear_model.LinearRegression().fit(scaled,y)#como se muestran los datos cuando se ajustan#\n",
    "    \n",
    "#tenemos 2 funciones train_raw con datos no escalados\n",
    "#y train_scale con datos escalados\n"
   ]
  },
  {
   "cell_type": "code",
   "execution_count": 1,
   "id": "d68459ea",
   "metadata": {
    "scrolled": true
   },
   "outputs": [
    {
     "ename": "NameError",
     "evalue": "name 'timeit' is not defined",
     "output_type": "error",
     "traceback": [
      "\u001b[1;31m---------------------------------------------------------------------------\u001b[0m",
      "\u001b[1;31mNameError\u001b[0m                                 Traceback (most recent call last)",
      "\u001b[1;32m<ipython-input-1-277a0c911040>\u001b[0m in \u001b[0;36m<module>\u001b[1;34m\u001b[0m\n\u001b[0;32m      1\u001b[0m \u001b[1;31m#el tiempo o performance que se demoran en ejecutarse\u001b[0m\u001b[1;33m\u001b[0m\u001b[1;33m\u001b[0m\u001b[1;33m\u001b[0m\u001b[0m\n\u001b[1;32m----> 2\u001b[1;33m \u001b[0mraw_time\u001b[0m\u001b[1;33m=\u001b[0m\u001b[0mtimeit\u001b[0m\u001b[1;33m.\u001b[0m\u001b[0mtimeit\u001b[0m\u001b[1;33m(\u001b[0m\u001b[0mtrain_raw\u001b[0m\u001b[1;33m,\u001b[0m\u001b[0mnumber\u001b[0m\u001b[1;33m=\u001b[0m\u001b[1;36m100\u001b[0m\u001b[1;33m)\u001b[0m\u001b[1;31m#que se repita 100 veces#\u001b[0m\u001b[1;33m\u001b[0m\u001b[1;33m\u001b[0m\u001b[0m\n\u001b[0m\u001b[0;32m      3\u001b[0m \u001b[0mscaled_time\u001b[0m\u001b[1;33m=\u001b[0m\u001b[0mtimeit\u001b[0m\u001b[1;33m.\u001b[0m\u001b[0mtimeit\u001b[0m\u001b[1;33m(\u001b[0m\u001b[0mtrain_scaled\u001b[0m\u001b[1;33m,\u001b[0m\u001b[0mnumber\u001b[0m\u001b[1;33m=\u001b[0m\u001b[1;36m100\u001b[0m\u001b[1;33m)\u001b[0m\u001b[1;31m#que repita 100 veces\u001b[0m\u001b[1;33m\u001b[0m\u001b[1;33m\u001b[0m\u001b[0m\n\u001b[0;32m      4\u001b[0m \u001b[0mprint\u001b[0m\u001b[1;33m(\u001b[0m\u001b[0mraw_time\u001b[0m\u001b[1;33m)\u001b[0m\u001b[1;33m\u001b[0m\u001b[1;33m\u001b[0m\u001b[0m\n\u001b[0;32m      5\u001b[0m \u001b[0mprint\u001b[0m\u001b[1;33m(\u001b[0m\u001b[1;34m\"train raw:{}\"\u001b[0m\u001b[1;33m.\u001b[0m\u001b[0mformat\u001b[0m\u001b[1;33m(\u001b[0m\u001b[0mraw_time\u001b[0m\u001b[1;33m)\u001b[0m\u001b[1;33m)\u001b[0m\u001b[1;33m\u001b[0m\u001b[1;33m\u001b[0m\u001b[0m\n",
      "\u001b[1;31mNameError\u001b[0m: name 'timeit' is not defined"
     ]
    }
   ],
   "source": [
    "#el tiempo o performance que se demoran en ejecutarse\n",
    "raw_time=timeit.timeit(train_raw,number=100)#que se repita 100 veces#\n",
    "scaled_time=timeit.timeit(train_scaled,number=100)#que repita 100 veces\n",
    "print(\"train raw:{}\".format(raw_time))\n",
    "print(\"train scaled:{}\".format(scaled_time))"
   ]
  },
  {
   "cell_type": "markdown",
   "id": "2d66f779",
   "metadata": {},
   "source": [
    "### evidenciamos una reducción en el tiempo de ejecución(que era lo que buscamos observar), escalar los datos contribuye al algoritmo.\n",
    "-max-min scalling:es mejor para datos uniformemente definidos\n",
    "\n",
    "-z-score scalling: es mejor para datos con una distribución normal."
   ]
  },
  {
   "cell_type": "code",
   "execution_count": 25,
   "id": "6d5253c8",
   "metadata": {},
   "outputs": [],
   "source": [
    "#Z-Score\n",
    "#promedio = np.mean(raw)\n",
    "promedio = raw.mean()\n",
    "desviacion_estandar=raw.std()\n",
    "scaled_z=(raw-promedio)/desviacion_estandar"
   ]
  },
  {
   "cell_type": "code",
   "execution_count": 28,
   "id": "5be6b306",
   "metadata": {},
   "outputs": [
    {
     "data": {
      "image/png": "[encoded data removed]",
      "text/plain": [
       "<Figure size 432x288 with 3 Axes>"
      ]
     },
     "metadata": {
      "needs_background": "light"
     },
     "output_type": "display_data"
    }
   ],
   "source": [
    "fig, axs = plt.subplots(3,1,sharex=True)\n",
    "axs[0].hist(raw)\n",
    "axs[1].hist(scaled)\n",
    "axs[2].hist(scaled_z)\n",
    "plt.show()"
   ]
  },
  {
   "cell_type": "code",
   "execution_count": 29,
   "id": "84a81ab2",
   "metadata": {},
   "outputs": [],
   "source": [
    "def train_scaled_z():\n",
    "    linear_model.LinearRegression().fit(scaled_z,y)"
   ]
  },
  {
   "cell_type": "code",
   "execution_count": 34,
   "id": "b16f919a",
   "metadata": {},
   "outputs": [
    {
     "name": "stdout",
     "output_type": "stream",
     "text": [
      "train raw:0.15615660000003118\n",
      "train scaled:0.09537499999987631\n",
      "train scalez z:0.12787130000015168\n"
     ]
    }
   ],
   "source": [
    "#Performance\n",
    "scaled_z_time=timeit.timeit(train_scaled_z,number=100)\n",
    "print(\"train raw:{}\".format(raw_time))\n",
    "print(\"train scaled:{}\".format(scaled_time))\n",
    "print(\"train scaled z:{}\".format(scaled_z_time))"
   ]
  },
  {
   "cell_type": "code",
   "execution_count": 36,
   "id": "5943b398",
   "metadata": {},
   "outputs": [
    {
     "data": {
      "image/png": "[encoded data removed]",
      "text/plain": [
       "<Figure size 432x288 with 1 Axes>"
      ]
     },
     "metadata": {
      "needs_background": "light"
     },
     "output_type": "display_data"
    }
   ],
   "source": [
    "#usaremos el dataset cars xq esta fuertemente sesgado\n",
    "df=pd.read_csv(\"cars.csv\")\n",
    "df.price_usd.hist()\n",
    "plt.show()"
   ]
  },
  {
   "cell_type": "code",
   "execution_count": 41,
   "id": "93bcd4de",
   "metadata": {},
   "outputs": [
    {
     "data": {
      "text/plain": [
       "<AxesSubplot:>"
      ]
     },
     "execution_count": 41,
     "metadata": {},
     "output_type": "execute_result"
    },
    {
     "data": {
      "image/png": "[encoded data removed]",
      "text/plain": [
       "<Figure size 432x288 with 1 Axes>"
      ]
     },
     "metadata": {
      "needs_background": "light"
     },
     "output_type": "display_data"
    }
   ],
   "source": [
    "df.price_usd.apply(lambda x: np.tanh(x)).hist()"
   ]
  },
  {
   "cell_type": "code",
   "execution_count": 44,
   "id": "0ee32632",
   "metadata": {},
   "outputs": [
    {
     "data": {
      "text/plain": [
       "<AxesSubplot:>"
      ]
     },
     "execution_count": 44,
     "metadata": {},
     "output_type": "execute_result"
    },
    {
     "data": {
      "image/png": "[encoded data removed]",
      "text/plain": [
       "<Figure size 432x288 with 1 Axes>"
      ]
     },
     "metadata": {
      "needs_background": "light"
     },
     "output_type": "display_data"
    }
   ],
   "source": [
    "#no nos entrega un valor deseada, dividiremos por otro valor\n",
    "p=10000\n",
    "df.price_usd.apply(lambda x: np.tanh(x/p)).hist()"
   ]
  },
  {
   "cell_type": "code",
   "execution_count": null,
   "id": "4dbacfe2",
   "metadata": {},
   "outputs": [],
   "source": [
    "#vemos como ocurrio un cambio en la funcion"
   ]
  }
 ],
 "metadata": {
  "kernelspec": {
   "display_name": "Python 3",
   "language": "python",
   "name": "python3"
  },
  "language_info": {
   "codemirror_mode": {
    "name": "ipython",
    "version": 3
   },
   "file_extension": ".py",
   "mimetype": "text/x-python",
   "name": "python",
   "nbconvert_exporter": "python",
   "pygments_lexer": "ipython3",
   "version": "3.8.8"
  }
 },
 "nbformat": 4,
 "nbformat_minor": 5
}

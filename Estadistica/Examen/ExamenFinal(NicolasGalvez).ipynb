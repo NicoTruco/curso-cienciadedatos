{
 "cells": [
  {
   "cell_type": "markdown",
   "id": "0874f0f4",
   "metadata": {},
   "source": [
    "# Parte 1\n",
    "### “Medidas de tendencia Central”\n",
    "\n",
    "Una vez escogido el data set calcule las medida de tendencia central con una columna con datos numéricos. Es decir tome un Análisis univariado de alguna variable y calcule los estadísticos y de determine que tipo de distribucion tiene ( graficos).\n",
    "\n",
    "Tome por ejemplo el archivo de “Medidas de tendencia central”, realice las analisis y conclusiones. \n"
   ]
  },
  {
   "cell_type": "markdown",
   "id": "ceb47c41",
   "metadata": {},
   "source": [
    "### Análisis de la data "
   ]
  },
  {
   "cell_type": "code",
   "execution_count": null,
   "id": "ba710e54",
   "metadata": {},
   "outputs": [],
   "source": [
    "import numpy as np\n",
    "import pandas as pd\n",
    "import seaborn as sns\n",
    "import matplotlib.pyplot as plt"
   ]
  },
  {
   "cell_type": "code",
   "execution_count": 2,
   "id": "133d997f",
   "metadata": {},
   "outputs": [],
   "source": [
    "#hacemos lectura del dataset\n",
    "df=pd.read_csv(\"Starcraft.csv\")"
   ]
  },
  {
   "cell_type": "code",
   "execution_count": 13,
   "id": "31a2e724",
   "metadata": {},
   "outputs": [
    {
     "data": {
      "text/html": [
       "<div>\n",
       "<style scoped>\n",
       "    .dataframe tbody tr th:only-of-type {\n",
       "        vertical-align: middle;\n",
       "    }\n",
       "\n",
       "    .dataframe tbody tr th {\n",
       "        vertical-align: top;\n",
       "    }\n",
       "\n",
       "    .dataframe thead th {\n",
       "        text-align: right;\n",
       "    }\n",
       "</style>\n",
       "<table border=\"1\" class=\"dataframe\">\n",
       "  <thead>\n",
       "    <tr style=\"text-align: right;\">\n",
       "      <th></th>\n",
       "      <th>GameID</th>\n",
       "      <th>LeagueIndex</th>\n",
       "      <th>Age</th>\n",
       "      <th>HoursPerWeek</th>\n",
       "      <th>TotalHours</th>\n",
       "      <th>APM</th>\n",
       "      <th>SelectByHotkeys</th>\n",
       "      <th>AssignToHotkeys</th>\n",
       "      <th>UniqueHotkeys</th>\n",
       "      <th>MinimapAttacks</th>\n",
       "      <th>MinimapRightClicks</th>\n",
       "      <th>NumberOfPACs</th>\n",
       "      <th>GapBetweenPACs</th>\n",
       "      <th>ActionLatency</th>\n",
       "      <th>ActionsInPAC</th>\n",
       "      <th>TotalMapExplored</th>\n",
       "      <th>WorkersMade</th>\n",
       "      <th>UniqueUnitsMade</th>\n",
       "      <th>ComplexUnitsMade</th>\n",
       "      <th>ComplexAbilitiesUsed</th>\n",
       "    </tr>\n",
       "  </thead>\n",
       "  <tbody>\n",
       "    <tr>\n",
       "      <th>0</th>\n",
       "      <td>52</td>\n",
       "      <td>5</td>\n",
       "      <td>27</td>\n",
       "      <td>10</td>\n",
       "      <td>3000</td>\n",
       "      <td>143.7180</td>\n",
       "      <td>0.003515</td>\n",
       "      <td>0.000220</td>\n",
       "      <td>7</td>\n",
       "      <td>0.000110</td>\n",
       "      <td>0.000392</td>\n",
       "      <td>0.004849</td>\n",
       "      <td>32.6677</td>\n",
       "      <td>40.8673</td>\n",
       "      <td>4.7508</td>\n",
       "      <td>28</td>\n",
       "      <td>0.001397</td>\n",
       "      <td>6</td>\n",
       "      <td>0.0</td>\n",
       "      <td>0.000000</td>\n",
       "    </tr>\n",
       "    <tr>\n",
       "      <th>1</th>\n",
       "      <td>55</td>\n",
       "      <td>5</td>\n",
       "      <td>23</td>\n",
       "      <td>10</td>\n",
       "      <td>5000</td>\n",
       "      <td>129.2322</td>\n",
       "      <td>0.003304</td>\n",
       "      <td>0.000259</td>\n",
       "      <td>4</td>\n",
       "      <td>0.000294</td>\n",
       "      <td>0.000432</td>\n",
       "      <td>0.004307</td>\n",
       "      <td>32.9194</td>\n",
       "      <td>42.3454</td>\n",
       "      <td>4.8434</td>\n",
       "      <td>22</td>\n",
       "      <td>0.001193</td>\n",
       "      <td>5</td>\n",
       "      <td>0.0</td>\n",
       "      <td>0.000208</td>\n",
       "    </tr>\n",
       "    <tr>\n",
       "      <th>2</th>\n",
       "      <td>56</td>\n",
       "      <td>4</td>\n",
       "      <td>30</td>\n",
       "      <td>10</td>\n",
       "      <td>200</td>\n",
       "      <td>69.9612</td>\n",
       "      <td>0.001101</td>\n",
       "      <td>0.000336</td>\n",
       "      <td>4</td>\n",
       "      <td>0.000294</td>\n",
       "      <td>0.000461</td>\n",
       "      <td>0.002926</td>\n",
       "      <td>44.6475</td>\n",
       "      <td>75.3548</td>\n",
       "      <td>4.0430</td>\n",
       "      <td>22</td>\n",
       "      <td>0.000745</td>\n",
       "      <td>6</td>\n",
       "      <td>0.0</td>\n",
       "      <td>0.000189</td>\n",
       "    </tr>\n",
       "    <tr>\n",
       "      <th>3</th>\n",
       "      <td>57</td>\n",
       "      <td>3</td>\n",
       "      <td>19</td>\n",
       "      <td>20</td>\n",
       "      <td>400</td>\n",
       "      <td>107.6016</td>\n",
       "      <td>0.001034</td>\n",
       "      <td>0.000213</td>\n",
       "      <td>1</td>\n",
       "      <td>0.000053</td>\n",
       "      <td>0.000543</td>\n",
       "      <td>0.003783</td>\n",
       "      <td>29.2203</td>\n",
       "      <td>53.7352</td>\n",
       "      <td>4.9155</td>\n",
       "      <td>19</td>\n",
       "      <td>0.000426</td>\n",
       "      <td>7</td>\n",
       "      <td>0.0</td>\n",
       "      <td>0.000384</td>\n",
       "    </tr>\n",
       "    <tr>\n",
       "      <th>4</th>\n",
       "      <td>58</td>\n",
       "      <td>3</td>\n",
       "      <td>32</td>\n",
       "      <td>10</td>\n",
       "      <td>500</td>\n",
       "      <td>122.8908</td>\n",
       "      <td>0.001136</td>\n",
       "      <td>0.000327</td>\n",
       "      <td>2</td>\n",
       "      <td>0.000000</td>\n",
       "      <td>0.001329</td>\n",
       "      <td>0.002368</td>\n",
       "      <td>22.6885</td>\n",
       "      <td>62.0813</td>\n",
       "      <td>9.3740</td>\n",
       "      <td>15</td>\n",
       "      <td>0.001174</td>\n",
       "      <td>4</td>\n",
       "      <td>0.0</td>\n",
       "      <td>0.000019</td>\n",
       "    </tr>\n",
       "  </tbody>\n",
       "</table>\n",
       "</div>"
      ],
      "text/plain": [
       "   GameID  LeagueIndex Age HoursPerWeek TotalHours       APM  SelectByHotkeys  \\\n",
       "0      52            5  27           10       3000  143.7180         0.003515   \n",
       "1      55            5  23           10       5000  129.2322         0.003304   \n",
       "2      56            4  30           10        200   69.9612         0.001101   \n",
       "3      57            3  19           20        400  107.6016         0.001034   \n",
       "4      58            3  32           10        500  122.8908         0.001136   \n",
       "\n",
       "   AssignToHotkeys  UniqueHotkeys  MinimapAttacks  MinimapRightClicks  \\\n",
       "0         0.000220              7        0.000110            0.000392   \n",
       "1         0.000259              4        0.000294            0.000432   \n",
       "2         0.000336              4        0.000294            0.000461   \n",
       "3         0.000213              1        0.000053            0.000543   \n",
       "4         0.000327              2        0.000000            0.001329   \n",
       "\n",
       "   NumberOfPACs  GapBetweenPACs  ActionLatency  ActionsInPAC  \\\n",
       "0      0.004849         32.6677        40.8673        4.7508   \n",
       "1      0.004307         32.9194        42.3454        4.8434   \n",
       "2      0.002926         44.6475        75.3548        4.0430   \n",
       "3      0.003783         29.2203        53.7352        4.9155   \n",
       "4      0.002368         22.6885        62.0813        9.3740   \n",
       "\n",
       "   TotalMapExplored  WorkersMade  UniqueUnitsMade  ComplexUnitsMade  \\\n",
       "0                28     0.001397                6               0.0   \n",
       "1                22     0.001193                5               0.0   \n",
       "2                22     0.000745                6               0.0   \n",
       "3                19     0.000426                7               0.0   \n",
       "4                15     0.001174                4               0.0   \n",
       "\n",
       "   ComplexAbilitiesUsed  \n",
       "0              0.000000  \n",
       "1              0.000208  \n",
       "2              0.000189  \n",
       "3              0.000384  \n",
       "4              0.000019  "
      ]
     },
     "execution_count": 13,
     "metadata": {},
     "output_type": "execute_result"
    }
   ],
   "source": [
    "df.head()"
   ]
  },
  {
   "cell_type": "code",
   "execution_count": 16,
   "id": "449dfe05",
   "metadata": {},
   "outputs": [
    {
     "data": {
      "text/plain": [
       "GameID                    int64\n",
       "LeagueIndex               int64\n",
       "Age                      object\n",
       "HoursPerWeek             object\n",
       "TotalHours               object\n",
       "APM                     float64\n",
       "SelectByHotkeys         float64\n",
       "AssignToHotkeys         float64\n",
       "UniqueHotkeys             int64\n",
       "MinimapAttacks          float64\n",
       "MinimapRightClicks      float64\n",
       "NumberOfPACs            float64\n",
       "GapBetweenPACs          float64\n",
       "ActionLatency           float64\n",
       "ActionsInPAC            float64\n",
       "TotalMapExplored          int64\n",
       "WorkersMade             float64\n",
       "UniqueUnitsMade           int64\n",
       "ComplexUnitsMade        float64\n",
       "ComplexAbilitiesUsed    float64\n",
       "dtype: object"
      ]
     },
     "execution_count": 16,
     "metadata": {},
     "output_type": "execute_result"
    }
   ],
   "source": [
    "df.dtypes"
   ]
  },
  {
   "attachments": {},
   "cell_type": "markdown",
   "id": "54278284",
   "metadata": {},
   "source": [
    "### Introducción\n",
    "<img src=https://gocdkeys.com/images/captures/starcraft-2-the-complete-trilogy-eu-pc-cd-key-4.jpg>\n",
    "Starcraft 2 corresponde a un juego de estrategia en tiempo real. Sus acontecimientos tienen lugar en un sector de la galaxia llamado sector Koprulu. En este juego existen tres razas principales Terran, Zerg y Protoss las cuales difieren en historia y estilo de juego.Este titulo tuvo un auge durante finales de los 90's y una gran participación a niveles competivos. Es por ello que fue escogida para realizar un estudio estadístico de variables tomadas durante una liga de prueba. En este caso el dataset escogido corresponde a datos de jugadores de Starcraft II .Los datos corresponden a los siguientes:\n",
    "\n",
    "1.- GameID: número unico de cada jugador para cada juego.\n",
    "\n",
    "2.- LeagueIndex: números ordinales que denominan la medalla de cada jugador del 1 al 8 en el siguiente orden: Bronze, Silver, Gold, Platinum, Diamond, Master, GrandMaster y Professional.\n",
    "\n",
    "3.-Age: edad\n",
    "\n",
    "4.- HourPerWeek: Horas reportadas gastadas jugando por semana.\n",
    "\n",
    "5.- TotalHours: Horas totales gastadas jugando.\n",
    "\n",
    "6.- APM: acciones por minuto.\n",
    "\n",
    "7.-SelectByHotkeys: Número de unidades o edificios seleccionadas apartir de hotkeys por periodo de tiempo.\n",
    "\n",
    "8.- AssigntoHotkeys: Número de unidades o edificios asignadas a hotkeys en un periodo de tiempo.\n",
    "\n",
    "9.- UniqueHotkeys: Número de hotkeys unias usadas por periodo de tiempo.\n",
    "\n",
    "10.- MinimapAttacks: Número de acciones de ataque en el minimapa por periodo de tiempo.\n",
    "\n",
    "11.- MinimapRightClicks: Número de clicks derechos en el minimapa por periodo de tiempo.\n",
    "\n",
    "12.-NumberOfPACS: Número de PACS en un periodo de tiempo. Los PACS corresponden a movimientos de cámara donde se realiza alguna acción y luego se vuelve a mover la camara. ref https://www.youtube.com/watch?v=LeZvZzyfJ0E\n",
    "\n",
    "13.- GapBetweenPACS: duración media en milisegundos entre PACS.\n",
    "\n",
    "14.- ActionLatency: Latencia media desde el inicio de un PAC hasta que suceda la primera acción en milisegundos.\n",
    "\n",
    "15.- ActionsInPac: Número medio de actiones entre cada PAC.\n",
    "\n",
    "16.- TotalMapExplored: Número de coordenadas en una grilla de 24x24 vistas por el jugador en un periodo de tiempo.\n",
    "\n",
    "17.-WorkersMade: Numero de SCVs, drones y probes producidos en un periodo de tiempo.\n",
    "\n",
    "18.- UniqueUnitsMade: Unidades unicas producidas en el periodo de prueba.\n",
    "\n",
    "19.- ComplexUnitsMade: Número de ghosts,infestors y high templars entrenados en el periodo de prueba.\n",
    "\n",
    "20.- ComplexAbilitiesUsed: Habiliides que requieren alguna instrucción con algun target especifico usadas en el periodo de prueba."
   ]
  },
  {
   "cell_type": "markdown",
   "id": "00fe1d6a",
   "metadata": {},
   "source": [
    " ##### A partir de la base de datos presentada se pretende realizar un estudio propuesto en clase."
   ]
  },
  {
   "cell_type": "markdown",
   "id": "63162f9d",
   "metadata": {},
   "source": [
    "La primera variable que resulta interesante estudiar corresponde al nivel de los jugadores que fueron integrados en este estudio por lo que tomaremos la variable LeagueIndex"
   ]
  },
  {
   "cell_type": "code",
   "execution_count": 72,
   "id": "9861d345",
   "metadata": {},
   "outputs": [
    {
     "data": {
      "image/png": "[encoded data removed]",
      "text/plain": [
       "<Figure size 432x288 with 1 Axes>"
      ]
     },
     "metadata": {
      "needs_background": "light"
     },
     "output_type": "display_data"
    }
   ],
   "source": [
    "# Observamos gráficamente la variable LeagueIndex\n",
    "df[\"LeagueIndex\"].plot.hist(bins=16,edgecolor=\"black\", grid=True, title=\"Medalla de los jugadores del estudio\")\n",
    "plt.xlabel(\"Medalla de los jugadores\")\n",
    "plt.ylabel(\"Cantidad de jugadores por medalla\")\n",
    "x=[1,2,3,4,5,6,7,8]\n",
    "medallas=[\"Bronze\",\"Silver\",\"Gold\",\"Platinum\",\"Diamond\",\"Master\",\"GrandMaster\",\"Professional\"]\n",
    "plt.xticks(x,medallas,rotation=45)\n",
    "plt.show()"
   ]
  },
  {
   "cell_type": "markdown",
   "id": "2c536836",
   "metadata": {},
   "source": [
    "Observamos como la distribución presentada anteriormente se comporta como distribución normal, es decir la mayor parte de los jugadores corresponden a las medallas a platinum y a diamond. A continuación es interesante ver cuan común es producir unidades dificiles de utilizar y quienes son los que más las utilizan."
   ]
  },
  {
   "cell_type": "code",
   "execution_count": 179,
   "id": "7350e238",
   "metadata": {},
   "outputs": [
    {
     "data": {
      "image/png": "[encoded data removed]",
      "text/plain": [
       "<Figure size 720x360 with 2 Axes>"
      ]
     },
     "metadata": {
      "needs_background": "light"
     },
     "output_type": "display_data"
    }
   ],
   "source": [
    "clasif_complex=df.groupby(\"LeagueIndex\").mean()[\"ComplexUnitsMade\"]\n",
    "fig, ax = plt.subplots(1, 2, figsize=(10,5))\n",
    "plt.subplot(1, 2, 1)\n",
    "df[\"ComplexUnitsMade\"].plot.hist(color=\"red\",bins=10,edgecolor=\"black\", grid=True, title=\"Cantidad de unidades complejas producidas\")\n",
    "plt.xlabel(\"Número de unidades complejas en periodo de prueba\")\n",
    "plt.ylabel(\"Frecuencia\")\n",
    "plt.subplot(1, 2, 2)\n",
    "clasif_complex.plot(color=\"red\",kind=\"bar\",title=\"Unidades complejas según medalla\",grid=True,edgecolor=\"black\")\n",
    "plt.xlabel(\"Medalla\")\n",
    "plt.ylabel(\"Cantidad de unidades complejas\")\n",
    "plt.xticks([0,1,2,3,4,5,6,7],medallas,rotation=45)\n",
    "plt.show()\n"
   ]
  },
  {
   "cell_type": "markdown",
   "id": "1f9d8874",
   "metadata": {},
   "source": [
    "1.-Observamos que la distribución de la cantidad de unidades complejas producidas(Ghost,infestor y High templar) no se puede representar como una normal debido a que la mayoria de los jugadores no produce estas unidades enfocandose en un juego global (macro management) antes que un juego de acciones individuales por unidades(micro management). podemos aventurarnos a que corresponde a la mitad de una campana de gauss pero dado que no existen valores negativos para la creación de unidades complejas, es decir no puedo crear menos de 0 unidades, diriamos que es una distribución mas parecida a una chi-cuadrada o exponencial.\n",
    "\n",
    "2.-Del segundo gráfico podemos observar que el nivel del jugador se condice con la cantidad de unidades de dificil manejo que se producen observando como entre Diamond y Grandmaster son las medallas donde más se producen de este tipo de unidades pero disminuyen en un nivel profesional."
   ]
  },
  {
   "cell_type": "markdown",
   "id": "94f2bdbb",
   "metadata": {},
   "source": [
    "### Cálculo de variables\n",
    "\n",
    "Realizaremos un cálculo de las variables númericas de interés para ambos casos"
   ]
  },
  {
   "cell_type": "code",
   "execution_count": 140,
   "id": "2e020f10",
   "metadata": {},
   "outputs": [
    {
     "name": "stdout",
     "output_type": "stream",
     "text": [
      "La media en este caso corresponde a: 4.184094256259205 y la mediana a: 4.0\n"
     ]
    }
   ],
   "source": [
    "#Caso de medalla de jugadores\n",
    "mediana_medalla=df[\"LeagueIndex\"].median()\n",
    "media_medalla=df[\"LeagueIndex\"].mean()\n",
    "print(\"La media en este caso corresponde a: {0} y la mediana a: {1}\".format(media_medalla,mediana_medalla))"
   ]
  },
  {
   "cell_type": "code",
   "execution_count": 141,
   "id": "077c7fee",
   "metadata": {},
   "outputs": [
    {
     "name": "stdout",
     "output_type": "stream",
     "text": [
      "La media en este caso corresponde a: 5.943273292835853e-05 y la mediana a: 0.0\n"
     ]
    }
   ],
   "source": [
    "#Caso de unidades complejas\n",
    "mediana_medalla=df[\"ComplexUnitsMade\"].median()\n",
    "media_medalla=df[\"ComplexUnitsMade\"].mean()\n",
    "print(\"La media en este caso corresponde a: {0} y la mediana a: {1}\".format(media_medalla,mediana_medalla))"
   ]
  },
  {
   "cell_type": "markdown",
   "id": "ce7f891d",
   "metadata": {},
   "source": [
    "Los resultados expuestos anteriormente nos permiten reafirmar las conclusiones expuestas anteriormente. En el caso de la medalla de los jugadores la media y la mediana se encuentran bastantes cercanas la una de la otra, sin ser iguales, lo cual lo acerca bastante a una de las propiedades de la distribución normal donde media==mediana.\n",
    "\n",
    "En el segundo caso observamos todo lo contrario, es decir, la media y la mediana difieren enormemente entre si por lo que no corresponde a una distribución normal."
   ]
  },
  {
   "cell_type": "markdown",
   "id": "61b4ff22",
   "metadata": {},
   "source": [
    "Finalmente para reforzar el estudio realizado podemos agregar otras variables estadísticas de interés."
   ]
  },
  {
   "cell_type": "code",
   "execution_count": 142,
   "id": "2e87658c",
   "metadata": {},
   "outputs": [
    {
     "data": {
      "text/plain": [
       "count    3395.000000\n",
       "mean        4.184094\n",
       "std         1.517327\n",
       "min         1.000000\n",
       "25%         3.000000\n",
       "50%         4.000000\n",
       "75%         5.000000\n",
       "max         8.000000\n",
       "Name: LeagueIndex, dtype: float64"
      ]
     },
     "execution_count": 142,
     "metadata": {},
     "output_type": "execute_result"
    }
   ],
   "source": [
    "df[\"LeagueIndex\"].describe()"
   ]
  },
  {
   "cell_type": "code",
   "execution_count": 143,
   "id": "b95f6d4b",
   "metadata": {},
   "outputs": [
    {
     "data": {
      "text/plain": [
       "count    3395.000000\n",
       "mean        0.000059\n",
       "std         0.000111\n",
       "min         0.000000\n",
       "25%         0.000000\n",
       "50%         0.000000\n",
       "75%         0.000086\n",
       "max         0.000902\n",
       "Name: ComplexUnitsMade, dtype: float64"
      ]
     },
     "execution_count": 143,
     "metadata": {},
     "output_type": "execute_result"
    }
   ],
   "source": [
    "df[\"ComplexUnitsMade\"].describe()"
   ]
  },
  {
   "cell_type": "markdown",
   "id": "2d35be1a",
   "metadata": {},
   "source": [
    "# Conclusiones parte 1\n",
    "\n",
    "A partir del estudio de la variable frecuencia de jugadores de acuerdo a la medalla y de la cantidad de unidades complejas realizadas podemos concluir lo siguiente:\n",
    "\n",
    "1.- La variable cantidad de jugadores por medalla nos muestra que tiene un comportamiento similar al normal, es decir, hay mas jugadores con carácteristicas de desempeño medias que bajas o profesionales. Además reafirmamos esta hipotesis al calcular variables estadisticas como la media y la mediana donde ambos valores entre sí eran muy cercanos.\n",
    "\n",
    "2.- La variable uso de unidades complejas en el periodo de medición a diferencia de la anterior tiene un comportamiento totalmente distinto a la normal, asemejandose mucho mas a una funcion de tipo exponencial o chi-cuadrado. Observamos que la media y la mediana difieren enormemente la una de la otra. Además observamos como se comportaba la cantidad de unidades complejas creadas durante las partidas de acuerdo a la medalla del jugador donde observamos que tanto a nivel amateur como profesional las unidades mas complejas son dejadas de lado, podemos suponer que en el caso de los amateur por la dificultad de uso y en el caso de los profesionales porque enfocan su esfuerzo a un estilo de juego enfocado en lo macro."
   ]
  },
  {
   "cell_type": "markdown",
   "id": "42c039a4",
   "metadata": {},
   "source": [
    "# Parte 2\n",
    "\n",
    "### Medidas de dispersión\n",
    "\n",
    "Continuando con el análisis univariado, calcule las medidas de dispersión. ( std , median, valores min, valores max, rango, cuártiles, rango intercuartil) de la variable que esta analizando en la primera parte.\n",
    "\n",
    "Realice los gráficos histplot y boxplot, realicé analisis y conclusiones.\n"
   ]
  },
  {
   "cell_type": "markdown",
   "id": "38b157ca",
   "metadata": {},
   "source": [
    "Para el siguiente análisis usaremos la variable de acciones por minuto (APM) y la cantidad de mapa explorado (TotalMapExplored) para ir explorando mas profundamente el comportamiento de los jugadores."
   ]
  },
  {
   "cell_type": "code",
   "execution_count": 177,
   "id": "15f2a491",
   "metadata": {},
   "outputs": [
    {
     "data": {
      "image/png": "[encoded data removed]",
      "text/plain": [
       "<Figure size 720x504 with 4 Axes>"
      ]
     },
     "metadata": {
      "needs_background": "light"
     },
     "output_type": "display_data"
    }
   ],
   "source": [
    "#Gráficos\n",
    "clasif_apm=df.groupby(\"LeagueIndex\").mean()[\"APM\"]\n",
    "clasif_map=df.groupby(\"LeagueIndex\").mean()[\"TotalMapExplored\"]\n",
    "fig, ax = plt.subplots(2, 2, figsize=(10,7))\n",
    "plt.subplot(2, 2, 1)\n",
    "df[\"APM\"].plot.hist(color=\"green\",bins=100,edgecolor=\"black\", grid=True, title=\"Acciones por minuto\")\n",
    "plt.subplot(2, 2, 2)\n",
    "df[\"TotalMapExplored\"].plot.hist(color=\"orange\",bins=53,edgecolor=\"black\", grid=True, title=\"Cantidad de mapa explorado\")\n",
    "#escogemos 53 debido a que corresponde al numero maximo 58 menos el minimo correspondiente a 5#\n",
    "\n",
    "plt.subplot(2, 2, 3)\n",
    "clasif_apm.plot(color=\"green\",kind=\"bar\",title=\"APM según medalla\",grid=True,edgecolor=\"black\")\n",
    "plt.xticks([0,1,2,3,4,5,6,7],medallas,rotation=45)\n",
    "plt.subplot(2, 2, 4)\n",
    "clasif_map.plot(color=\"orange\",kind=\"bar\",title=\"Exploración de mapa según medalla\",grid=True,edgecolor=\"black\")\n",
    "plt.xticks([0,1,2,3,4,5,6,7],medallas,rotation=45)\n",
    "plt.show()"
   ]
  },
  {
   "cell_type": "code",
   "execution_count": 161,
   "id": "615801c8",
   "metadata": {},
   "outputs": [
    {
     "data": {
      "text/plain": [
       "5"
      ]
     },
     "execution_count": 161,
     "metadata": {},
     "output_type": "execute_result"
    }
   ],
   "source": []
  },
  {
   "cell_type": "code",
   "execution_count": null,
   "id": "7d2e0311",
   "metadata": {},
   "outputs": [],
   "source": []
  }
 ],
 "metadata": {
  "kernelspec": {
   "display_name": "Python 3",
   "language": "python",
   "name": "python3"
  },
  "language_info": {
   "codemirror_mode": {
    "name": "ipython",
    "version": 3
   },
   "file_extension": ".py",
   "mimetype": "text/x-python",
   "name": "python",
   "nbconvert_exporter": "python",
   "pygments_lexer": "ipython3",
   "version": "3.8.8"
  }
 },
 "nbformat": 4,
 "nbformat_minor": 5
}

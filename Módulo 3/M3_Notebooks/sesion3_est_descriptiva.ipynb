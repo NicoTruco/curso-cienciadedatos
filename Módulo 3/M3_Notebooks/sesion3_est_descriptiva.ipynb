{
 "cells": [
  {
   "cell_type": "markdown",
   "id": "ee989934-7eb5-498c-9101-49536df1b364",
   "metadata": {},
   "source": [
    "# Estadística descriptiva"
   ]
  },
  {
   "cell_type": "code",
   "execution_count": null,
   "id": "affc0117-cae9-443e-bbd6-56811a5283eb",
   "metadata": {},
   "outputs": [],
   "source": [
    "%%file estadistica.py\n",
    "from numpy import array\n",
    "from numpy.random import normal, randint\n",
    "#Use List para crear un conjunto de datos\n",
    "data = [1, 2, 3]\n",
    "#Use ndarray para crear un conjunto de datos\n",
    "data = array([1, 2, 3])\n",
    "#Crear un conjunto de datos cuantitativos que obedezcan a una distribución normal\n",
    "data = normal(0, 10, size=1000) #(mu,omega) (-10,10) 0+-10\n",
    "#Crear un conjunto de datos cualitativos que se distribuyan uniformemente\n",
    "data = randint(1, 10, size=10)\n",
    "data"
   ]
  },
  {
   "cell_type": "markdown",
   "id": "5e54468f-da95-4d6f-b224-d823244294a8",
   "metadata": {},
   "source": [
    "## Medidas centrales"
   ]
  },
  {
   "cell_type": "code",
   "execution_count": null,
   "id": "64e0e804-5828-442f-83b1-e5636708fcc0",
   "metadata": {},
   "outputs": [],
   "source": [
    "from numpy import mean, median #media, mediana\n",
    " \n",
    "#Calcular la media\n",
    "print(mean(data))\n",
    "#Calcular la mediana\n",
    "print(median(data))"
   ]
  },
  {
   "cell_type": "markdown",
   "id": "582d4b1f-9f68-45f8-96a6-6c1f7a6a2e03",
   "metadata": {},
   "source": [
    "Para datos cualitativos"
   ]
  },
  {
   "cell_type": "code",
   "execution_count": null,
   "id": "c7808185-aa5f-45b1-a1b8-dfef8ec3e6ab",
   "metadata": {},
   "outputs": [],
   "source": [
    "from scipy.stats import mode\n",
    " \n",
    "#Calcular el modo\n",
    "mode(data)"
   ]
  },
  {
   "cell_type": "markdown",
   "id": "12da7a5a-6252-4ffb-b709-0ae27bb4e8e4",
   "metadata": {},
   "source": [
    "Después de comprender la ubicación central de los datos, generalmente queremos saber qué tan divergentes son los datos en función de la ubicación central. Si los nuevos datos se predicen desde la posición central, el grado de divergencia determina la precisión de la predicción. El grado de divergencia de datos se puede medir por rango (PTP), varianza (varianza), desviación estándar (STD) y coeficiente de variación (CV)\n",
    "\n",
    "El rango es un índice de divergencia que solo considera los valores máximo y mínimo. En términos relativos, la varianza contiene más información. La desviación estándar se basa en la varianza, pero la misma magnitud que los datos originales. El coeficiente de variación se basa en la desviación estándar pero es adimensional. Utilice NumPy para calcular el rango, la varianza, la desviación estándar y el coeficiente de variación"
   ]
  },
  {
   "cell_type": "code",
   "execution_count": null,
   "id": "d76c8057-9709-4c81-b465-f6e02fea9119",
   "metadata": {},
   "outputs": [],
   "source": [
    "from numpy import mean, ptp, var, std\n",
    " \n",
    "#  \n",
    "ptp(data)\n",
    "#diferencia\n",
    "var(data)\n",
    "#Desviación Estándar\n",
    "std(data)\n",
    "mean(data)\n",
    "#Coeficiente de variación\n",
    "mean(data) / std(data)"
   ]
  },
  {
   "cell_type": "code",
   "execution_count": null,
   "id": "b190260e-8a57-4b3b-9b93-0c2d64624dd0",
   "metadata": {},
   "outputs": [],
   "source": [
    "data1 = randint(100, 1000, size=10)\n",
    "data1\n",
    "mean(data1)"
   ]
  },
  {
   "cell_type": "code",
   "execution_count": null,
   "id": "b549a2d3-4f3e-46a9-824c-9a5dc8c0c490",
   "metadata": {},
   "outputs": [],
   "source": [
    "#Coeficiente de variación\n",
    "mean(data1) / std(data1)"
   ]
  },
  {
   "cell_type": "code",
   "execution_count": null,
   "id": "9e4ae80d-7041-4a1d-b113-c2348b7a2d9f",
   "metadata": {},
   "outputs": [],
   "source": [
    "import numpy \n",
    "numpy.mean(data)"
   ]
  },
  {
   "cell_type": "markdown",
   "id": "3f2c8da1-aaec-4088-9c3d-a31d6241f94a",
   "metadata": {},
   "source": [
    "# Grado de desviación z-score\n",
    "\n",
    "El valor medio se ve fácilmente afectado por valores atípicos, por lo que cómo medir la desviación y cuánta desviación se considera anormal son dos problemas que deben resolverse. Defina z-score (Z-Score) como el número de desviaciones estándar del valor medido de la media:"
   ]
  },
  {
   "cell_type": "code",
   "execution_count": null,
   "id": "03030dd4-9eb5-4456-aaec-d2ea890a049e",
   "metadata": {},
   "outputs": [],
   "source": [
    "from numpy import mean, std\n",
    " \n",
    "#Calcular la puntuación z del primer valor\n",
    "(data[0]-mean(data)) / std(data)"
   ]
  },
  {
   "cell_type": "markdown",
   "id": "74cdb60a-ddeb-48f1-9753-e8104c1f8409",
   "metadata": {},
   "source": [
    "## Análisis de frecuencias"
   ]
  },
  {
   "cell_type": "code",
   "execution_count": null,
   "id": "9d39b42b-5966-4bca-9e70-5af4f5fd4b5d",
   "metadata": {},
   "outputs": [],
   "source": [
    "from matplotlib import pyplot\n",
    "\n",
    "grades=['A', 'B', 'C', 'D', 'E','A', 'B', 'C', 'D', 'E','B', 'B', 'C', 'D', 'E','A', 'B', 'B', 'D', 'E']\n",
    "\n",
    "#Dibujando histograma\n",
    "def drawBar(grades):\n",
    "    xticks = ['A', 'B', 'C', 'D', 'E']\n",
    "    gradeGroup = {}\n",
    "   \n",
    "    # Estadísticas de frecuencia para cada categoría\n",
    "    for grade in grades:\n",
    "        gradeGroup[grade] = gradeGroup.get(grade, 0) + 1\n",
    "    #Crea un histograma\n",
    "    # El primer parámetro es la abscisa de la columna\n",
    "    # El segundo parámetro es la altura de la columna\n",
    "    #Parameter align es la alineación de la columna, y el primer parámetro es el estándar de referencia\n",
    "    pyplot.bar(range(5), [gradeGroup.get(xtick, 0) for xtick in xticks], align='center')\n",
    " \n",
    "    #Establecer la descripción de texto de la columna\n",
    "    # El primer parámetro es la abscisa de la descripción del texto\n",
    "    # El segundo parámetro es el contenido de la descripción del texto\n",
    "    pyplot.xticks(range(5), xticks)\n",
    " \n",
    "    #Establecer la descripción de texto de la abscisa\n",
    "    pyplot.xlabel('Grade')\n",
    "    #Establecer la descripción del texto de la ordenada\n",
    "    pyplot.ylabel('Frequency')\n",
    "    #Establecer título\n",
    "    pyplot.title('Grades Of Male Students')\n",
    "    #Dibujo\n",
    "    pyplot.show()\n",
    " \n",
    "drawBar(grades)"
   ]
  }
 ],
 "metadata": {
  "kernelspec": {
   "display_name": "Python 3",
   "language": "python",
   "name": "python3"
  },
  "language_info": {
   "codemirror_mode": {
    "name": "ipython",
    "version": 3
   },
   "file_extension": ".py",
   "mimetype": "text/x-python",
   "name": "python",
   "nbconvert_exporter": "python",
   "pygments_lexer": "ipython3",
   "version": "3.8.8"
  }
 },
 "nbformat": 4,
 "nbformat_minor": 5
}
